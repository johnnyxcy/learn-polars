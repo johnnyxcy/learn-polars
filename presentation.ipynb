{
 "cells": [
  {
   "cell_type": "markdown",
   "metadata": {},
   "source": [
    "# Polars 入门\n",
    "\n",
    "![Polars](https://raw.githubusercontent.com/pola-rs/polars-static/master/banner/polars_github_banner.svg)\n",
    "\n",
    "`Polars` 是一个用于数据操作的 Rust 库，它提供了类似于 `Pandas` 的 API，但是比 `Pandas` `更快。Polars` 也提供了其他运行时的包，可以在 Python/NodeJS 中使用 `Polars`。\n",
    "\n",
    "在这个笔记本中，我们将主要学习如何在 Python 中使用 `Polars`。NodeJS 接口基本一致，可以\n",
    "\n",
    "## 0. 安装\n",
    "\n",
    "### Python (via PyPI)\n",
    "\n",
    "```bash\n",
    "pip install polars\n",
    "```\n",
    "\n",
    "### NodeJS (via npm)\n",
    "\n",
    "```bash\n",
    "npm install nodejs-polars\n",
    "```\n"
   ]
  },
  {
   "cell_type": "code",
   "execution_count": 1,
   "metadata": {},
   "outputs": [],
   "source": [
    "import polars as pl\n",
    "import pandas as pd\n",
    "import dataclasses\n",
    "import ipywidgets as widgets\n",
    "import numpy as np\n",
    "\n",
    "np.random.seed(46)"
   ]
  },
  {
   "cell_type": "markdown",
   "metadata": {
    "vscode": {
     "languageId": "plaintext"
    }
   },
   "source": [
    "## 1. 初始化构造\n",
    "\n",
    "`Polars` 构造函数的入参中我们需要关注的一般只有两个，`data` 和 `schema`，可以理解为 `Pandas` 构造函数中的 `data` 和 `dtypes`。\n",
    "\n",
    "其中 `data` 支持 `dict`, `Sequence`, `ndarray`, `Series`, or `pandas.DataFrame`。与 `Pandas` 不同的是不支持从 `records`/`tuple` 构建的方式。\n"
   ]
  },
  {
   "cell_type": "code",
   "execution_count": 2,
   "metadata": {},
   "outputs": [
    {
     "data": {
      "text/html": [
       "<div>\n",
       "<style scoped>\n",
       "    .dataframe tbody tr th:only-of-type {\n",
       "        vertical-align: middle;\n",
       "    }\n",
       "\n",
       "    .dataframe tbody tr th {\n",
       "        vertical-align: top;\n",
       "    }\n",
       "\n",
       "    .dataframe thead th {\n",
       "        text-align: right;\n",
       "    }\n",
       "</style>\n",
       "<table border=\"1\" class=\"dataframe\">\n",
       "  <thead>\n",
       "    <tr style=\"text-align: right;\">\n",
       "      <th></th>\n",
       "      <th>x</th>\n",
       "      <th>y</th>\n",
       "      <th>z</th>\n",
       "    </tr>\n",
       "  </thead>\n",
       "  <tbody>\n",
       "    <tr>\n",
       "      <th>0</th>\n",
       "      <td>0.1</td>\n",
       "      <td>1</td>\n",
       "      <td>hello</td>\n",
       "    </tr>\n",
       "    <tr>\n",
       "      <th>1</th>\n",
       "      <td>0.2</td>\n",
       "      <td>2</td>\n",
       "      <td>pandas</td>\n",
       "    </tr>\n",
       "  </tbody>\n",
       "</table>\n",
       "</div>"
      ],
      "text/plain": [
       "     x  y       z\n",
       "0  0.1  1   hello\n",
       "1  0.2  2  pandas"
      ]
     },
     "execution_count": 2,
     "metadata": {},
     "output_type": "execute_result"
    }
   ],
   "source": [
    "@dataclasses.dataclass\n",
    "class Record:\n",
    "    x: float\n",
    "    y: int\n",
    "    z: str\n",
    "\n",
    "\n",
    "pd.DataFrame([Record(x=0.1, y=1, z=\"hello\"), Record(x=0.2, y=2, z=\"pandas\")])"
   ]
  },
  {
   "cell_type": "markdown",
   "metadata": {},
   "source": [
    "详细的构造函数签名可以参考 `DataFrame.__init__`\n"
   ]
  },
  {
   "cell_type": "code",
   "execution_count": 3,
   "metadata": {},
   "outputs": [
    {
     "name": "stdout",
     "output_type": "stream",
     "text": [
      "\n",
      "    Two-dimensional data structure representing data as a table with rows and columns.\n",
      "\n",
      "    Parameters\n",
      "    ----------\n",
      "    data : dict, Sequence, ndarray, Series, or pandas.DataFrame\n",
      "        Two-dimensional data in various forms; dict input must contain Sequences,\n",
      "        Generators, or a `range`. Sequence may contain Series or other Sequences.\n",
      "    schema : Sequence of str, (str,DataType) pairs, or a {str:DataType,} dict\n",
      "        The schema of the resulting DataFrame. The schema may be declared in several\n",
      "        ways:\n",
      "\n",
      "        * As a dict of {name:type} pairs; if type is None, it will be auto-inferred.\n",
      "        * As a list of column names; in this case types are automatically inferred.\n",
      "        * As a list of (name,type) pairs; this is equivalent to the dictionary form.\n",
      "\n",
      "        If you supply a list of column names that does not match the names in the\n",
      "        underlying data, the names given here will overwrite them. The number\n",
      "        of names given in the schema should match the underlying data dimensions.\n",
      "\n",
      "        If set to `None` (default), the schema is inferred from the data.\n",
      "    schema_overrides : dict, default None\n",
      "        Support type specification or override of one or more columns; note that\n",
      "        any dtypes inferred from the schema param will be overridden.\n",
      "\n",
      "        The number of entries in the schema should match the underlying data\n",
      "        dimensions, unless a sequence of dictionaries is being passed, in which case\n",
      "        a *partial* schema can be declared to prevent specific fields from being loaded.\n",
      "    strict : bool, default True\n",
      "        Throw an error if any `data` value does not exactly match the given or inferred\n",
      "        data type for that column. If set to `False`, values that do not match the data\n",
      "        type are cast to that data type or, if casting is not possible, set to null\n",
      "        instead.\n",
      "    orient : {'col', 'row'}, default None\n",
      "        Whether to interpret two-dimensional data as columns or as rows. If None,\n",
      "        the orientation is inferred by matching the columns and data dimensions. If\n",
      "        this does not yield conclusive results, column orientation is used.\n",
      "    infer_schema_length : int or None\n",
      "        The maximum number of rows to scan for schema inference. If set to `None`, the\n",
      "        full data may be scanned *(this can be slow)*. This parameter only applies if\n",
      "        the input data is a sequence or generator of rows; other input is read as-is.\n",
      "    nan_to_null : bool, default False\n",
      "        If the data comes from one or more numpy arrays, can optionally convert input\n",
      "        data np.nan values to null instead. This is a no-op for all other input data.\n",
      "\n",
      "    Notes\n",
      "    -----\n",
      "    Polars explicitly does not support subclassing of its core data types. See\n",
      "    the following GitHub issue for possible workarounds:\n",
      "    https://github.com/pola-rs/polars/issues/2846#issuecomment-1711799869\n",
      "\n",
      "    Examples\n",
      "    --------\n",
      "    Constructing a DataFrame from a dictionary:\n",
      "\n",
      "    >>> data = {\"a\": [1, 2], \"b\": [3, 4]}\n",
      "    >>> df = pl.DataFrame(data)\n",
      "    >>> df\n",
      "    shape: (2, 2)\n",
      "    ┌─────┬─────┐\n",
      "    │ a   ┆ b   │\n",
      "    │ --- ┆ --- │\n",
      "    │ i64 ┆ i64 │\n",
      "    ╞═════╪═════╡\n",
      "    │ 1   ┆ 3   │\n",
      "    │ 2   ┆ 4   │\n",
      "    └─────┴─────┘\n",
      "\n",
      "    Notice that the dtypes are automatically inferred as polars Int64:\n",
      "\n",
      "    >>> df.dtypes\n",
      "    [Int64, Int64]\n",
      "\n",
      "    To specify a more detailed/specific frame schema you can supply the `schema`\n",
      "    parameter with a dictionary of (name,dtype) pairs...\n",
      "\n",
      "    >>> data = {\"col1\": [0, 2], \"col2\": [3, 7]}\n",
      "    >>> df2 = pl.DataFrame(data, schema={\"col1\": pl.Float32, \"col2\": pl.Int64})\n",
      "    >>> df2\n",
      "    shape: (2, 2)\n",
      "    ┌──────┬──────┐\n",
      "    │ col1 ┆ col2 │\n",
      "    │ ---  ┆ ---  │\n",
      "    │ f32  ┆ i64  │\n",
      "    ╞══════╪══════╡\n",
      "    │ 0.0  ┆ 3    │\n",
      "    │ 2.0  ┆ 7    │\n",
      "    └──────┴──────┘\n",
      "\n",
      "    ...a sequence of (name,dtype) pairs...\n",
      "\n",
      "    >>> data = {\"col1\": [1, 2], \"col2\": [3, 4]}\n",
      "    >>> df3 = pl.DataFrame(data, schema=[(\"col1\", pl.Float32), (\"col2\", pl.Int64)])\n",
      "    >>> df3\n",
      "    shape: (2, 2)\n",
      "    ┌──────┬──────┐\n",
      "    │ col1 ┆ col2 │\n",
      "    │ ---  ┆ ---  │\n",
      "    │ f32  ┆ i64  │\n",
      "    ╞══════╪══════╡\n",
      "    │ 1.0  ┆ 3    │\n",
      "    │ 2.0  ┆ 4    │\n",
      "    └──────┴──────┘\n",
      "\n",
      "    ...or a list of typed Series.\n",
      "\n",
      "    >>> data = [\n",
      "    ...     pl.Series(\"col1\", [1, 2], dtype=pl.Float32),\n",
      "    ...     pl.Series(\"col2\", [3, 4], dtype=pl.Int64),\n",
      "    ... ]\n",
      "    >>> df4 = pl.DataFrame(data)\n",
      "    >>> df4\n",
      "    shape: (2, 2)\n",
      "    ┌──────┬──────┐\n",
      "    │ col1 ┆ col2 │\n",
      "    │ ---  ┆ ---  │\n",
      "    │ f32  ┆ i64  │\n",
      "    ╞══════╪══════╡\n",
      "    │ 1.0  ┆ 3    │\n",
      "    │ 2.0  ┆ 4    │\n",
      "    └──────┴──────┘\n",
      "\n",
      "    Constructing a DataFrame from a numpy ndarray, specifying column names:\n",
      "\n",
      "    >>> import numpy as np\n",
      "    >>> data = np.array([(1, 2), (3, 4)], dtype=np.int64)\n",
      "    >>> df5 = pl.DataFrame(data, schema=[\"a\", \"b\"], orient=\"col\")\n",
      "    >>> df5\n",
      "    shape: (2, 2)\n",
      "    ┌─────┬─────┐\n",
      "    │ a   ┆ b   │\n",
      "    │ --- ┆ --- │\n",
      "    │ i64 ┆ i64 │\n",
      "    ╞═════╪═════╡\n",
      "    │ 1   ┆ 3   │\n",
      "    │ 2   ┆ 4   │\n",
      "    └─────┴─────┘\n",
      "\n",
      "    Constructing a DataFrame from a list of lists, row orientation specified:\n",
      "\n",
      "    >>> data = [[1, 2, 3], [4, 5, 6]]\n",
      "    >>> df6 = pl.DataFrame(data, schema=[\"a\", \"b\", \"c\"], orient=\"row\")\n",
      "    >>> df6\n",
      "    shape: (2, 3)\n",
      "    ┌─────┬─────┬─────┐\n",
      "    │ a   ┆ b   ┆ c   │\n",
      "    │ --- ┆ --- ┆ --- │\n",
      "    │ i64 ┆ i64 ┆ i64 │\n",
      "    ╞═════╪═════╪═════╡\n",
      "    │ 1   ┆ 2   ┆ 3   │\n",
      "    │ 4   ┆ 5   ┆ 6   │\n",
      "    └─────┴─────┴─────┘\n",
      "    \n"
     ]
    }
   ],
   "source": [
    "print(pl.DataFrame.__doc__)"
   ]
  },
  {
   "cell_type": "code",
   "execution_count": 4,
   "metadata": {},
   "outputs": [
    {
     "data": {
      "text/html": [
       "<div><style>\n",
       ".dataframe > thead > tr,\n",
       ".dataframe > tbody > tr {\n",
       "  text-align: right;\n",
       "  white-space: pre-wrap;\n",
       "}\n",
       "</style>\n",
       "<small>shape: (3, 3)</small><table border=\"1\" class=\"dataframe\"><thead><tr><th>x</th><th>y</th><th>z</th></tr><tr><td>i64</td><td>null</td><td>str</td></tr></thead><tbody><tr><td>1</td><td>null</td><td>&quot;female&quot;</td></tr><tr><td>2</td><td>null</td><td>&quot;male&quot;</td></tr><tr><td>3</td><td>null</td><td>&quot;female&quot;</td></tr></tbody></table></div>"
      ],
      "text/plain": [
       "shape: (3, 3)\n",
       "┌─────┬──────┬────────┐\n",
       "│ x   ┆ y    ┆ z      │\n",
       "│ --- ┆ ---  ┆ ---    │\n",
       "│ i64 ┆ null ┆ str    │\n",
       "╞═════╪══════╪════════╡\n",
       "│ 1   ┆ null ┆ female │\n",
       "│ 2   ┆ null ┆ male   │\n",
       "│ 3   ┆ null ┆ female │\n",
       "└─────┴──────┴────────┘"
      ]
     },
     "execution_count": 4,
     "metadata": {},
     "output_type": "execute_result"
    }
   ],
   "source": [
    "# Simple\n",
    "pl.DataFrame(\n",
    "    {\n",
    "        \"x\": [1, 2, 3],\n",
    "        \"y\": None,\n",
    "        \"z\": [\"female\", \"male\", \"female\"],\n",
    "    }\n",
    ")"
   ]
  },
  {
   "cell_type": "markdown",
   "metadata": {},
   "source": [
    "`schema` 支持 `list[str]` / `list[tuple[str, pl.DataTypeClass]]` / `dict[str, pl.DataTypeClass]`，不支持从 `str` 构建类型\n",
    "\n",
    "> 某些情况下我们必须要从 `str` 构建类型的话可以采用 `polars` 提供的工具函数 `pl.datatypes.convert.dtype_to_ffiname`，具体见 [工具函数](#PolarsUtils)\n",
    "\n",
    "需要注意的是 `pl.Categorical` 和 `pl.Enum` 这两个类型，类似于 `pd.Categorical`，这两个类型都是代表分类变量的，但是区别在于\n",
    "\n",
    "1. `polars` 强制要求 `Categorical`/`Enum` 类型先是字符串类型，否则 `raise`\n",
    "2. Categorical 和 Enum 存在区别，`Categorical` 在构建时可以不指定分类级别，然而 Enum 必须要指定\n",
    "3. Categorical 支持通过字符序/出现先后顺序指定大小，Enum 通过指定的级别的索引指定大小\n"
   ]
  },
  {
   "cell_type": "code",
   "execution_count": 5,
   "metadata": {},
   "outputs": [
    {
     "name": "stdout",
     "output_type": "stream",
     "text": [
      "pl.Categorical\n",
      "================\n",
      "\n",
      "    A categorical encoding of a set of strings.\n",
      "\n",
      "    Parameters\n",
      "    ----------\n",
      "    ordering : {'lexical', 'physical'}\n",
      "        Ordering by order of appearance (`'physical'`, default)\n",
      "        or string value (`'lexical'`).\n",
      "    \n",
      "pl.Enum\n",
      "================\n",
      "\n",
      "    A fixed set categorical encoding of a set of strings.\n",
      "\n",
      "    .. warning::\n",
      "        This functionality is considered **unstable**.\n",
      "        It is a work-in-progress feature and may not always work as expected.\n",
      "        It may be changed at any point without it being considered a breaking change.\n",
      "\n",
      "    Parameters\n",
      "    ----------\n",
      "    categories\n",
      "        The categories in the dataset. Categories must be strings.\n",
      "    \n"
     ]
    }
   ],
   "source": [
    "print(\"pl.Categorical\")\n",
    "print(\"================\")\n",
    "print(pl.Categorical.__doc__)\n",
    "\n",
    "print(\"pl.Enum\")\n",
    "print(\"================\")\n",
    "print(pl.Enum.__doc__)"
   ]
  },
  {
   "cell_type": "code",
   "execution_count": 6,
   "metadata": {},
   "outputs": [
    {
     "data": {
      "text/html": [
       "<div><style>\n",
       ".dataframe > thead > tr,\n",
       ".dataframe > tbody > tr {\n",
       "  text-align: right;\n",
       "  white-space: pre-wrap;\n",
       "}\n",
       "</style>\n",
       "<small>shape: (4, 4)</small><table border=\"1\" class=\"dataframe\"><thead><tr><th>SEX</th><th>ID</th><th>WEIGHT</th><th>GROUP</th></tr><tr><td>cat</td><td>i8</td><td>f64</td><td>enum</td></tr></thead><tbody><tr><td>&quot;F&quot;</td><td>1</td><td>70.2</td><td>&quot;B&quot;</td></tr><tr><td>&quot;M&quot;</td><td>2</td><td>88.8</td><td>&quot;A&quot;</td></tr><tr><td>&quot;M&quot;</td><td>2</td><td>49.3</td><td>&quot;A&quot;</td></tr><tr><td>&quot;F&quot;</td><td>3</td><td>55.0</td><td>&quot;B&quot;</td></tr></tbody></table></div>"
      ],
      "text/plain": [
       "shape: (4, 4)\n",
       "┌─────┬─────┬────────┬───────┐\n",
       "│ SEX ┆ ID  ┆ WEIGHT ┆ GROUP │\n",
       "│ --- ┆ --- ┆ ---    ┆ ---   │\n",
       "│ cat ┆ i8  ┆ f64    ┆ enum  │\n",
       "╞═════╪═════╪════════╪═══════╡\n",
       "│ F   ┆ 1   ┆ 70.2   ┆ B     │\n",
       "│ M   ┆ 2   ┆ 88.8   ┆ A     │\n",
       "│ M   ┆ 2   ┆ 49.3   ┆ A     │\n",
       "│ F   ┆ 3   ┆ 55.0   ┆ B     │\n",
       "└─────┴─────┴────────┴───────┘"
      ]
     },
     "execution_count": 6,
     "metadata": {},
     "output_type": "execute_result"
    }
   ],
   "source": [
    "simple = pl.DataFrame(\n",
    "    {\n",
    "        \"SEX\": [\"F\", \"M\", \"M\", \"F\"],\n",
    "        \"ID\": [1, 2, 2, 3],\n",
    "        \"WEIGHT\": [70.2, 88.8, 49.3, 55],\n",
    "        \"GROUP\": [\"B\", \"A\", \"A\", \"B\"],\n",
    "    },\n",
    "    {\n",
    "        \"SEX\": pl.Categorical,\n",
    "        \"ID\": pl.Int8,\n",
    "        \"WEIGHT\": float,\n",
    "        \"GROUP\": pl.Enum([\"A\", \"B\"]),\n",
    "    },\n",
    ")\n",
    "simple_pandas = simple.to_pandas()\n",
    "simple\n"
   ]
  },
  {
   "cell_type": "markdown",
   "metadata": {},
   "source": [
    "## 2. 构成元素\n",
    "\n",
    "Polars 中的元素主要有 `DataFrame`， `Series`，`Expr`, 其中 `DataFrame` 和 `Series` 与 `Pandas` 中的 `DataFrame` 和 `Series` 类似，`Expr` 是 Polars 中的表达式，能够表示一些筛选/聚合的条件。与 pandas 不同的是 `Expr` 是 `lazy` 的，只有在需要的时候才会计算，而 pandas 是当场执行生成 boolean masked series/dataframe。对于巨量数据，pandas 的劣势相当明显\n"
   ]
  },
  {
   "cell_type": "code",
   "execution_count": 7,
   "metadata": {},
   "outputs": [],
   "source": [
    "N = 1_000_000\n",
    "maga_data = pl.DataFrame(\n",
    "    {\n",
    "        \"SEX\": np.random.choice([\"F\", \"M\"], N),\n",
    "        \"WEIGHT\": np.random.normal(60, 10, N),\n",
    "    }\n",
    ")\n",
    "maga_data_pandas = maga_data.to_pandas()"
   ]
  },
  {
   "cell_type": "code",
   "execution_count": 8,
   "metadata": {},
   "outputs": [
    {
     "name": "stdout",
     "output_type": "stream",
     "text": [
      "6.29 μs ± 1.77 μs per loop (mean ± std. dev. of 7 runs, 10 loops each)\n"
     ]
    }
   ],
   "source": [
    "%%timeit -n 10\n",
    "(pl.col(\"SEX\") == \"M\").and_(pl.col(\"WEIGHT\") > pl.col(\"WEIGHT\").mean())"
   ]
  },
  {
   "cell_type": "code",
   "execution_count": 9,
   "metadata": {},
   "outputs": [
    {
     "name": "stdout",
     "output_type": "stream",
     "text": [
      "1.92 ms ± 106 μs per loop (mean ± std. dev. of 7 runs, 10 loops each)\n"
     ]
    }
   ],
   "source": [
    "%%timeit -n 10\n",
    "maga_data.filter(\n",
    "    (pl.col(\"SEX\") == \"M\").and_(pl.col(\"WEIGHT\") > pl.col(\"WEIGHT\").mean())\n",
    ")"
   ]
  },
  {
   "cell_type": "code",
   "execution_count": 10,
   "metadata": {},
   "outputs": [
    {
     "name": "stdout",
     "output_type": "stream",
     "text": [
      "37.3 ms ± 1.05 ms per loop (mean ± std. dev. of 7 runs, 10 loops each)\n"
     ]
    }
   ],
   "source": [
    "%%timeit -n 10\n",
    "(maga_data_pandas[\"SEX\"] == \"M\") & (\n",
    "    maga_data_pandas[\"WEIGHT\"] > maga_data_pandas[\"WEIGHT\"].mean()\n",
    ")"
   ]
  },
  {
   "cell_type": "markdown",
   "metadata": {},
   "source": [
    "polars 的 `Expr` 非常的强大且语义性强，可以通过 `Expr` 构建复杂的筛选/聚合条件，而不需要使用 `lambda` 函数。多个条件可以通过 `and_(&)` 和 `or_(|)` 链接，同时也支持一系列的统计量计算，如 `sum`, `mean`, `std`, `var`, 等。\n"
   ]
  },
  {
   "cell_type": "code",
   "execution_count": 11,
   "metadata": {},
   "outputs": [
    {
     "data": {
      "application/vnd.jupyter.widget-view+json": {
       "model_id": "ea9b8dfb6b4241c2a62a08f98f179b1e",
       "version_major": 2,
       "version_minor": 0
      },
      "text/plain": [
       "Select(options=('deserialize', 'to_physical', 'any', 'all', 'arg_true', 'sqrt', 'cbrt', 'log10', 'exp', 'alias…"
      ]
     },
     "execution_count": 11,
     "metadata": {},
     "output_type": "execute_result"
    }
   ],
   "source": [
    "widgets.Select(\n",
    "    options=filter(lambda v: not v.startswith(\"_\"), pl.col(\"SEX\").__dir__()),\n",
    "    disabled=False,\n",
    "    rows=15,\n",
    ")"
   ]
  },
  {
   "cell_type": "code",
   "execution_count": 12,
   "metadata": {},
   "outputs": [
    {
     "data": {
      "text/html": [
       "[([(col(\"WEIGHT\")) > (col(\"WEIGHT\").quantile())]) & ([(col(\"SEX\")) == (String(M))])]"
      ],
      "text/plain": [
       "<Expr ['[([(col(\"WEIGHT\")) > (col(\"WEI…'] at 0x10E853310>"
      ]
     },
     "execution_count": 12,
     "metadata": {},
     "output_type": "execute_result"
    }
   ],
   "source": [
    "# 体重大于 25% 分位数的男性\n",
    "(pl.col(\"WEIGHT\") > pl.col(\"WEIGHT\").quantile(0.25)).and_(pl.col(\"SEX\") == \"M\")"
   ]
  },
  {
   "cell_type": "code",
   "execution_count": 13,
   "metadata": {},
   "outputs": [
    {
     "data": {
      "text/html": [
       "[([([(col(\"AGE\")) < (col(\"AGE\").median())]) & ([([(col(\"INCOME\")) + (col(\"SIDE_INCOME\"))]) > ([(col(\"INCOME\")) + (col(\"SIDE_INCOME\"))].quantile())])]) & ([([([(col(\"STUDY_ABROAD\")) == (String(Y))]) & ([(col(\"MARRIED\")) == (String(N))])]) | ([([(col(\"STUDY_ABROAD\")) == (String(N))]) & ([(col(\"MARRIED\")) == (String(Y))])])])]"
      ],
      "text/plain": [
       "<Expr ['[([([(col(\"AGE\")) < (col(\"AGE\"…'] at 0x10E8527A0>"
      ]
     },
     "execution_count": 13,
     "metadata": {},
     "output_type": "execute_result"
    }
   ],
   "source": [
    "# 年龄小于中位数，年收入和副业收入的总和大于 90% 分位数，要么有留学经历但未婚，要么没有留学经历但已婚\n",
    "(\n",
    "    (pl.col(\"AGE\") < pl.col(\"AGE\").median())\n",
    "    & (\n",
    "        pl.col(\"INCOME\") + pl.col(\"SIDE_INCOME\")\n",
    "        > pl.col(\"INCOME\").add(pl.col(\"SIDE_INCOME\")).quantile(0.9)\n",
    "    )\n",
    "    & (\n",
    "        ((pl.col(\"STUDY_ABROAD\") == \"Y\") & (pl.col(\"MARRIED\") == \"N\"))\n",
    "        | ((pl.col(\"STUDY_ABROAD\") == \"N\") & (pl.col(\"MARRIED\") == \"Y\"))\n",
    "    )\n",
    ")"
   ]
  },
  {
   "cell_type": "markdown",
   "metadata": {},
   "source": [
    "## 3. 数据处理\n",
    "\n",
    "`polars` 和 `pandas` 最大的区别（或者说我最关心的差异）是 `polars` 的所有数据处理都会返回一份拷贝，而 `pandas` 会返回视图。这样的设计使得 `polars` 更加安全，同时由于 Rust 原生的 Ownership 机制，使得 `polars` 的性能并不会收到太大影响。同时这样的特性可以有效的帮助开发者避免一些潜在的错误，特别是在一些存在数据处理，但是并不想影响原数据的情况下，如多线程环境，函数式编程，底层算法等。\n"
   ]
  },
  {
   "cell_type": "code",
   "execution_count": 14,
   "metadata": {},
   "outputs": [],
   "source": [
    "example = {\n",
    "    \"a\": [1, 2, 3, 4, 5],\n",
    "    \"b\": [5.5, 4.4, 3.3, 2.2, 1.1],\n",
    "    \"c\": [\"a\", \"b\", \"c\", \"d\", \"e\"],\n",
    "}\n",
    "example_pl = pl.DataFrame(example)\n",
    "example_pd = pd.DataFrame(example)\n"
   ]
  },
  {
   "cell_type": "code",
   "execution_count": 15,
   "metadata": {},
   "outputs": [],
   "source": [
    "def some_func(df: pl.DataFrame | pd.DataFrame) -> None:\n",
    "    df[\"a\"] = 123"
   ]
  },
  {
   "cell_type": "code",
   "execution_count": 16,
   "metadata": {},
   "outputs": [
    {
     "data": {
      "text/html": [
       "<div>\n",
       "<style scoped>\n",
       "    .dataframe tbody tr th:only-of-type {\n",
       "        vertical-align: middle;\n",
       "    }\n",
       "\n",
       "    .dataframe tbody tr th {\n",
       "        vertical-align: top;\n",
       "    }\n",
       "\n",
       "    .dataframe thead th {\n",
       "        text-align: right;\n",
       "    }\n",
       "</style>\n",
       "<table border=\"1\" class=\"dataframe\">\n",
       "  <thead>\n",
       "    <tr style=\"text-align: right;\">\n",
       "      <th></th>\n",
       "      <th>a</th>\n",
       "      <th>b</th>\n",
       "      <th>c</th>\n",
       "    </tr>\n",
       "  </thead>\n",
       "  <tbody>\n",
       "    <tr>\n",
       "      <th>0</th>\n",
       "      <td>123</td>\n",
       "      <td>5.5</td>\n",
       "      <td>a</td>\n",
       "    </tr>\n",
       "    <tr>\n",
       "      <th>1</th>\n",
       "      <td>123</td>\n",
       "      <td>4.4</td>\n",
       "      <td>b</td>\n",
       "    </tr>\n",
       "    <tr>\n",
       "      <th>2</th>\n",
       "      <td>123</td>\n",
       "      <td>3.3</td>\n",
       "      <td>c</td>\n",
       "    </tr>\n",
       "    <tr>\n",
       "      <th>3</th>\n",
       "      <td>123</td>\n",
       "      <td>2.2</td>\n",
       "      <td>d</td>\n",
       "    </tr>\n",
       "    <tr>\n",
       "      <th>4</th>\n",
       "      <td>123</td>\n",
       "      <td>1.1</td>\n",
       "      <td>e</td>\n",
       "    </tr>\n",
       "  </tbody>\n",
       "</table>\n",
       "</div>"
      ],
      "text/plain": [
       "     a    b  c\n",
       "0  123  5.5  a\n",
       "1  123  4.4  b\n",
       "2  123  3.3  c\n",
       "3  123  2.2  d\n",
       "4  123  1.1  e"
      ]
     },
     "execution_count": 16,
     "metadata": {},
     "output_type": "execute_result"
    }
   ],
   "source": [
    "some_func(example_pd)\n",
    "example_pd  # Changed！很危险"
   ]
  },
  {
   "cell_type": "code",
   "execution_count": 17,
   "metadata": {},
   "outputs": [
    {
     "ename": "TypeError",
     "evalue": "DataFrame object does not support `Series` assignment by index\n\nUse `DataFrame.with_columns`.",
     "output_type": "error",
     "traceback": [
      "\u001b[0;31m---------------------------------------------------------------------------\u001b[0m",
      "\u001b[0;31mTypeError\u001b[0m                                 Traceback (most recent call last)",
      "\u001b[0;32m/var/folders/2_/bpcv27316gj3zrn3lmyn8qv00000gn/T/ipykernel_1821/936436694.py\u001b[0m in \u001b[0;36m?\u001b[0;34m()\u001b[0m\n\u001b[1;32m      1\u001b[0m \u001b[0;31m# 会报错，赞 👍\u001b[0m\u001b[0;34m\u001b[0m\u001b[0;34m\u001b[0m\u001b[0m\n\u001b[0;32m----> 2\u001b[0;31m \u001b[0msome_func\u001b[0m\u001b[0;34m(\u001b[0m\u001b[0mexample_pl\u001b[0m\u001b[0;34m)\u001b[0m\u001b[0;34m\u001b[0m\u001b[0;34m\u001b[0m\u001b[0m\n\u001b[0m",
      "\u001b[0;32m/var/folders/2_/bpcv27316gj3zrn3lmyn8qv00000gn/T/ipykernel_1821/3826693680.py\u001b[0m in \u001b[0;36m?\u001b[0;34m(df)\u001b[0m\n\u001b[1;32m      1\u001b[0m \u001b[0;32mdef\u001b[0m \u001b[0msome_func\u001b[0m\u001b[0;34m(\u001b[0m\u001b[0mdf\u001b[0m\u001b[0;34m:\u001b[0m \u001b[0mpl\u001b[0m\u001b[0;34m.\u001b[0m\u001b[0mDataFrame\u001b[0m \u001b[0;34m|\u001b[0m \u001b[0mpd\u001b[0m\u001b[0;34m.\u001b[0m\u001b[0mDataFrame\u001b[0m\u001b[0;34m)\u001b[0m \u001b[0;34m->\u001b[0m \u001b[0;32mNone\u001b[0m\u001b[0;34m:\u001b[0m\u001b[0;34m\u001b[0m\u001b[0;34m\u001b[0m\u001b[0m\n\u001b[0;32m----> 2\u001b[0;31m     \u001b[0mdf\u001b[0m\u001b[0;34m[\u001b[0m\u001b[0;34m\"a\"\u001b[0m\u001b[0;34m]\u001b[0m \u001b[0;34m=\u001b[0m \u001b[0;36m123\u001b[0m\u001b[0;34m\u001b[0m\u001b[0;34m\u001b[0m\u001b[0m\n\u001b[0m",
      "\u001b[0;32m~/Workspace/mas/tutorial/polars-intro/.venv/lib/python3.10/site-packages/polars/dataframe/frame.py\u001b[0m in \u001b[0;36m?\u001b[0;34m(self, key, value)\u001b[0m\n\u001b[1;32m   1207\u001b[0m             msg = (\n\u001b[1;32m   1208\u001b[0m                 \u001b[0;34m\"DataFrame object does not support `Series` assignment by index\"\u001b[0m\u001b[0;34m\u001b[0m\u001b[0;34m\u001b[0m\u001b[0m\n\u001b[1;32m   1209\u001b[0m                 \u001b[0;34m\"\\n\\nUse `DataFrame.with_columns`.\"\u001b[0m\u001b[0;34m\u001b[0m\u001b[0;34m\u001b[0m\u001b[0m\n\u001b[1;32m   1210\u001b[0m             )\n\u001b[0;32m-> 1211\u001b[0;31m             \u001b[0;32mraise\u001b[0m \u001b[0mTypeError\u001b[0m\u001b[0;34m(\u001b[0m\u001b[0mmsg\u001b[0m\u001b[0;34m)\u001b[0m\u001b[0;34m\u001b[0m\u001b[0;34m\u001b[0m\u001b[0m\n\u001b[0m\u001b[1;32m   1212\u001b[0m \u001b[0;34m\u001b[0m\u001b[0m\n\u001b[1;32m   1213\u001b[0m         \u001b[0;31m# df[[\"C\", \"D\"]]\u001b[0m\u001b[0;34m\u001b[0m\u001b[0;34m\u001b[0m\u001b[0m\n\u001b[1;32m   1214\u001b[0m         \u001b[0;32melif\u001b[0m \u001b[0misinstance\u001b[0m\u001b[0;34m(\u001b[0m\u001b[0mkey\u001b[0m\u001b[0;34m,\u001b[0m \u001b[0mlist\u001b[0m\u001b[0;34m)\u001b[0m\u001b[0;34m:\u001b[0m\u001b[0;34m\u001b[0m\u001b[0;34m\u001b[0m\u001b[0m\n",
      "\u001b[0;31mTypeError\u001b[0m: DataFrame object does not support `Series` assignment by index\n\nUse `DataFrame.with_columns`."
     ]
    }
   ],
   "source": [
    "%%capture\n",
    "# 会报错，赞 👍\n",
    "some_func(example_pl)"
   ]
  },
  {
   "cell_type": "markdown",
   "metadata": {},
   "source": [
    "使用 `polars` 数据处理和 R 的 `dplyr` 风格很相似，可以通过 `DataFrame` 的方法链式调用，或者通过 `pl` 模块提供的函数式编程接口。大部分的方法和 SQL 中的操作是一一对应的，如 `select`, `filter`, `groupby`, `join`, `sort`, `agg`, `pivot`, `explode` 等等。本文档会主要介绍一些常用的方法。具体更多的方法和函数接口可以参考 [Python API 文档](https://docs.pola.rs/api/python/stable/reference/dataframe/modify_select.html) 或者 [NodeJS API 文档](https://pola-rs.github.io/nodejs-polars/interfaces/pl.DataFrame-1.html)。\n"
   ]
  },
  {
   "cell_type": "code",
   "execution_count": 18,
   "metadata": {},
   "outputs": [
    {
     "data": {
      "text/html": [
       "<div><style>\n",
       ".dataframe > thead > tr,\n",
       ".dataframe > tbody > tr {\n",
       "  text-align: right;\n",
       "  white-space: pre-wrap;\n",
       "}\n",
       "</style>\n",
       "<small>shape: (10, 15)</small><table border=\"1\" class=\"dataframe\"><thead><tr><th>StudentID</th><th>Age</th><th>Gender</th><th>Ethnicity</th><th>ParentalEducation</th><th>StudyTimeWeekly</th><th>Absences</th><th>Tutoring</th><th>ParentalSupport</th><th>Extracurricular</th><th>Sports</th><th>Music</th><th>Volunteering</th><th>GPA</th><th>GradeClass</th></tr><tr><td>i64</td><td>i64</td><td>i64</td><td>i64</td><td>i64</td><td>f64</td><td>i64</td><td>i64</td><td>i64</td><td>i64</td><td>i64</td><td>i64</td><td>i64</td><td>f64</td><td>f64</td></tr></thead><tbody><tr><td>1001</td><td>17</td><td>1</td><td>0</td><td>2</td><td>19.833723</td><td>7</td><td>1</td><td>2</td><td>0</td><td>0</td><td>1</td><td>0</td><td>2.929196</td><td>2.0</td></tr><tr><td>1002</td><td>18</td><td>0</td><td>0</td><td>1</td><td>15.408756</td><td>0</td><td>0</td><td>1</td><td>0</td><td>0</td><td>0</td><td>0</td><td>3.042915</td><td>1.0</td></tr><tr><td>1003</td><td>15</td><td>0</td><td>2</td><td>3</td><td>4.21057</td><td>26</td><td>0</td><td>2</td><td>0</td><td>0</td><td>0</td><td>0</td><td>0.112602</td><td>4.0</td></tr><tr><td>1004</td><td>17</td><td>1</td><td>0</td><td>3</td><td>10.028829</td><td>14</td><td>0</td><td>3</td><td>1</td><td>0</td><td>0</td><td>0</td><td>2.054218</td><td>3.0</td></tr><tr><td>1005</td><td>17</td><td>1</td><td>0</td><td>2</td><td>4.672495</td><td>17</td><td>1</td><td>3</td><td>0</td><td>0</td><td>0</td><td>0</td><td>1.288061</td><td>4.0</td></tr><tr><td>1006</td><td>18</td><td>0</td><td>0</td><td>1</td><td>8.191219</td><td>0</td><td>0</td><td>1</td><td>1</td><td>0</td><td>0</td><td>0</td><td>3.084184</td><td>1.0</td></tr><tr><td>1007</td><td>15</td><td>0</td><td>1</td><td>1</td><td>15.60168</td><td>10</td><td>0</td><td>3</td><td>0</td><td>1</td><td>0</td><td>0</td><td>2.748237</td><td>2.0</td></tr><tr><td>1008</td><td>15</td><td>1</td><td>1</td><td>4</td><td>15.424496</td><td>22</td><td>1</td><td>1</td><td>1</td><td>0</td><td>0</td><td>0</td><td>1.360143</td><td>4.0</td></tr><tr><td>1009</td><td>17</td><td>0</td><td>0</td><td>0</td><td>4.562008</td><td>1</td><td>0</td><td>2</td><td>0</td><td>1</td><td>0</td><td>1</td><td>2.896819</td><td>2.0</td></tr><tr><td>1010</td><td>16</td><td>1</td><td>0</td><td>1</td><td>18.444466</td><td>0</td><td>0</td><td>3</td><td>1</td><td>0</td><td>0</td><td>0</td><td>3.573474</td><td>0.0</td></tr></tbody></table></div>"
      ],
      "text/plain": [
       "shape: (10, 15)\n",
       "┌───────────┬─────┬────────┬───────────┬───┬───────┬──────────────┬──────────┬────────────┐\n",
       "│ StudentID ┆ Age ┆ Gender ┆ Ethnicity ┆ … ┆ Music ┆ Volunteering ┆ GPA      ┆ GradeClass │\n",
       "│ ---       ┆ --- ┆ ---    ┆ ---       ┆   ┆ ---   ┆ ---          ┆ ---      ┆ ---        │\n",
       "│ i64       ┆ i64 ┆ i64    ┆ i64       ┆   ┆ i64   ┆ i64          ┆ f64      ┆ f64        │\n",
       "╞═══════════╪═════╪════════╪═══════════╪═══╪═══════╪══════════════╪══════════╪════════════╡\n",
       "│ 1001      ┆ 17  ┆ 1      ┆ 0         ┆ … ┆ 1     ┆ 0            ┆ 2.929196 ┆ 2.0        │\n",
       "│ 1002      ┆ 18  ┆ 0      ┆ 0         ┆ … ┆ 0     ┆ 0            ┆ 3.042915 ┆ 1.0        │\n",
       "│ 1003      ┆ 15  ┆ 0      ┆ 2         ┆ … ┆ 0     ┆ 0            ┆ 0.112602 ┆ 4.0        │\n",
       "│ 1004      ┆ 17  ┆ 1      ┆ 0         ┆ … ┆ 0     ┆ 0            ┆ 2.054218 ┆ 3.0        │\n",
       "│ 1005      ┆ 17  ┆ 1      ┆ 0         ┆ … ┆ 0     ┆ 0            ┆ 1.288061 ┆ 4.0        │\n",
       "│ 1006      ┆ 18  ┆ 0      ┆ 0         ┆ … ┆ 0     ┆ 0            ┆ 3.084184 ┆ 1.0        │\n",
       "│ 1007      ┆ 15  ┆ 0      ┆ 1         ┆ … ┆ 0     ┆ 0            ┆ 2.748237 ┆ 2.0        │\n",
       "│ 1008      ┆ 15  ┆ 1      ┆ 1         ┆ … ┆ 0     ┆ 0            ┆ 1.360143 ┆ 4.0        │\n",
       "│ 1009      ┆ 17  ┆ 0      ┆ 0         ┆ … ┆ 0     ┆ 1            ┆ 2.896819 ┆ 2.0        │\n",
       "│ 1010      ┆ 16  ┆ 1      ┆ 0         ┆ … ┆ 0     ┆ 0            ┆ 3.573474 ┆ 0.0        │\n",
       "└───────────┴─────┴────────┴───────────┴───┴───────┴──────────────┴──────────┴────────────┘"
      ]
     },
     "execution_count": 18,
     "metadata": {},
     "output_type": "execute_result"
    }
   ],
   "source": [
    "student_performance = pl.read_csv(\"data/StudentPerformance.csv\")\n",
    "student_performance.head(10)"
   ]
  },
  {
   "cell_type": "markdown",
   "metadata": {},
   "source": [
    "### 3.1 类型 cast\n",
    "\n",
    "`polars` 提供了 `cast` 方法用于类型转换，需要注意的是数值类型转 Categorical / Enum 类型时，需要先转为字符串类型。\n"
   ]
  },
  {
   "cell_type": "code",
   "execution_count": 19,
   "metadata": {},
   "outputs": [
    {
     "ename": "ComputeError",
     "evalue": "cannot cast numeric types to 'Categorical'",
     "output_type": "error",
     "traceback": [
      "\u001b[0;31m---------------------------------------------------------------------------\u001b[0m",
      "\u001b[0;31mComputeError\u001b[0m                              Traceback (most recent call last)",
      "Cell \u001b[0;32mIn[19], line 2\u001b[0m\n\u001b[1;32m      1\u001b[0m \u001b[38;5;66;03m# 报错，Gender 原来是 i64，现在是 Categorical，需要先转 String\u001b[39;00m\n\u001b[0;32m----> 2\u001b[0m student_performance \u001b[38;5;241m=\u001b[39m \u001b[43mstudent_performance\u001b[49m\u001b[38;5;241;43m.\u001b[39;49m\u001b[43mcast\u001b[49m\u001b[43m(\u001b[49m\n\u001b[1;32m      3\u001b[0m \u001b[43m    \u001b[49m\u001b[43m{\u001b[49m\n\u001b[1;32m      4\u001b[0m \u001b[43m        \u001b[49m\u001b[38;5;124;43m\"\u001b[39;49m\u001b[38;5;124;43mGender\u001b[39;49m\u001b[38;5;124;43m\"\u001b[39;49m\u001b[43m:\u001b[49m\u001b[43m \u001b[49m\u001b[43mpl\u001b[49m\u001b[38;5;241;43m.\u001b[39;49m\u001b[43mCategorical\u001b[49m\u001b[43m,\u001b[49m\n\u001b[1;32m      5\u001b[0m \u001b[43m    \u001b[49m\u001b[43m}\u001b[49m\n\u001b[1;32m      6\u001b[0m \u001b[43m)\u001b[49m\n",
      "File \u001b[0;32m~/Workspace/mas/tutorial/polars-intro/.venv/lib/python3.10/site-packages/polars/dataframe/frame.py:7364\u001b[0m, in \u001b[0;36mDataFrame.cast\u001b[0;34m(self, dtypes, strict)\u001b[0m\n\u001b[1;32m   7282\u001b[0m \u001b[38;5;28;01mdef\u001b[39;00m \u001b[38;5;21mcast\u001b[39m(\n\u001b[1;32m   7283\u001b[0m     \u001b[38;5;28mself\u001b[39m,\n\u001b[1;32m   7284\u001b[0m     dtypes: (\n\u001b[0;32m   (...)\u001b[0m\n\u001b[1;32m   7289\u001b[0m     strict: \u001b[38;5;28mbool\u001b[39m \u001b[38;5;241m=\u001b[39m \u001b[38;5;28;01mTrue\u001b[39;00m,\n\u001b[1;32m   7290\u001b[0m ) \u001b[38;5;241m-\u001b[39m\u001b[38;5;241m>\u001b[39m DataFrame:\n\u001b[1;32m   7291\u001b[0m \u001b[38;5;250m    \u001b[39m\u001b[38;5;124;03m\"\"\"\u001b[39;00m\n\u001b[1;32m   7292\u001b[0m \u001b[38;5;124;03m    Cast DataFrame column(s) to the specified dtype(s).\u001b[39;00m\n\u001b[1;32m   7293\u001b[0m \n\u001b[0;32m   (...)\u001b[0m\n\u001b[1;32m   7362\u001b[0m \u001b[38;5;124;03m     'ham': ['2020-01-02', '2021-03-04', '2022-05-06']}\u001b[39;00m\n\u001b[1;32m   7363\u001b[0m \u001b[38;5;124;03m    \"\"\"\u001b[39;00m\n\u001b[0;32m-> 7364\u001b[0m     \u001b[38;5;28;01mreturn\u001b[39;00m \u001b[38;5;28;43mself\u001b[39;49m\u001b[38;5;241;43m.\u001b[39;49m\u001b[43mlazy\u001b[49m\u001b[43m(\u001b[49m\u001b[43m)\u001b[49m\u001b[38;5;241;43m.\u001b[39;49m\u001b[43mcast\u001b[49m\u001b[43m(\u001b[49m\u001b[43mdtypes\u001b[49m\u001b[43m,\u001b[49m\u001b[43m \u001b[49m\u001b[43mstrict\u001b[49m\u001b[38;5;241;43m=\u001b[39;49m\u001b[43mstrict\u001b[49m\u001b[43m)\u001b[49m\u001b[38;5;241;43m.\u001b[39;49m\u001b[43mcollect\u001b[49m\u001b[43m(\u001b[49m\u001b[43m_eager\u001b[49m\u001b[38;5;241;43m=\u001b[39;49m\u001b[38;5;28;43;01mTrue\u001b[39;49;00m\u001b[43m)\u001b[49m\n",
      "File \u001b[0;32m~/Workspace/mas/tutorial/polars-intro/.venv/lib/python3.10/site-packages/polars/lazyframe/frame.py:2026\u001b[0m, in \u001b[0;36mLazyFrame.collect\u001b[0;34m(self, type_coercion, predicate_pushdown, projection_pushdown, simplify_expression, slice_pushdown, comm_subplan_elim, comm_subexpr_elim, cluster_with_columns, no_optimization, streaming, engine, background, _eager, **_kwargs)\u001b[0m\n\u001b[1;32m   2024\u001b[0m \u001b[38;5;66;03m# Only for testing purposes\u001b[39;00m\n\u001b[1;32m   2025\u001b[0m callback \u001b[38;5;241m=\u001b[39m _kwargs\u001b[38;5;241m.\u001b[39mget(\u001b[38;5;124m\"\u001b[39m\u001b[38;5;124mpost_opt_callback\u001b[39m\u001b[38;5;124m\"\u001b[39m, callback)\n\u001b[0;32m-> 2026\u001b[0m \u001b[38;5;28;01mreturn\u001b[39;00m wrap_df(\u001b[43mldf\u001b[49m\u001b[38;5;241;43m.\u001b[39;49m\u001b[43mcollect\u001b[49m\u001b[43m(\u001b[49m\u001b[43mcallback\u001b[49m\u001b[43m)\u001b[49m)\n",
      "\u001b[0;31mComputeError\u001b[0m: cannot cast numeric types to 'Categorical'"
     ]
    }
   ],
   "source": [
    "%%capture\n",
    "# 报错，Gender 原来是 i64，现在是 Categorical，需要先转 String\n",
    "student_performance = student_performance.cast(\n",
    "    {\n",
    "        \"Gender\": pl.Categorical,\n",
    "    }\n",
    ")"
   ]
  },
  {
   "cell_type": "code",
   "execution_count": 20,
   "metadata": {},
   "outputs": [
    {
     "data": {
      "text/html": [
       "<div><style>\n",
       ".dataframe > thead > tr,\n",
       ".dataframe > tbody > tr {\n",
       "  text-align: right;\n",
       "  white-space: pre-wrap;\n",
       "}\n",
       "</style>\n",
       "<small>shape: (2_392, 15)</small><table border=\"1\" class=\"dataframe\"><thead><tr><th>StudentID</th><th>Age</th><th>Gender</th><th>Ethnicity</th><th>ParentalEducation</th><th>StudyTimeWeekly</th><th>Absences</th><th>Tutoring</th><th>ParentalSupport</th><th>Extracurricular</th><th>Sports</th><th>Music</th><th>Volunteering</th><th>GPA</th><th>GradeClass</th></tr><tr><td>i64</td><td>i64</td><td>enum</td><td>i64</td><td>i64</td><td>f64</td><td>i64</td><td>i64</td><td>i64</td><td>i64</td><td>i64</td><td>i64</td><td>i64</td><td>f64</td><td>f64</td></tr></thead><tbody><tr><td>1001</td><td>17</td><td>&quot;1&quot;</td><td>0</td><td>2</td><td>19.833723</td><td>7</td><td>1</td><td>2</td><td>0</td><td>0</td><td>1</td><td>0</td><td>2.929196</td><td>2.0</td></tr><tr><td>1002</td><td>18</td><td>&quot;0&quot;</td><td>0</td><td>1</td><td>15.408756</td><td>0</td><td>0</td><td>1</td><td>0</td><td>0</td><td>0</td><td>0</td><td>3.042915</td><td>1.0</td></tr><tr><td>1003</td><td>15</td><td>&quot;0&quot;</td><td>2</td><td>3</td><td>4.21057</td><td>26</td><td>0</td><td>2</td><td>0</td><td>0</td><td>0</td><td>0</td><td>0.112602</td><td>4.0</td></tr><tr><td>1004</td><td>17</td><td>&quot;1&quot;</td><td>0</td><td>3</td><td>10.028829</td><td>14</td><td>0</td><td>3</td><td>1</td><td>0</td><td>0</td><td>0</td><td>2.054218</td><td>3.0</td></tr><tr><td>1005</td><td>17</td><td>&quot;1&quot;</td><td>0</td><td>2</td><td>4.672495</td><td>17</td><td>1</td><td>3</td><td>0</td><td>0</td><td>0</td><td>0</td><td>1.288061</td><td>4.0</td></tr><tr><td>&hellip;</td><td>&hellip;</td><td>&hellip;</td><td>&hellip;</td><td>&hellip;</td><td>&hellip;</td><td>&hellip;</td><td>&hellip;</td><td>&hellip;</td><td>&hellip;</td><td>&hellip;</td><td>&hellip;</td><td>&hellip;</td><td>&hellip;</td><td>&hellip;</td></tr><tr><td>3388</td><td>18</td><td>&quot;1&quot;</td><td>0</td><td>3</td><td>10.680555</td><td>2</td><td>0</td><td>4</td><td>1</td><td>0</td><td>0</td><td>0</td><td>3.455509</td><td>0.0</td></tr><tr><td>3389</td><td>17</td><td>&quot;0&quot;</td><td>0</td><td>1</td><td>7.583217</td><td>4</td><td>1</td><td>4</td><td>0</td><td>1</td><td>0</td><td>0</td><td>3.27915</td><td>4.0</td></tr><tr><td>3390</td><td>16</td><td>&quot;1&quot;</td><td>0</td><td>2</td><td>6.8055</td><td>20</td><td>0</td><td>2</td><td>0</td><td>0</td><td>0</td><td>1</td><td>1.142333</td><td>2.0</td></tr><tr><td>3391</td><td>16</td><td>&quot;1&quot;</td><td>1</td><td>0</td><td>12.416653</td><td>17</td><td>0</td><td>2</td><td>0</td><td>1</td><td>1</td><td>0</td><td>1.803297</td><td>1.0</td></tr><tr><td>3392</td><td>16</td><td>&quot;1&quot;</td><td>0</td><td>2</td><td>17.819907</td><td>13</td><td>0</td><td>2</td><td>0</td><td>0</td><td>0</td><td>1</td><td>2.140014</td><td>1.0</td></tr></tbody></table></div>"
      ],
      "text/plain": [
       "shape: (2_392, 15)\n",
       "┌───────────┬─────┬────────┬───────────┬───┬───────┬──────────────┬──────────┬────────────┐\n",
       "│ StudentID ┆ Age ┆ Gender ┆ Ethnicity ┆ … ┆ Music ┆ Volunteering ┆ GPA      ┆ GradeClass │\n",
       "│ ---       ┆ --- ┆ ---    ┆ ---       ┆   ┆ ---   ┆ ---          ┆ ---      ┆ ---        │\n",
       "│ i64       ┆ i64 ┆ enum   ┆ i64       ┆   ┆ i64   ┆ i64          ┆ f64      ┆ f64        │\n",
       "╞═══════════╪═════╪════════╪═══════════╪═══╪═══════╪══════════════╪══════════╪════════════╡\n",
       "│ 1001      ┆ 17  ┆ 1      ┆ 0         ┆ … ┆ 1     ┆ 0            ┆ 2.929196 ┆ 2.0        │\n",
       "│ 1002      ┆ 18  ┆ 0      ┆ 0         ┆ … ┆ 0     ┆ 0            ┆ 3.042915 ┆ 1.0        │\n",
       "│ 1003      ┆ 15  ┆ 0      ┆ 2         ┆ … ┆ 0     ┆ 0            ┆ 0.112602 ┆ 4.0        │\n",
       "│ 1004      ┆ 17  ┆ 1      ┆ 0         ┆ … ┆ 0     ┆ 0            ┆ 2.054218 ┆ 3.0        │\n",
       "│ 1005      ┆ 17  ┆ 1      ┆ 0         ┆ … ┆ 0     ┆ 0            ┆ 1.288061 ┆ 4.0        │\n",
       "│ …         ┆ …   ┆ …      ┆ …         ┆ … ┆ …     ┆ …            ┆ …        ┆ …          │\n",
       "│ 3388      ┆ 18  ┆ 1      ┆ 0         ┆ … ┆ 0     ┆ 0            ┆ 3.455509 ┆ 0.0        │\n",
       "│ 3389      ┆ 17  ┆ 0      ┆ 0         ┆ … ┆ 0     ┆ 0            ┆ 3.27915  ┆ 4.0        │\n",
       "│ 3390      ┆ 16  ┆ 1      ┆ 0         ┆ … ┆ 0     ┆ 1            ┆ 1.142333 ┆ 2.0        │\n",
       "│ 3391      ┆ 16  ┆ 1      ┆ 1         ┆ … ┆ 1     ┆ 0            ┆ 1.803297 ┆ 1.0        │\n",
       "│ 3392      ┆ 16  ┆ 1      ┆ 0         ┆ … ┆ 0     ┆ 1            ┆ 2.140014 ┆ 1.0        │\n",
       "└───────────┴─────┴────────┴───────────┴───┴───────┴──────────────┴──────────┴────────────┘"
      ]
     },
     "execution_count": 20,
     "metadata": {},
     "output_type": "execute_result"
    }
   ],
   "source": [
    "student_performance = student_performance.cast({\"Gender\": pl.String}).cast(\n",
    "    {\"Gender\": pl.Enum([\"0\", \"1\"])}\n",
    ")\n",
    "student_performance"
   ]
  },
  {
   "cell_type": "markdown",
   "metadata": {},
   "source": [
    "`cast` 接口也支持类型的映射，如 `cast({pl.Float64: pl.String})`，这样可以一次性转换多列的类型。\n"
   ]
  },
  {
   "cell_type": "code",
   "execution_count": 21,
   "metadata": {},
   "outputs": [
    {
     "data": {
      "text/html": [
       "<div><style>\n",
       ".dataframe > thead > tr,\n",
       ".dataframe > tbody > tr {\n",
       "  text-align: right;\n",
       "  white-space: pre-wrap;\n",
       "}\n",
       "</style>\n",
       "<small>shape: (2_392, 15)</small><table border=\"1\" class=\"dataframe\"><thead><tr><th>StudentID</th><th>Age</th><th>Gender</th><th>Ethnicity</th><th>ParentalEducation</th><th>StudyTimeWeekly</th><th>Absences</th><th>Tutoring</th><th>ParentalSupport</th><th>Extracurricular</th><th>Sports</th><th>Music</th><th>Volunteering</th><th>GPA</th><th>GradeClass</th></tr><tr><td>i64</td><td>i64</td><td>enum</td><td>i64</td><td>i64</td><td>str</td><td>i64</td><td>i64</td><td>i64</td><td>i64</td><td>i64</td><td>i64</td><td>i64</td><td>str</td><td>str</td></tr></thead><tbody><tr><td>1001</td><td>17</td><td>&quot;1&quot;</td><td>0</td><td>2</td><td>&quot;19.833722807854713&quot;</td><td>7</td><td>1</td><td>2</td><td>0</td><td>0</td><td>1</td><td>0</td><td>&quot;2.929195591667681&quot;</td><td>&quot;2.0&quot;</td></tr><tr><td>1002</td><td>18</td><td>&quot;0&quot;</td><td>0</td><td>1</td><td>&quot;15.40875605584674&quot;</td><td>0</td><td>0</td><td>1</td><td>0</td><td>0</td><td>0</td><td>0</td><td>&quot;3.042914833436377&quot;</td><td>&quot;1.0&quot;</td></tr><tr><td>1003</td><td>15</td><td>&quot;0&quot;</td><td>2</td><td>3</td><td>&quot;4.21056976881226&quot;</td><td>26</td><td>0</td><td>2</td><td>0</td><td>0</td><td>0</td><td>0</td><td>&quot;0.1126022544661815&quot;</td><td>&quot;4.0&quot;</td></tr><tr><td>1004</td><td>17</td><td>&quot;1&quot;</td><td>0</td><td>3</td><td>&quot;10.028829473958215&quot;</td><td>14</td><td>0</td><td>3</td><td>1</td><td>0</td><td>0</td><td>0</td><td>&quot;2.0542181397029484&quot;</td><td>&quot;3.0&quot;</td></tr><tr><td>1005</td><td>17</td><td>&quot;1&quot;</td><td>0</td><td>2</td><td>&quot;4.6724952729713305&quot;</td><td>17</td><td>1</td><td>3</td><td>0</td><td>0</td><td>0</td><td>0</td><td>&quot;1.2880611817953875&quot;</td><td>&quot;4.0&quot;</td></tr><tr><td>&hellip;</td><td>&hellip;</td><td>&hellip;</td><td>&hellip;</td><td>&hellip;</td><td>&hellip;</td><td>&hellip;</td><td>&hellip;</td><td>&hellip;</td><td>&hellip;</td><td>&hellip;</td><td>&hellip;</td><td>&hellip;</td><td>&hellip;</td><td>&hellip;</td></tr><tr><td>3388</td><td>18</td><td>&quot;1&quot;</td><td>0</td><td>3</td><td>&quot;10.680554607694354&quot;</td><td>2</td><td>0</td><td>4</td><td>1</td><td>0</td><td>0</td><td>0</td><td>&quot;3.4555094110343934&quot;</td><td>&quot;0.0&quot;</td></tr><tr><td>3389</td><td>17</td><td>&quot;0&quot;</td><td>0</td><td>1</td><td>&quot;7.583217279598868&quot;</td><td>4</td><td>1</td><td>4</td><td>0</td><td>1</td><td>0</td><td>0</td><td>&quot;3.2791497270250276&quot;</td><td>&quot;4.0&quot;</td></tr><tr><td>3390</td><td>16</td><td>&quot;1&quot;</td><td>0</td><td>2</td><td>&quot;6.8054996446806175&quot;</td><td>20</td><td>0</td><td>2</td><td>0</td><td>0</td><td>0</td><td>1</td><td>&quot;1.142332879526157&quot;</td><td>&quot;2.0&quot;</td></tr><tr><td>3391</td><td>16</td><td>&quot;1&quot;</td><td>1</td><td>0</td><td>&quot;12.416652655483858&quot;</td><td>17</td><td>0</td><td>2</td><td>0</td><td>1</td><td>1</td><td>0</td><td>&quot;1.8032967626292098&quot;</td><td>&quot;1.0&quot;</td></tr><tr><td>3392</td><td>16</td><td>&quot;1&quot;</td><td>0</td><td>2</td><td>&quot;17.819907492885296&quot;</td><td>13</td><td>0</td><td>2</td><td>0</td><td>0</td><td>0</td><td>1</td><td>&quot;2.1400138778043982&quot;</td><td>&quot;1.0&quot;</td></tr></tbody></table></div>"
      ],
      "text/plain": [
       "shape: (2_392, 15)\n",
       "┌───────────┬─────┬────────┬───────────┬───┬───────┬──────────────┬───────────────────┬────────────┐\n",
       "│ StudentID ┆ Age ┆ Gender ┆ Ethnicity ┆ … ┆ Music ┆ Volunteering ┆ GPA               ┆ GradeClass │\n",
       "│ ---       ┆ --- ┆ ---    ┆ ---       ┆   ┆ ---   ┆ ---          ┆ ---               ┆ ---        │\n",
       "│ i64       ┆ i64 ┆ enum   ┆ i64       ┆   ┆ i64   ┆ i64          ┆ str               ┆ str        │\n",
       "╞═══════════╪═════╪════════╪═══════════╪═══╪═══════╪══════════════╪═══════════════════╪════════════╡\n",
       "│ 1001      ┆ 17  ┆ 1      ┆ 0         ┆ … ┆ 1     ┆ 0            ┆ 2.929195591667681 ┆ 2.0        │\n",
       "│ 1002      ┆ 18  ┆ 0      ┆ 0         ┆ … ┆ 0     ┆ 0            ┆ 3.042914833436377 ┆ 1.0        │\n",
       "│ 1003      ┆ 15  ┆ 0      ┆ 2         ┆ … ┆ 0     ┆ 0            ┆ 0.112602254466181 ┆ 4.0        │\n",
       "│           ┆     ┆        ┆           ┆   ┆       ┆              ┆ 5                 ┆            │\n",
       "│ 1004      ┆ 17  ┆ 1      ┆ 0         ┆ … ┆ 0     ┆ 0            ┆ 2.054218139702948 ┆ 3.0        │\n",
       "│           ┆     ┆        ┆           ┆   ┆       ┆              ┆ 4                 ┆            │\n",
       "│ 1005      ┆ 17  ┆ 1      ┆ 0         ┆ … ┆ 0     ┆ 0            ┆ 1.288061181795387 ┆ 4.0        │\n",
       "│           ┆     ┆        ┆           ┆   ┆       ┆              ┆ 5                 ┆            │\n",
       "│ …         ┆ …   ┆ …      ┆ …         ┆ … ┆ …     ┆ …            ┆ …                 ┆ …          │\n",
       "│ 3388      ┆ 18  ┆ 1      ┆ 0         ┆ … ┆ 0     ┆ 0            ┆ 3.455509411034393 ┆ 0.0        │\n",
       "│           ┆     ┆        ┆           ┆   ┆       ┆              ┆ 4                 ┆            │\n",
       "│ 3389      ┆ 17  ┆ 0      ┆ 0         ┆ … ┆ 0     ┆ 0            ┆ 3.279149727025027 ┆ 4.0        │\n",
       "│           ┆     ┆        ┆           ┆   ┆       ┆              ┆ 6                 ┆            │\n",
       "│ 3390      ┆ 16  ┆ 1      ┆ 0         ┆ … ┆ 0     ┆ 1            ┆ 1.142332879526157 ┆ 2.0        │\n",
       "│ 3391      ┆ 16  ┆ 1      ┆ 1         ┆ … ┆ 1     ┆ 0            ┆ 1.803296762629209 ┆ 1.0        │\n",
       "│           ┆     ┆        ┆           ┆   ┆       ┆              ┆ 8                 ┆            │\n",
       "│ 3392      ┆ 16  ┆ 1      ┆ 0         ┆ … ┆ 0     ┆ 1            ┆ 2.140013877804398 ┆ 1.0        │\n",
       "│           ┆     ┆        ┆           ┆   ┆       ┆              ┆ 2                 ┆            │\n",
       "└───────────┴─────┴────────┴───────────┴───┴───────┴──────────────┴───────────────────┴────────────┘"
      ]
     },
     "execution_count": 21,
     "metadata": {},
     "output_type": "execute_result"
    }
   ],
   "source": [
    "student_performance.cast({pl.Float64: pl.String})"
   ]
  },
  {
   "cell_type": "markdown",
   "metadata": {},
   "source": [
    "### 3.2 列选择\n",
    "\n",
    "在数据处理中，我们经常需要选择一部分列进行处理，`polars` 提供了 `select` 方法来实现这个功能。当然可以直接通过 `operator[]` 来选择列\n"
   ]
  },
  {
   "cell_type": "code",
   "execution_count": 22,
   "metadata": {},
   "outputs": [
    {
     "data": {
      "text/html": [
       "<div><style>\n",
       ".dataframe > thead > tr,\n",
       ".dataframe > tbody > tr {\n",
       "  text-align: right;\n",
       "  white-space: pre-wrap;\n",
       "}\n",
       "</style>\n",
       "<small>shape: (2_392,)</small><table border=\"1\" class=\"dataframe\"><thead><tr><th>Music</th></tr><tr><td>i64</td></tr></thead><tbody><tr><td>1</td></tr><tr><td>0</td></tr><tr><td>0</td></tr><tr><td>0</td></tr><tr><td>0</td></tr><tr><td>&hellip;</td></tr><tr><td>0</td></tr><tr><td>0</td></tr><tr><td>0</td></tr><tr><td>1</td></tr><tr><td>0</td></tr></tbody></table></div>"
      ],
      "text/plain": [
       "shape: (2_392,)\n",
       "Series: 'Music' [i64]\n",
       "[\n",
       "\t1\n",
       "\t0\n",
       "\t0\n",
       "\t0\n",
       "\t0\n",
       "\t…\n",
       "\t0\n",
       "\t0\n",
       "\t0\n",
       "\t1\n",
       "\t0\n",
       "]"
      ]
     },
     "execution_count": 22,
     "metadata": {},
     "output_type": "execute_result"
    }
   ],
   "source": [
    "student_performance[\"Music\"]"
   ]
  },
  {
   "cell_type": "code",
   "execution_count": 23,
   "metadata": {},
   "outputs": [
    {
     "data": {
      "text/html": [
       "<div><style>\n",
       ".dataframe > thead > tr,\n",
       ".dataframe > tbody > tr {\n",
       "  text-align: right;\n",
       "  white-space: pre-wrap;\n",
       "}\n",
       "</style>\n",
       "<small>shape: (2_392, 15)</small><table border=\"1\" class=\"dataframe\"><thead><tr><th>StudentID</th><th>Age</th><th>Gender</th><th>Ethnicity</th><th>ParentalEducation</th><th>StudyTimeWeekly</th><th>Absences</th><th>Tutoring</th><th>ParentalSupport</th><th>Extracurricular</th><th>Sports</th><th>Music</th><th>Volunteering</th><th>GPA</th><th>GradeClass</th></tr><tr><td>i64</td><td>i64</td><td>enum</td><td>i64</td><td>i64</td><td>f64</td><td>i64</td><td>i64</td><td>i64</td><td>i64</td><td>i64</td><td>i64</td><td>i64</td><td>f64</td><td>f64</td></tr></thead><tbody><tr><td>1001</td><td>17</td><td>&quot;1&quot;</td><td>0</td><td>2</td><td>19.833723</td><td>7</td><td>1</td><td>2</td><td>0</td><td>0</td><td>1</td><td>0</td><td>2.929196</td><td>2.0</td></tr><tr><td>1002</td><td>18</td><td>&quot;0&quot;</td><td>0</td><td>1</td><td>15.408756</td><td>0</td><td>0</td><td>1</td><td>0</td><td>0</td><td>0</td><td>0</td><td>3.042915</td><td>1.0</td></tr><tr><td>1003</td><td>15</td><td>&quot;0&quot;</td><td>2</td><td>3</td><td>4.21057</td><td>26</td><td>0</td><td>2</td><td>0</td><td>0</td><td>0</td><td>0</td><td>0.112602</td><td>4.0</td></tr><tr><td>1004</td><td>17</td><td>&quot;1&quot;</td><td>0</td><td>3</td><td>10.028829</td><td>14</td><td>0</td><td>3</td><td>1</td><td>0</td><td>0</td><td>0</td><td>2.054218</td><td>3.0</td></tr><tr><td>1005</td><td>17</td><td>&quot;1&quot;</td><td>0</td><td>2</td><td>4.672495</td><td>17</td><td>1</td><td>3</td><td>0</td><td>0</td><td>0</td><td>0</td><td>1.288061</td><td>4.0</td></tr><tr><td>&hellip;</td><td>&hellip;</td><td>&hellip;</td><td>&hellip;</td><td>&hellip;</td><td>&hellip;</td><td>&hellip;</td><td>&hellip;</td><td>&hellip;</td><td>&hellip;</td><td>&hellip;</td><td>&hellip;</td><td>&hellip;</td><td>&hellip;</td><td>&hellip;</td></tr><tr><td>3388</td><td>18</td><td>&quot;1&quot;</td><td>0</td><td>3</td><td>10.680555</td><td>2</td><td>0</td><td>4</td><td>1</td><td>0</td><td>0</td><td>0</td><td>3.455509</td><td>0.0</td></tr><tr><td>3389</td><td>17</td><td>&quot;0&quot;</td><td>0</td><td>1</td><td>7.583217</td><td>4</td><td>1</td><td>4</td><td>0</td><td>1</td><td>0</td><td>0</td><td>3.27915</td><td>4.0</td></tr><tr><td>3390</td><td>16</td><td>&quot;1&quot;</td><td>0</td><td>2</td><td>6.8055</td><td>20</td><td>0</td><td>2</td><td>0</td><td>0</td><td>0</td><td>1</td><td>1.142333</td><td>2.0</td></tr><tr><td>3391</td><td>16</td><td>&quot;1&quot;</td><td>1</td><td>0</td><td>12.416653</td><td>17</td><td>0</td><td>2</td><td>0</td><td>1</td><td>1</td><td>0</td><td>1.803297</td><td>1.0</td></tr><tr><td>3392</td><td>16</td><td>&quot;1&quot;</td><td>0</td><td>2</td><td>17.819907</td><td>13</td><td>0</td><td>2</td><td>0</td><td>0</td><td>0</td><td>1</td><td>2.140014</td><td>1.0</td></tr></tbody></table></div>"
      ],
      "text/plain": [
       "shape: (2_392, 15)\n",
       "┌───────────┬─────┬────────┬───────────┬───┬───────┬──────────────┬──────────┬────────────┐\n",
       "│ StudentID ┆ Age ┆ Gender ┆ Ethnicity ┆ … ┆ Music ┆ Volunteering ┆ GPA      ┆ GradeClass │\n",
       "│ ---       ┆ --- ┆ ---    ┆ ---       ┆   ┆ ---   ┆ ---          ┆ ---      ┆ ---        │\n",
       "│ i64       ┆ i64 ┆ enum   ┆ i64       ┆   ┆ i64   ┆ i64          ┆ f64      ┆ f64        │\n",
       "╞═══════════╪═════╪════════╪═══════════╪═══╪═══════╪══════════════╪══════════╪════════════╡\n",
       "│ 1001      ┆ 17  ┆ 1      ┆ 0         ┆ … ┆ 1     ┆ 0            ┆ 2.929196 ┆ 2.0        │\n",
       "│ 1002      ┆ 18  ┆ 0      ┆ 0         ┆ … ┆ 0     ┆ 0            ┆ 3.042915 ┆ 1.0        │\n",
       "│ 1003      ┆ 15  ┆ 0      ┆ 2         ┆ … ┆ 0     ┆ 0            ┆ 0.112602 ┆ 4.0        │\n",
       "│ 1004      ┆ 17  ┆ 1      ┆ 0         ┆ … ┆ 0     ┆ 0            ┆ 2.054218 ┆ 3.0        │\n",
       "│ 1005      ┆ 17  ┆ 1      ┆ 0         ┆ … ┆ 0     ┆ 0            ┆ 1.288061 ┆ 4.0        │\n",
       "│ …         ┆ …   ┆ …      ┆ …         ┆ … ┆ …     ┆ …            ┆ …        ┆ …          │\n",
       "│ 3388      ┆ 18  ┆ 1      ┆ 0         ┆ … ┆ 0     ┆ 0            ┆ 3.455509 ┆ 0.0        │\n",
       "│ 3389      ┆ 17  ┆ 0      ┆ 0         ┆ … ┆ 0     ┆ 0            ┆ 3.27915  ┆ 4.0        │\n",
       "│ 3390      ┆ 16  ┆ 1      ┆ 0         ┆ … ┆ 0     ┆ 1            ┆ 1.142333 ┆ 2.0        │\n",
       "│ 3391      ┆ 16  ┆ 1      ┆ 1         ┆ … ┆ 1     ┆ 0            ┆ 1.803297 ┆ 1.0        │\n",
       "│ 3392      ┆ 16  ┆ 1      ┆ 0         ┆ … ┆ 0     ┆ 1            ┆ 2.140014 ┆ 1.0        │\n",
       "└───────────┴─────┴────────┴───────────┴───┴───────┴──────────────┴──────────┴────────────┘"
      ]
     },
     "execution_count": 23,
     "metadata": {},
     "output_type": "execute_result"
    }
   ],
   "source": [
    "# 全选\n",
    "student_performance.select(pl.all())"
   ]
  },
  {
   "cell_type": "code",
   "execution_count": 24,
   "metadata": {},
   "outputs": [
    {
     "data": {
      "text/html": [
       "<div><style>\n",
       ".dataframe > thead > tr,\n",
       ".dataframe > tbody > tr {\n",
       "  text-align: right;\n",
       "  white-space: pre-wrap;\n",
       "}\n",
       "</style>\n",
       "<small>shape: (2_392, 14)</small><table border=\"1\" class=\"dataframe\"><thead><tr><th>StudentID</th><th>Age</th><th>Ethnicity</th><th>ParentalEducation</th><th>StudyTimeWeekly</th><th>Absences</th><th>Tutoring</th><th>ParentalSupport</th><th>Extracurricular</th><th>Sports</th><th>Music</th><th>Volunteering</th><th>GPA</th><th>GradeClass</th></tr><tr><td>i64</td><td>i64</td><td>i64</td><td>i64</td><td>f64</td><td>i64</td><td>i64</td><td>i64</td><td>i64</td><td>i64</td><td>i64</td><td>i64</td><td>f64</td><td>f64</td></tr></thead><tbody><tr><td>1001</td><td>17</td><td>0</td><td>2</td><td>19.833723</td><td>7</td><td>1</td><td>2</td><td>0</td><td>0</td><td>1</td><td>0</td><td>2.929196</td><td>2.0</td></tr><tr><td>1002</td><td>18</td><td>0</td><td>1</td><td>15.408756</td><td>0</td><td>0</td><td>1</td><td>0</td><td>0</td><td>0</td><td>0</td><td>3.042915</td><td>1.0</td></tr><tr><td>1003</td><td>15</td><td>2</td><td>3</td><td>4.21057</td><td>26</td><td>0</td><td>2</td><td>0</td><td>0</td><td>0</td><td>0</td><td>0.112602</td><td>4.0</td></tr><tr><td>1004</td><td>17</td><td>0</td><td>3</td><td>10.028829</td><td>14</td><td>0</td><td>3</td><td>1</td><td>0</td><td>0</td><td>0</td><td>2.054218</td><td>3.0</td></tr><tr><td>1005</td><td>17</td><td>0</td><td>2</td><td>4.672495</td><td>17</td><td>1</td><td>3</td><td>0</td><td>0</td><td>0</td><td>0</td><td>1.288061</td><td>4.0</td></tr><tr><td>&hellip;</td><td>&hellip;</td><td>&hellip;</td><td>&hellip;</td><td>&hellip;</td><td>&hellip;</td><td>&hellip;</td><td>&hellip;</td><td>&hellip;</td><td>&hellip;</td><td>&hellip;</td><td>&hellip;</td><td>&hellip;</td><td>&hellip;</td></tr><tr><td>3388</td><td>18</td><td>0</td><td>3</td><td>10.680555</td><td>2</td><td>0</td><td>4</td><td>1</td><td>0</td><td>0</td><td>0</td><td>3.455509</td><td>0.0</td></tr><tr><td>3389</td><td>17</td><td>0</td><td>1</td><td>7.583217</td><td>4</td><td>1</td><td>4</td><td>0</td><td>1</td><td>0</td><td>0</td><td>3.27915</td><td>4.0</td></tr><tr><td>3390</td><td>16</td><td>0</td><td>2</td><td>6.8055</td><td>20</td><td>0</td><td>2</td><td>0</td><td>0</td><td>0</td><td>1</td><td>1.142333</td><td>2.0</td></tr><tr><td>3391</td><td>16</td><td>1</td><td>0</td><td>12.416653</td><td>17</td><td>0</td><td>2</td><td>0</td><td>1</td><td>1</td><td>0</td><td>1.803297</td><td>1.0</td></tr><tr><td>3392</td><td>16</td><td>0</td><td>2</td><td>17.819907</td><td>13</td><td>0</td><td>2</td><td>0</td><td>0</td><td>0</td><td>1</td><td>2.140014</td><td>1.0</td></tr></tbody></table></div>"
      ],
      "text/plain": [
       "shape: (2_392, 14)\n",
       "┌───────────┬─────┬───────────┬─────────────────┬───┬───────┬──────────────┬──────────┬────────────┐\n",
       "│ StudentID ┆ Age ┆ Ethnicity ┆ ParentalEducati ┆ … ┆ Music ┆ Volunteering ┆ GPA      ┆ GradeClass │\n",
       "│ ---       ┆ --- ┆ ---       ┆ on              ┆   ┆ ---   ┆ ---          ┆ ---      ┆ ---        │\n",
       "│ i64       ┆ i64 ┆ i64       ┆ ---             ┆   ┆ i64   ┆ i64          ┆ f64      ┆ f64        │\n",
       "│           ┆     ┆           ┆ i64             ┆   ┆       ┆              ┆          ┆            │\n",
       "╞═══════════╪═════╪═══════════╪═════════════════╪═══╪═══════╪══════════════╪══════════╪════════════╡\n",
       "│ 1001      ┆ 17  ┆ 0         ┆ 2               ┆ … ┆ 1     ┆ 0            ┆ 2.929196 ┆ 2.0        │\n",
       "│ 1002      ┆ 18  ┆ 0         ┆ 1               ┆ … ┆ 0     ┆ 0            ┆ 3.042915 ┆ 1.0        │\n",
       "│ 1003      ┆ 15  ┆ 2         ┆ 3               ┆ … ┆ 0     ┆ 0            ┆ 0.112602 ┆ 4.0        │\n",
       "│ 1004      ┆ 17  ┆ 0         ┆ 3               ┆ … ┆ 0     ┆ 0            ┆ 2.054218 ┆ 3.0        │\n",
       "│ 1005      ┆ 17  ┆ 0         ┆ 2               ┆ … ┆ 0     ┆ 0            ┆ 1.288061 ┆ 4.0        │\n",
       "│ …         ┆ …   ┆ …         ┆ …               ┆ … ┆ …     ┆ …            ┆ …        ┆ …          │\n",
       "│ 3388      ┆ 18  ┆ 0         ┆ 3               ┆ … ┆ 0     ┆ 0            ┆ 3.455509 ┆ 0.0        │\n",
       "│ 3389      ┆ 17  ┆ 0         ┆ 1               ┆ … ┆ 0     ┆ 0            ┆ 3.27915  ┆ 4.0        │\n",
       "│ 3390      ┆ 16  ┆ 0         ┆ 2               ┆ … ┆ 0     ┆ 1            ┆ 1.142333 ┆ 2.0        │\n",
       "│ 3391      ┆ 16  ┆ 1         ┆ 0               ┆ … ┆ 1     ┆ 0            ┆ 1.803297 ┆ 1.0        │\n",
       "│ 3392      ┆ 16  ┆ 0         ┆ 2               ┆ … ┆ 0     ┆ 1            ┆ 2.140014 ┆ 1.0        │\n",
       "└───────────┴─────┴───────────┴─────────────────┴───┴───────┴──────────────┴──────────┴────────────┘"
      ]
     },
     "execution_count": 24,
     "metadata": {},
     "output_type": "execute_result"
    }
   ],
   "source": [
    "# 选中数值列\n",
    "import polars.selectors as selectors\n",
    "\n",
    "student_performance.select(selectors.numeric())"
   ]
  },
  {
   "cell_type": "code",
   "execution_count": 25,
   "metadata": {},
   "outputs": [
    {
     "data": {
      "text/html": [
       "<div><style>\n",
       ".dataframe > thead > tr,\n",
       ".dataframe > tbody > tr {\n",
       "  text-align: right;\n",
       "  white-space: pre-wrap;\n",
       "}\n",
       "</style>\n",
       "<small>shape: (2_392, 5)</small><table border=\"1\" class=\"dataframe\"><thead><tr><th>StudentID</th><th>Age</th><th>StudyTimeWeekly</th><th>Absences</th><th>Sports</th></tr><tr><td>i64</td><td>i64</td><td>f64</td><td>i64</td><td>i64</td></tr></thead><tbody><tr><td>1001</td><td>17</td><td>19.833723</td><td>7</td><td>0</td></tr><tr><td>1002</td><td>18</td><td>15.408756</td><td>0</td><td>0</td></tr><tr><td>1003</td><td>15</td><td>4.21057</td><td>26</td><td>0</td></tr><tr><td>1004</td><td>17</td><td>10.028829</td><td>14</td><td>0</td></tr><tr><td>1005</td><td>17</td><td>4.672495</td><td>17</td><td>0</td></tr><tr><td>&hellip;</td><td>&hellip;</td><td>&hellip;</td><td>&hellip;</td><td>&hellip;</td></tr><tr><td>3388</td><td>18</td><td>10.680555</td><td>2</td><td>0</td></tr><tr><td>3389</td><td>17</td><td>7.583217</td><td>4</td><td>1</td></tr><tr><td>3390</td><td>16</td><td>6.8055</td><td>20</td><td>0</td></tr><tr><td>3391</td><td>16</td><td>12.416653</td><td>17</td><td>1</td></tr><tr><td>3392</td><td>16</td><td>17.819907</td><td>13</td><td>0</td></tr></tbody></table></div>"
      ],
      "text/plain": [
       "shape: (2_392, 5)\n",
       "┌───────────┬─────┬─────────────────┬──────────┬────────┐\n",
       "│ StudentID ┆ Age ┆ StudyTimeWeekly ┆ Absences ┆ Sports │\n",
       "│ ---       ┆ --- ┆ ---             ┆ ---      ┆ ---    │\n",
       "│ i64       ┆ i64 ┆ f64             ┆ i64      ┆ i64    │\n",
       "╞═══════════╪═════╪═════════════════╪══════════╪════════╡\n",
       "│ 1001      ┆ 17  ┆ 19.833723       ┆ 7        ┆ 0      │\n",
       "│ 1002      ┆ 18  ┆ 15.408756       ┆ 0        ┆ 0      │\n",
       "│ 1003      ┆ 15  ┆ 4.21057         ┆ 26       ┆ 0      │\n",
       "│ 1004      ┆ 17  ┆ 10.028829       ┆ 14       ┆ 0      │\n",
       "│ 1005      ┆ 17  ┆ 4.672495        ┆ 17       ┆ 0      │\n",
       "│ …         ┆ …   ┆ …               ┆ …        ┆ …      │\n",
       "│ 3388      ┆ 18  ┆ 10.680555       ┆ 2        ┆ 0      │\n",
       "│ 3389      ┆ 17  ┆ 7.583217        ┆ 4        ┆ 1      │\n",
       "│ 3390      ┆ 16  ┆ 6.8055          ┆ 20       ┆ 0      │\n",
       "│ 3391      ┆ 16  ┆ 12.416653       ┆ 17       ┆ 1      │\n",
       "│ 3392      ┆ 16  ┆ 17.819907       ┆ 13       ┆ 0      │\n",
       "└───────────┴─────┴─────────────────┴──────────┴────────┘"
      ]
     },
     "execution_count": 25,
     "metadata": {},
     "output_type": "execute_result"
    }
   ],
   "source": [
    "# 选中所有以 A 或者 S 开头的列\n",
    "student_performance.select(selectors.starts_with(\"A\", \"S\"))"
   ]
  },
  {
   "cell_type": "code",
   "execution_count": 26,
   "metadata": {},
   "outputs": [
    {
     "data": {
      "text/html": [
       "<div><style>\n",
       ".dataframe > thead > tr,\n",
       ".dataframe > tbody > tr {\n",
       "  text-align: right;\n",
       "  white-space: pre-wrap;\n",
       "}\n",
       "</style>\n",
       "<small>shape: (2_392, 8)</small><table border=\"1\" class=\"dataframe\"><thead><tr><th>StudentID</th><th>Gender</th><th>GPA</th><th>GradeClass</th><th>Age</th><th>Ethnicity</th><th>Absences</th><th>Extracurricular</th></tr><tr><td>i64</td><td>enum</td><td>f64</td><td>f64</td><td>i64</td><td>i64</td><td>i64</td><td>i64</td></tr></thead><tbody><tr><td>1001</td><td>&quot;1&quot;</td><td>2.929196</td><td>2.0</td><td>289</td><td>0</td><td>49</td><td>0</td></tr><tr><td>1002</td><td>&quot;0&quot;</td><td>3.042915</td><td>1.0</td><td>324</td><td>0</td><td>0</td><td>0</td></tr><tr><td>1003</td><td>&quot;0&quot;</td><td>0.112602</td><td>4.0</td><td>225</td><td>4</td><td>676</td><td>0</td></tr><tr><td>1004</td><td>&quot;1&quot;</td><td>2.054218</td><td>3.0</td><td>289</td><td>0</td><td>196</td><td>1</td></tr><tr><td>1005</td><td>&quot;1&quot;</td><td>1.288061</td><td>4.0</td><td>289</td><td>0</td><td>289</td><td>0</td></tr><tr><td>&hellip;</td><td>&hellip;</td><td>&hellip;</td><td>&hellip;</td><td>&hellip;</td><td>&hellip;</td><td>&hellip;</td><td>&hellip;</td></tr><tr><td>3388</td><td>&quot;1&quot;</td><td>3.455509</td><td>0.0</td><td>324</td><td>0</td><td>4</td><td>1</td></tr><tr><td>3389</td><td>&quot;0&quot;</td><td>3.27915</td><td>4.0</td><td>289</td><td>0</td><td>16</td><td>0</td></tr><tr><td>3390</td><td>&quot;1&quot;</td><td>1.142333</td><td>2.0</td><td>256</td><td>0</td><td>400</td><td>0</td></tr><tr><td>3391</td><td>&quot;1&quot;</td><td>1.803297</td><td>1.0</td><td>256</td><td>1</td><td>289</td><td>0</td></tr><tr><td>3392</td><td>&quot;1&quot;</td><td>2.140014</td><td>1.0</td><td>256</td><td>0</td><td>169</td><td>0</td></tr></tbody></table></div>"
      ],
      "text/plain": [
       "shape: (2_392, 8)\n",
       "┌───────────┬────────┬──────────┬────────────┬─────┬───────────┬──────────┬─────────────────┐\n",
       "│ StudentID ┆ Gender ┆ GPA      ┆ GradeClass ┆ Age ┆ Ethnicity ┆ Absences ┆ Extracurricular │\n",
       "│ ---       ┆ ---    ┆ ---      ┆ ---        ┆ --- ┆ ---       ┆ ---      ┆ ---             │\n",
       "│ i64       ┆ enum   ┆ f64      ┆ f64        ┆ i64 ┆ i64       ┆ i64      ┆ i64             │\n",
       "╞═══════════╪════════╪══════════╪════════════╪═════╪═══════════╪══════════╪═════════════════╡\n",
       "│ 1001      ┆ 1      ┆ 2.929196 ┆ 2.0        ┆ 289 ┆ 0         ┆ 49       ┆ 0               │\n",
       "│ 1002      ┆ 0      ┆ 3.042915 ┆ 1.0        ┆ 324 ┆ 0         ┆ 0        ┆ 0               │\n",
       "│ 1003      ┆ 0      ┆ 0.112602 ┆ 4.0        ┆ 225 ┆ 4         ┆ 676      ┆ 0               │\n",
       "│ 1004      ┆ 1      ┆ 2.054218 ┆ 3.0        ┆ 289 ┆ 0         ┆ 196      ┆ 1               │\n",
       "│ 1005      ┆ 1      ┆ 1.288061 ┆ 4.0        ┆ 289 ┆ 0         ┆ 289      ┆ 0               │\n",
       "│ …         ┆ …      ┆ …        ┆ …          ┆ …   ┆ …         ┆ …        ┆ …               │\n",
       "│ 3388      ┆ 1      ┆ 3.455509 ┆ 0.0        ┆ 324 ┆ 0         ┆ 4        ┆ 1               │\n",
       "│ 3389      ┆ 0      ┆ 3.27915  ┆ 4.0        ┆ 289 ┆ 0         ┆ 16       ┆ 0               │\n",
       "│ 3390      ┆ 1      ┆ 1.142333 ┆ 2.0        ┆ 256 ┆ 0         ┆ 400      ┆ 0               │\n",
       "│ 3391      ┆ 1      ┆ 1.803297 ┆ 1.0        ┆ 256 ┆ 1         ┆ 289      ┆ 0               │\n",
       "│ 3392      ┆ 1      ┆ 2.140014 ┆ 1.0        ┆ 256 ┆ 0         ┆ 169      ┆ 0               │\n",
       "└───────────┴────────┴──────────┴────────────┴─────┴───────────┴──────────┴─────────────────┘"
      ]
     },
     "execution_count": 26,
     "metadata": {},
     "output_type": "execute_result"
    }
   ],
   "source": [
    "# 复杂选中\n",
    "student_performance.select(\n",
    "    \"StudentID\",\n",
    "    selectors.by_dtype(pl.Float64, pl.Enum).and_(selectors.starts_with(\"G\")),\n",
    "    selectors.matches(r\"^(A|B|C|D|E)\").and_(selectors.numeric()) ** 2,\n",
    ")"
   ]
  },
  {
   "cell_type": "markdown",
   "metadata": {},
   "source": [
    "### 3.3 行选择\n",
    "\n",
    "选择行的行为和选择列类似，`polars` 提供了 `filter` 方法来实现这个功能。同样也可以使用 `operator[]` 来选择行，和使用 `[]` 选择列的区别在于列选择时可以传入列名，而行选择时传入的是行索引（int）。由于 `polars.DataFrame` 默认没有行索引，或者说没有提供能够得到行索引的选择器，所以当我们期望使用行索引（index）作为值时，需要使用 `with_row_index` 方法来获取行索引。需要注意的是默认的行索引列名为 `index`，如果存在同名列，需要指定行索引列名。\n"
   ]
  },
  {
   "cell_type": "code",
   "execution_count": 27,
   "metadata": {},
   "outputs": [
    {
     "data": {
      "text/html": [
       "<div><style>\n",
       ".dataframe > thead > tr,\n",
       ".dataframe > tbody > tr {\n",
       "  text-align: right;\n",
       "  white-space: pre-wrap;\n",
       "}\n",
       "</style>\n",
       "<small>shape: (10, 16)</small><table border=\"1\" class=\"dataframe\"><thead><tr><th>index</th><th>StudentID</th><th>Age</th><th>Gender</th><th>Ethnicity</th><th>ParentalEducation</th><th>StudyTimeWeekly</th><th>Absences</th><th>Tutoring</th><th>ParentalSupport</th><th>Extracurricular</th><th>Sports</th><th>Music</th><th>Volunteering</th><th>GPA</th><th>GradeClass</th></tr><tr><td>u32</td><td>i64</td><td>i64</td><td>enum</td><td>i64</td><td>i64</td><td>f64</td><td>i64</td><td>i64</td><td>i64</td><td>i64</td><td>i64</td><td>i64</td><td>i64</td><td>f64</td><td>f64</td></tr></thead><tbody><tr><td>2382</td><td>3383</td><td>16</td><td>&quot;0&quot;</td><td>0</td><td>3</td><td>13.941823</td><td>20</td><td>0</td><td>2</td><td>0</td><td>0</td><td>0</td><td>0</td><td>1.191929</td><td>3.0</td></tr><tr><td>2383</td><td>3384</td><td>16</td><td>&quot;1&quot;</td><td>2</td><td>2</td><td>11.736409</td><td>18</td><td>1</td><td>4</td><td>0</td><td>0</td><td>0</td><td>0</td><td>1.810038</td><td>3.0</td></tr><tr><td>2384</td><td>3385</td><td>15</td><td>&quot;1&quot;</td><td>0</td><td>1</td><td>16.655581</td><td>13</td><td>1</td><td>3</td><td>0</td><td>1</td><td>0</td><td>0</td><td>2.539113</td><td>4.0</td></tr><tr><td>2385</td><td>3386</td><td>16</td><td>&quot;1&quot;</td><td>0</td><td>1</td><td>1.445434</td><td>20</td><td>0</td><td>3</td><td>1</td><td>1</td><td>0</td><td>0</td><td>1.395631</td><td>1.0</td></tr><tr><td>2386</td><td>3387</td><td>16</td><td>&quot;0&quot;</td><td>0</td><td>2</td><td>13.814021</td><td>14</td><td>0</td><td>2</td><td>0</td><td>0</td><td>0</td><td>0</td><td>2.000084</td><td>4.0</td></tr><tr><td>2387</td><td>3388</td><td>18</td><td>&quot;1&quot;</td><td>0</td><td>3</td><td>10.680555</td><td>2</td><td>0</td><td>4</td><td>1</td><td>0</td><td>0</td><td>0</td><td>3.455509</td><td>0.0</td></tr><tr><td>2388</td><td>3389</td><td>17</td><td>&quot;0&quot;</td><td>0</td><td>1</td><td>7.583217</td><td>4</td><td>1</td><td>4</td><td>0</td><td>1</td><td>0</td><td>0</td><td>3.27915</td><td>4.0</td></tr><tr><td>2389</td><td>3390</td><td>16</td><td>&quot;1&quot;</td><td>0</td><td>2</td><td>6.8055</td><td>20</td><td>0</td><td>2</td><td>0</td><td>0</td><td>0</td><td>1</td><td>1.142333</td><td>2.0</td></tr><tr><td>2390</td><td>3391</td><td>16</td><td>&quot;1&quot;</td><td>1</td><td>0</td><td>12.416653</td><td>17</td><td>0</td><td>2</td><td>0</td><td>1</td><td>1</td><td>0</td><td>1.803297</td><td>1.0</td></tr><tr><td>2391</td><td>3392</td><td>16</td><td>&quot;1&quot;</td><td>0</td><td>2</td><td>17.819907</td><td>13</td><td>0</td><td>2</td><td>0</td><td>0</td><td>0</td><td>1</td><td>2.140014</td><td>1.0</td></tr></tbody></table></div>"
      ],
      "text/plain": [
       "shape: (10, 16)\n",
       "┌───────┬───────────┬─────┬────────┬───┬───────┬──────────────┬──────────┬────────────┐\n",
       "│ index ┆ StudentID ┆ Age ┆ Gender ┆ … ┆ Music ┆ Volunteering ┆ GPA      ┆ GradeClass │\n",
       "│ ---   ┆ ---       ┆ --- ┆ ---    ┆   ┆ ---   ┆ ---          ┆ ---      ┆ ---        │\n",
       "│ u32   ┆ i64       ┆ i64 ┆ enum   ┆   ┆ i64   ┆ i64          ┆ f64      ┆ f64        │\n",
       "╞═══════╪═══════════╪═════╪════════╪═══╪═══════╪══════════════╪══════════╪════════════╡\n",
       "│ 2382  ┆ 3383      ┆ 16  ┆ 0      ┆ … ┆ 0     ┆ 0            ┆ 1.191929 ┆ 3.0        │\n",
       "│ 2383  ┆ 3384      ┆ 16  ┆ 1      ┆ … ┆ 0     ┆ 0            ┆ 1.810038 ┆ 3.0        │\n",
       "│ 2384  ┆ 3385      ┆ 15  ┆ 1      ┆ … ┆ 0     ┆ 0            ┆ 2.539113 ┆ 4.0        │\n",
       "│ 2385  ┆ 3386      ┆ 16  ┆ 1      ┆ … ┆ 0     ┆ 0            ┆ 1.395631 ┆ 1.0        │\n",
       "│ 2386  ┆ 3387      ┆ 16  ┆ 0      ┆ … ┆ 0     ┆ 0            ┆ 2.000084 ┆ 4.0        │\n",
       "│ 2387  ┆ 3388      ┆ 18  ┆ 1      ┆ … ┆ 0     ┆ 0            ┆ 3.455509 ┆ 0.0        │\n",
       "│ 2388  ┆ 3389      ┆ 17  ┆ 0      ┆ … ┆ 0     ┆ 0            ┆ 3.27915  ┆ 4.0        │\n",
       "│ 2389  ┆ 3390      ┆ 16  ┆ 1      ┆ … ┆ 0     ┆ 1            ┆ 1.142333 ┆ 2.0        │\n",
       "│ 2390  ┆ 3391      ┆ 16  ┆ 1      ┆ … ┆ 1     ┆ 0            ┆ 1.803297 ┆ 1.0        │\n",
       "│ 2391  ┆ 3392      ┆ 16  ┆ 1      ┆ … ┆ 0     ┆ 1            ┆ 2.140014 ┆ 1.0        │\n",
       "└───────┴───────────┴─────┴────────┴───┴───────┴──────────────┴──────────┴────────────┘"
      ]
     },
     "execution_count": 27,
     "metadata": {},
     "output_type": "execute_result"
    }
   ],
   "source": [
    "indexed = student_performance.with_row_index()\n",
    "indexed.tail(10)"
   ]
  },
  {
   "cell_type": "code",
   "execution_count": 28,
   "metadata": {},
   "outputs": [
    {
     "data": {
      "text/html": [
       "<div><style>\n",
       ".dataframe > thead > tr,\n",
       ".dataframe > tbody > tr {\n",
       "  text-align: right;\n",
       "  white-space: pre-wrap;\n",
       "}\n",
       "</style>\n",
       "<small>shape: (10, 15)</small><table border=\"1\" class=\"dataframe\"><thead><tr><th>StudentID</th><th>Age</th><th>Gender</th><th>Ethnicity</th><th>ParentalEducation</th><th>StudyTimeWeekly</th><th>Absences</th><th>Tutoring</th><th>ParentalSupport</th><th>Extracurricular</th><th>Sports</th><th>Music</th><th>Volunteering</th><th>GPA</th><th>GradeClass</th></tr><tr><td>i64</td><td>i64</td><td>enum</td><td>i64</td><td>i64</td><td>f64</td><td>i64</td><td>i64</td><td>i64</td><td>i64</td><td>i64</td><td>i64</td><td>i64</td><td>f64</td><td>f64</td></tr></thead><tbody><tr><td>1464</td><td>15</td><td>&quot;0&quot;</td><td>1</td><td>3</td><td>0.477684</td><td>3</td><td>0</td><td>3</td><td>0</td><td>1</td><td>0</td><td>0</td><td>2.75359</td><td>2.0</td></tr><tr><td>1027</td><td>16</td><td>&quot;0&quot;</td><td>0</td><td>1</td><td>10.367993</td><td>2</td><td>0</td><td>2</td><td>0</td><td>1</td><td>0</td><td>0</td><td>2.948718</td><td>2.0</td></tr><tr><td>3250</td><td>15</td><td>&quot;0&quot;</td><td>0</td><td>2</td><td>15.543718</td><td>28</td><td>0</td><td>3</td><td>1</td><td>0</td><td>1</td><td>0</td><td>1.262849</td><td>4.0</td></tr><tr><td>2022</td><td>15</td><td>&quot;1&quot;</td><td>0</td><td>0</td><td>5.791654</td><td>2</td><td>0</td><td>1</td><td>1</td><td>0</td><td>0</td><td>0</td><td>2.815973</td><td>2.0</td></tr><tr><td>3262</td><td>18</td><td>&quot;0&quot;</td><td>2</td><td>1</td><td>4.596521</td><td>12</td><td>1</td><td>2</td><td>1</td><td>0</td><td>0</td><td>0</td><td>2.376854</td><td>3.0</td></tr><tr><td>2580</td><td>17</td><td>&quot;1&quot;</td><td>1</td><td>2</td><td>17.092349</td><td>18</td><td>0</td><td>0</td><td>0</td><td>1</td><td>0</td><td>0</td><td>1.377573</td><td>4.0</td></tr><tr><td>1924</td><td>17</td><td>&quot;0&quot;</td><td>1</td><td>1</td><td>11.695136</td><td>15</td><td>0</td><td>4</td><td>0</td><td>0</td><td>1</td><td>0</td><td>2.3868</td><td>3.0</td></tr><tr><td>2317</td><td>16</td><td>&quot;0&quot;</td><td>0</td><td>1</td><td>9.373033</td><td>0</td><td>0</td><td>2</td><td>0</td><td>1</td><td>1</td><td>1</td><td>3.287973</td><td>1.0</td></tr><tr><td>2137</td><td>17</td><td>&quot;1&quot;</td><td>3</td><td>1</td><td>0.583413</td><td>1</td><td>0</td><td>2</td><td>0</td><td>1</td><td>1</td><td>0</td><td>3.204313</td><td>1.0</td></tr><tr><td>2925</td><td>16</td><td>&quot;0&quot;</td><td>2</td><td>2</td><td>11.528111</td><td>9</td><td>0</td><td>2</td><td>0</td><td>1</td><td>0</td><td>0</td><td>2.470924</td><td>3.0</td></tr></tbody></table></div>"
      ],
      "text/plain": [
       "shape: (10, 15)\n",
       "┌───────────┬─────┬────────┬───────────┬───┬───────┬──────────────┬──────────┬────────────┐\n",
       "│ StudentID ┆ Age ┆ Gender ┆ Ethnicity ┆ … ┆ Music ┆ Volunteering ┆ GPA      ┆ GradeClass │\n",
       "│ ---       ┆ --- ┆ ---    ┆ ---       ┆   ┆ ---   ┆ ---          ┆ ---      ┆ ---        │\n",
       "│ i64       ┆ i64 ┆ enum   ┆ i64       ┆   ┆ i64   ┆ i64          ┆ f64      ┆ f64        │\n",
       "╞═══════════╪═════╪════════╪═══════════╪═══╪═══════╪══════════════╪══════════╪════════════╡\n",
       "│ 1464      ┆ 15  ┆ 0      ┆ 1         ┆ … ┆ 0     ┆ 0            ┆ 2.75359  ┆ 2.0        │\n",
       "│ 1027      ┆ 16  ┆ 0      ┆ 0         ┆ … ┆ 0     ┆ 0            ┆ 2.948718 ┆ 2.0        │\n",
       "│ 3250      ┆ 15  ┆ 0      ┆ 0         ┆ … ┆ 1     ┆ 0            ┆ 1.262849 ┆ 4.0        │\n",
       "│ 2022      ┆ 15  ┆ 1      ┆ 0         ┆ … ┆ 0     ┆ 0            ┆ 2.815973 ┆ 2.0        │\n",
       "│ 3262      ┆ 18  ┆ 0      ┆ 2         ┆ … ┆ 0     ┆ 0            ┆ 2.376854 ┆ 3.0        │\n",
       "│ 2580      ┆ 17  ┆ 1      ┆ 1         ┆ … ┆ 0     ┆ 0            ┆ 1.377573 ┆ 4.0        │\n",
       "│ 1924      ┆ 17  ┆ 0      ┆ 1         ┆ … ┆ 1     ┆ 0            ┆ 2.3868   ┆ 3.0        │\n",
       "│ 2317      ┆ 16  ┆ 0      ┆ 0         ┆ … ┆ 1     ┆ 1            ┆ 3.287973 ┆ 1.0        │\n",
       "│ 2137      ┆ 17  ┆ 1      ┆ 3         ┆ … ┆ 1     ┆ 0            ┆ 3.204313 ┆ 1.0        │\n",
       "│ 2925      ┆ 16  ┆ 0      ┆ 2         ┆ … ┆ 0     ┆ 0            ┆ 2.470924 ┆ 3.0        │\n",
       "└───────────┴─────┴────────┴───────────┴───┴───────┴──────────────┴──────────┴────────────┘"
      ]
     },
     "execution_count": 28,
     "metadata": {},
     "output_type": "execute_result"
    }
   ],
   "source": [
    "student_performance[np.random.choice(student_performance.height, 10, replace=True)]"
   ]
  },
  {
   "cell_type": "code",
   "execution_count": 29,
   "metadata": {},
   "outputs": [
    {
     "data": {
      "text/html": [
       "<div><style>\n",
       ".dataframe > thead > tr,\n",
       ".dataframe > tbody > tr {\n",
       "  text-align: right;\n",
       "  white-space: pre-wrap;\n",
       "}\n",
       "</style>\n",
       "<small>shape: (1_196, 15)</small><table border=\"1\" class=\"dataframe\"><thead><tr><th>StudentID</th><th>Age</th><th>Gender</th><th>Ethnicity</th><th>ParentalEducation</th><th>StudyTimeWeekly</th><th>Absences</th><th>Tutoring</th><th>ParentalSupport</th><th>Extracurricular</th><th>Sports</th><th>Music</th><th>Volunteering</th><th>GPA</th><th>GradeClass</th></tr><tr><td>i64</td><td>i64</td><td>enum</td><td>i64</td><td>i64</td><td>f64</td><td>i64</td><td>i64</td><td>i64</td><td>i64</td><td>i64</td><td>i64</td><td>i64</td><td>f64</td><td>f64</td></tr></thead><tbody><tr><td>1001</td><td>17</td><td>&quot;1&quot;</td><td>0</td><td>2</td><td>19.833723</td><td>7</td><td>1</td><td>2</td><td>0</td><td>0</td><td>1</td><td>0</td><td>2.929196</td><td>2.0</td></tr><tr><td>1003</td><td>15</td><td>&quot;0&quot;</td><td>2</td><td>3</td><td>4.21057</td><td>26</td><td>0</td><td>2</td><td>0</td><td>0</td><td>0</td><td>0</td><td>0.112602</td><td>4.0</td></tr><tr><td>1005</td><td>17</td><td>&quot;1&quot;</td><td>0</td><td>2</td><td>4.672495</td><td>17</td><td>1</td><td>3</td><td>0</td><td>0</td><td>0</td><td>0</td><td>1.288061</td><td>4.0</td></tr><tr><td>1007</td><td>15</td><td>&quot;0&quot;</td><td>1</td><td>1</td><td>15.60168</td><td>10</td><td>0</td><td>3</td><td>0</td><td>1</td><td>0</td><td>0</td><td>2.748237</td><td>2.0</td></tr><tr><td>1009</td><td>17</td><td>&quot;0&quot;</td><td>0</td><td>0</td><td>4.562008</td><td>1</td><td>0</td><td>2</td><td>0</td><td>1</td><td>0</td><td>1</td><td>2.896819</td><td>2.0</td></tr><tr><td>&hellip;</td><td>&hellip;</td><td>&hellip;</td><td>&hellip;</td><td>&hellip;</td><td>&hellip;</td><td>&hellip;</td><td>&hellip;</td><td>&hellip;</td><td>&hellip;</td><td>&hellip;</td><td>&hellip;</td><td>&hellip;</td><td>&hellip;</td><td>&hellip;</td></tr><tr><td>3383</td><td>16</td><td>&quot;0&quot;</td><td>0</td><td>3</td><td>13.941823</td><td>20</td><td>0</td><td>2</td><td>0</td><td>0</td><td>0</td><td>0</td><td>1.191929</td><td>3.0</td></tr><tr><td>3385</td><td>15</td><td>&quot;1&quot;</td><td>0</td><td>1</td><td>16.655581</td><td>13</td><td>1</td><td>3</td><td>0</td><td>1</td><td>0</td><td>0</td><td>2.539113</td><td>4.0</td></tr><tr><td>3387</td><td>16</td><td>&quot;0&quot;</td><td>0</td><td>2</td><td>13.814021</td><td>14</td><td>0</td><td>2</td><td>0</td><td>0</td><td>0</td><td>0</td><td>2.000084</td><td>4.0</td></tr><tr><td>3389</td><td>17</td><td>&quot;0&quot;</td><td>0</td><td>1</td><td>7.583217</td><td>4</td><td>1</td><td>4</td><td>0</td><td>1</td><td>0</td><td>0</td><td>3.27915</td><td>4.0</td></tr><tr><td>3391</td><td>16</td><td>&quot;1&quot;</td><td>1</td><td>0</td><td>12.416653</td><td>17</td><td>0</td><td>2</td><td>0</td><td>1</td><td>1</td><td>0</td><td>1.803297</td><td>1.0</td></tr></tbody></table></div>"
      ],
      "text/plain": [
       "shape: (1_196, 15)\n",
       "┌───────────┬─────┬────────┬───────────┬───┬───────┬──────────────┬──────────┬────────────┐\n",
       "│ StudentID ┆ Age ┆ Gender ┆ Ethnicity ┆ … ┆ Music ┆ Volunteering ┆ GPA      ┆ GradeClass │\n",
       "│ ---       ┆ --- ┆ ---    ┆ ---       ┆   ┆ ---   ┆ ---          ┆ ---      ┆ ---        │\n",
       "│ i64       ┆ i64 ┆ enum   ┆ i64       ┆   ┆ i64   ┆ i64          ┆ f64      ┆ f64        │\n",
       "╞═══════════╪═════╪════════╪═══════════╪═══╪═══════╪══════════════╪══════════╪════════════╡\n",
       "│ 1001      ┆ 17  ┆ 1      ┆ 0         ┆ … ┆ 1     ┆ 0            ┆ 2.929196 ┆ 2.0        │\n",
       "│ 1003      ┆ 15  ┆ 0      ┆ 2         ┆ … ┆ 0     ┆ 0            ┆ 0.112602 ┆ 4.0        │\n",
       "│ 1005      ┆ 17  ┆ 1      ┆ 0         ┆ … ┆ 0     ┆ 0            ┆ 1.288061 ┆ 4.0        │\n",
       "│ 1007      ┆ 15  ┆ 0      ┆ 1         ┆ … ┆ 0     ┆ 0            ┆ 2.748237 ┆ 2.0        │\n",
       "│ 1009      ┆ 17  ┆ 0      ┆ 0         ┆ … ┆ 0     ┆ 1            ┆ 2.896819 ┆ 2.0        │\n",
       "│ …         ┆ …   ┆ …      ┆ …         ┆ … ┆ …     ┆ …            ┆ …        ┆ …          │\n",
       "│ 3383      ┆ 16  ┆ 0      ┆ 0         ┆ … ┆ 0     ┆ 0            ┆ 1.191929 ┆ 3.0        │\n",
       "│ 3385      ┆ 15  ┆ 1      ┆ 0         ┆ … ┆ 0     ┆ 0            ┆ 2.539113 ┆ 4.0        │\n",
       "│ 3387      ┆ 16  ┆ 0      ┆ 0         ┆ … ┆ 0     ┆ 0            ┆ 2.000084 ┆ 4.0        │\n",
       "│ 3389      ┆ 17  ┆ 0      ┆ 0         ┆ … ┆ 0     ┆ 0            ┆ 3.27915  ┆ 4.0        │\n",
       "│ 3391      ┆ 16  ┆ 1      ┆ 1         ┆ … ┆ 1     ┆ 0            ┆ 1.803297 ┆ 1.0        │\n",
       "└───────────┴─────┴────────┴───────────┴───┴───────┴──────────────┴──────────┴────────────┘"
      ]
     },
     "execution_count": 29,
     "metadata": {},
     "output_type": "execute_result"
    }
   ],
   "source": [
    "# 选中所有偶数行\n",
    "\n",
    "student_performance[::2]"
   ]
  },
  {
   "cell_type": "code",
   "execution_count": 30,
   "metadata": {},
   "outputs": [
    {
     "data": {
      "text/html": [
       "<div><style>\n",
       ".dataframe > thead > tr,\n",
       ".dataframe > tbody > tr {\n",
       "  text-align: right;\n",
       "  white-space: pre-wrap;\n",
       "}\n",
       "</style>\n",
       "<small>shape: (1_196, 15)</small><table border=\"1\" class=\"dataframe\"><thead><tr><th>StudentID</th><th>Age</th><th>Gender</th><th>Ethnicity</th><th>ParentalEducation</th><th>StudyTimeWeekly</th><th>Absences</th><th>Tutoring</th><th>ParentalSupport</th><th>Extracurricular</th><th>Sports</th><th>Music</th><th>Volunteering</th><th>GPA</th><th>GradeClass</th></tr><tr><td>i64</td><td>i64</td><td>enum</td><td>i64</td><td>i64</td><td>f64</td><td>i64</td><td>i64</td><td>i64</td><td>i64</td><td>i64</td><td>i64</td><td>i64</td><td>f64</td><td>f64</td></tr></thead><tbody><tr><td>1001</td><td>17</td><td>&quot;1&quot;</td><td>0</td><td>2</td><td>19.833723</td><td>7</td><td>1</td><td>2</td><td>0</td><td>0</td><td>1</td><td>0</td><td>2.929196</td><td>2.0</td></tr><tr><td>1003</td><td>15</td><td>&quot;0&quot;</td><td>2</td><td>3</td><td>4.21057</td><td>26</td><td>0</td><td>2</td><td>0</td><td>0</td><td>0</td><td>0</td><td>0.112602</td><td>4.0</td></tr><tr><td>1005</td><td>17</td><td>&quot;1&quot;</td><td>0</td><td>2</td><td>4.672495</td><td>17</td><td>1</td><td>3</td><td>0</td><td>0</td><td>0</td><td>0</td><td>1.288061</td><td>4.0</td></tr><tr><td>1007</td><td>15</td><td>&quot;0&quot;</td><td>1</td><td>1</td><td>15.60168</td><td>10</td><td>0</td><td>3</td><td>0</td><td>1</td><td>0</td><td>0</td><td>2.748237</td><td>2.0</td></tr><tr><td>1009</td><td>17</td><td>&quot;0&quot;</td><td>0</td><td>0</td><td>4.562008</td><td>1</td><td>0</td><td>2</td><td>0</td><td>1</td><td>0</td><td>1</td><td>2.896819</td><td>2.0</td></tr><tr><td>&hellip;</td><td>&hellip;</td><td>&hellip;</td><td>&hellip;</td><td>&hellip;</td><td>&hellip;</td><td>&hellip;</td><td>&hellip;</td><td>&hellip;</td><td>&hellip;</td><td>&hellip;</td><td>&hellip;</td><td>&hellip;</td><td>&hellip;</td><td>&hellip;</td></tr><tr><td>3383</td><td>16</td><td>&quot;0&quot;</td><td>0</td><td>3</td><td>13.941823</td><td>20</td><td>0</td><td>2</td><td>0</td><td>0</td><td>0</td><td>0</td><td>1.191929</td><td>3.0</td></tr><tr><td>3385</td><td>15</td><td>&quot;1&quot;</td><td>0</td><td>1</td><td>16.655581</td><td>13</td><td>1</td><td>3</td><td>0</td><td>1</td><td>0</td><td>0</td><td>2.539113</td><td>4.0</td></tr><tr><td>3387</td><td>16</td><td>&quot;0&quot;</td><td>0</td><td>2</td><td>13.814021</td><td>14</td><td>0</td><td>2</td><td>0</td><td>0</td><td>0</td><td>0</td><td>2.000084</td><td>4.0</td></tr><tr><td>3389</td><td>17</td><td>&quot;0&quot;</td><td>0</td><td>1</td><td>7.583217</td><td>4</td><td>1</td><td>4</td><td>0</td><td>1</td><td>0</td><td>0</td><td>3.27915</td><td>4.0</td></tr><tr><td>3391</td><td>16</td><td>&quot;1&quot;</td><td>1</td><td>0</td><td>12.416653</td><td>17</td><td>0</td><td>2</td><td>0</td><td>1</td><td>1</td><td>0</td><td>1.803297</td><td>1.0</td></tr></tbody></table></div>"
      ],
      "text/plain": [
       "shape: (1_196, 15)\n",
       "┌───────────┬─────┬────────┬───────────┬───┬───────┬──────────────┬──────────┬────────────┐\n",
       "│ StudentID ┆ Age ┆ Gender ┆ Ethnicity ┆ … ┆ Music ┆ Volunteering ┆ GPA      ┆ GradeClass │\n",
       "│ ---       ┆ --- ┆ ---    ┆ ---       ┆   ┆ ---   ┆ ---          ┆ ---      ┆ ---        │\n",
       "│ i64       ┆ i64 ┆ enum   ┆ i64       ┆   ┆ i64   ┆ i64          ┆ f64      ┆ f64        │\n",
       "╞═══════════╪═════╪════════╪═══════════╪═══╪═══════╪══════════════╪══════════╪════════════╡\n",
       "│ 1001      ┆ 17  ┆ 1      ┆ 0         ┆ … ┆ 1     ┆ 0            ┆ 2.929196 ┆ 2.0        │\n",
       "│ 1003      ┆ 15  ┆ 0      ┆ 2         ┆ … ┆ 0     ┆ 0            ┆ 0.112602 ┆ 4.0        │\n",
       "│ 1005      ┆ 17  ┆ 1      ┆ 0         ┆ … ┆ 0     ┆ 0            ┆ 1.288061 ┆ 4.0        │\n",
       "│ 1007      ┆ 15  ┆ 0      ┆ 1         ┆ … ┆ 0     ┆ 0            ┆ 2.748237 ┆ 2.0        │\n",
       "│ 1009      ┆ 17  ┆ 0      ┆ 0         ┆ … ┆ 0     ┆ 1            ┆ 2.896819 ┆ 2.0        │\n",
       "│ …         ┆ …   ┆ …      ┆ …         ┆ … ┆ …     ┆ …            ┆ …        ┆ …          │\n",
       "│ 3383      ┆ 16  ┆ 0      ┆ 0         ┆ … ┆ 0     ┆ 0            ┆ 1.191929 ┆ 3.0        │\n",
       "│ 3385      ┆ 15  ┆ 1      ┆ 0         ┆ … ┆ 0     ┆ 0            ┆ 2.539113 ┆ 4.0        │\n",
       "│ 3387      ┆ 16  ┆ 0      ┆ 0         ┆ … ┆ 0     ┆ 0            ┆ 2.000084 ┆ 4.0        │\n",
       "│ 3389      ┆ 17  ┆ 0      ┆ 0         ┆ … ┆ 0     ┆ 0            ┆ 3.27915  ┆ 4.0        │\n",
       "│ 3391      ┆ 16  ┆ 1      ┆ 1         ┆ … ┆ 1     ┆ 0            ┆ 1.803297 ┆ 1.0        │\n",
       "└───────────┴─────┴────────┴───────────┴───┴───────┴──────────────┴──────────┴────────────┘"
      ]
     },
     "execution_count": 30,
     "metadata": {},
     "output_type": "execute_result"
    }
   ],
   "source": [
    "# 或者使用帮助函数\n",
    "\n",
    "student_performance.gather_every(2)"
   ]
  },
  {
   "cell_type": "code",
   "execution_count": 31,
   "metadata": {},
   "outputs": [
    {
     "data": {
      "text/html": [
       "<div><style>\n",
       ".dataframe > thead > tr,\n",
       ".dataframe > tbody > tr {\n",
       "  text-align: right;\n",
       "  white-space: pre-wrap;\n",
       "}\n",
       "</style>\n",
       "<small>shape: (479, 16)</small><table border=\"1\" class=\"dataframe\"><thead><tr><th>index</th><th>StudentID</th><th>Age</th><th>Gender</th><th>Ethnicity</th><th>ParentalEducation</th><th>StudyTimeWeekly</th><th>Absences</th><th>Tutoring</th><th>ParentalSupport</th><th>Extracurricular</th><th>Sports</th><th>Music</th><th>Volunteering</th><th>GPA</th><th>GradeClass</th></tr><tr><td>u32</td><td>i64</td><td>i64</td><td>enum</td><td>i64</td><td>i64</td><td>f64</td><td>i64</td><td>i64</td><td>i64</td><td>i64</td><td>i64</td><td>i64</td><td>i64</td><td>f64</td><td>f64</td></tr></thead><tbody><tr><td>0</td><td>1001</td><td>17</td><td>&quot;1&quot;</td><td>0</td><td>2</td><td>19.833723</td><td>7</td><td>1</td><td>2</td><td>0</td><td>0</td><td>1</td><td>0</td><td>2.929196</td><td>2.0</td></tr><tr><td>5</td><td>1006</td><td>18</td><td>&quot;0&quot;</td><td>0</td><td>1</td><td>8.191219</td><td>0</td><td>0</td><td>1</td><td>1</td><td>0</td><td>0</td><td>0</td><td>3.084184</td><td>1.0</td></tr><tr><td>10</td><td>1011</td><td>17</td><td>&quot;0&quot;</td><td>0</td><td>1</td><td>11.851364</td><td>11</td><td>0</td><td>1</td><td>0</td><td>0</td><td>0</td><td>0</td><td>2.147172</td><td>3.0</td></tr><tr><td>15</td><td>1016</td><td>15</td><td>&quot;0&quot;</td><td>0</td><td>2</td><td>9.728101</td><td>17</td><td>1</td><td>0</td><td>0</td><td>1</td><td>0</td><td>0</td><td>1.341521</td><td>4.0</td></tr><tr><td>20</td><td>1021</td><td>16</td><td>&quot;1&quot;</td><td>0</td><td>3</td><td>2.621597</td><td>2</td><td>0</td><td>3</td><td>0</td><td>0</td><td>0</td><td>1</td><td>2.778411</td><td>2.0</td></tr><tr><td>&hellip;</td><td>&hellip;</td><td>&hellip;</td><td>&hellip;</td><td>&hellip;</td><td>&hellip;</td><td>&hellip;</td><td>&hellip;</td><td>&hellip;</td><td>&hellip;</td><td>&hellip;</td><td>&hellip;</td><td>&hellip;</td><td>&hellip;</td><td>&hellip;</td><td>&hellip;</td></tr><tr><td>2370</td><td>3371</td><td>18</td><td>&quot;1&quot;</td><td>2</td><td>1</td><td>2.912575</td><td>25</td><td>0</td><td>1</td><td>0</td><td>1</td><td>0</td><td>1</td><td>0.56942</td><td>4.0</td></tr><tr><td>2375</td><td>3376</td><td>18</td><td>&quot;0&quot;</td><td>0</td><td>2</td><td>18.92529</td><td>24</td><td>0</td><td>1</td><td>1</td><td>0</td><td>1</td><td>1</td><td>1.164539</td><td>0.0</td></tr><tr><td>2380</td><td>3381</td><td>16</td><td>&quot;1&quot;</td><td>0</td><td>2</td><td>2.138397</td><td>8</td><td>0</td><td>1</td><td>1</td><td>1</td><td>0</td><td>0</td><td>1.979379</td><td>1.0</td></tr><tr><td>2385</td><td>3386</td><td>16</td><td>&quot;1&quot;</td><td>0</td><td>1</td><td>1.445434</td><td>20</td><td>0</td><td>3</td><td>1</td><td>1</td><td>0</td><td>0</td><td>1.395631</td><td>1.0</td></tr><tr><td>2390</td><td>3391</td><td>16</td><td>&quot;1&quot;</td><td>1</td><td>0</td><td>12.416653</td><td>17</td><td>0</td><td>2</td><td>0</td><td>1</td><td>1</td><td>0</td><td>1.803297</td><td>1.0</td></tr></tbody></table></div>"
      ],
      "text/plain": [
       "shape: (479, 16)\n",
       "┌───────┬───────────┬─────┬────────┬───┬───────┬──────────────┬──────────┬────────────┐\n",
       "│ index ┆ StudentID ┆ Age ┆ Gender ┆ … ┆ Music ┆ Volunteering ┆ GPA      ┆ GradeClass │\n",
       "│ ---   ┆ ---       ┆ --- ┆ ---    ┆   ┆ ---   ┆ ---          ┆ ---      ┆ ---        │\n",
       "│ u32   ┆ i64       ┆ i64 ┆ enum   ┆   ┆ i64   ┆ i64          ┆ f64      ┆ f64        │\n",
       "╞═══════╪═══════════╪═════╪════════╪═══╪═══════╪══════════════╪══════════╪════════════╡\n",
       "│ 0     ┆ 1001      ┆ 17  ┆ 1      ┆ … ┆ 1     ┆ 0            ┆ 2.929196 ┆ 2.0        │\n",
       "│ 5     ┆ 1006      ┆ 18  ┆ 0      ┆ … ┆ 0     ┆ 0            ┆ 3.084184 ┆ 1.0        │\n",
       "│ 10    ┆ 1011      ┆ 17  ┆ 0      ┆ … ┆ 0     ┆ 0            ┆ 2.147172 ┆ 3.0        │\n",
       "│ 15    ┆ 1016      ┆ 15  ┆ 0      ┆ … ┆ 0     ┆ 0            ┆ 1.341521 ┆ 4.0        │\n",
       "│ 20    ┆ 1021      ┆ 16  ┆ 1      ┆ … ┆ 0     ┆ 1            ┆ 2.778411 ┆ 2.0        │\n",
       "│ …     ┆ …         ┆ …   ┆ …      ┆ … ┆ …     ┆ …            ┆ …        ┆ …          │\n",
       "│ 2370  ┆ 3371      ┆ 18  ┆ 1      ┆ … ┆ 0     ┆ 1            ┆ 0.56942  ┆ 4.0        │\n",
       "│ 2375  ┆ 3376      ┆ 18  ┆ 0      ┆ … ┆ 1     ┆ 1            ┆ 1.164539 ┆ 0.0        │\n",
       "│ 2380  ┆ 3381      ┆ 16  ┆ 1      ┆ … ┆ 0     ┆ 0            ┆ 1.979379 ┆ 1.0        │\n",
       "│ 2385  ┆ 3386      ┆ 16  ┆ 1      ┆ … ┆ 0     ┆ 0            ┆ 1.395631 ┆ 1.0        │\n",
       "│ 2390  ┆ 3391      ┆ 16  ┆ 1      ┆ … ┆ 1     ┆ 0            ┆ 1.803297 ┆ 1.0        │\n",
       "└───────┴───────────┴─────┴────────┴───┴───────┴──────────────┴──────────┴────────────┘"
      ]
     },
     "execution_count": 31,
     "metadata": {},
     "output_type": "execute_result"
    }
   ],
   "source": [
    "# 选中所有 %5=0 的行\n",
    "indexed.filter(pl.col(\"index\") % 5 == 0)"
   ]
  },
  {
   "cell_type": "code",
   "execution_count": 32,
   "metadata": {},
   "outputs": [
    {
     "data": {
      "text/html": [
       "<div><style>\n",
       ".dataframe > thead > tr,\n",
       ".dataframe > tbody > tr {\n",
       "  text-align: right;\n",
       "  white-space: pre-wrap;\n",
       "}\n",
       "</style>\n",
       "<small>shape: (462, 15)</small><table border=\"1\" class=\"dataframe\"><thead><tr><th>StudentID</th><th>Age</th><th>Gender</th><th>Ethnicity</th><th>ParentalEducation</th><th>StudyTimeWeekly</th><th>Absences</th><th>Tutoring</th><th>ParentalSupport</th><th>Extracurricular</th><th>Sports</th><th>Music</th><th>Volunteering</th><th>GPA</th><th>GradeClass</th></tr><tr><td>i64</td><td>i64</td><td>enum</td><td>i64</td><td>i64</td><td>f64</td><td>i64</td><td>i64</td><td>i64</td><td>i64</td><td>i64</td><td>i64</td><td>i64</td><td>f64</td><td>f64</td></tr></thead><tbody><tr><td>1003</td><td>15</td><td>&quot;0&quot;</td><td>2</td><td>3</td><td>4.21057</td><td>26</td><td>0</td><td>2</td><td>0</td><td>0</td><td>0</td><td>0</td><td>0.112602</td><td>4.0</td></tr><tr><td>1012</td><td>17</td><td>&quot;0&quot;</td><td>0</td><td>1</td><td>7.598486</td><td>15</td><td>0</td><td>2</td><td>0</td><td>0</td><td>0</td><td>1</td><td>1.559595</td><td>4.0</td></tr><tr><td>1013</td><td>17</td><td>&quot;0&quot;</td><td>1</td><td>1</td><td>10.038712</td><td>21</td><td>0</td><td>3</td><td>1</td><td>0</td><td>0</td><td>0</td><td>1.520078</td><td>4.0</td></tr><tr><td>1014</td><td>17</td><td>&quot;0&quot;</td><td>1</td><td>2</td><td>12.101425</td><td>21</td><td>0</td><td>4</td><td>0</td><td>1</td><td>0</td><td>0</td><td>1.751581</td><td>4.0</td></tr><tr><td>1016</td><td>15</td><td>&quot;0&quot;</td><td>0</td><td>2</td><td>9.728101</td><td>17</td><td>1</td><td>0</td><td>0</td><td>1</td><td>0</td><td>0</td><td>1.341521</td><td>4.0</td></tr><tr><td>&hellip;</td><td>&hellip;</td><td>&hellip;</td><td>&hellip;</td><td>&hellip;</td><td>&hellip;</td><td>&hellip;</td><td>&hellip;</td><td>&hellip;</td><td>&hellip;</td><td>&hellip;</td><td>&hellip;</td><td>&hellip;</td><td>&hellip;</td><td>&hellip;</td></tr><tr><td>3341</td><td>16</td><td>&quot;0&quot;</td><td>2</td><td>2</td><td>9.388697</td><td>18</td><td>0</td><td>1</td><td>0</td><td>1</td><td>0</td><td>0</td><td>1.288938</td><td>2.0</td></tr><tr><td>3347</td><td>17</td><td>&quot;0&quot;</td><td>0</td><td>1</td><td>18.782174</td><td>19</td><td>0</td><td>2</td><td>0</td><td>0</td><td>1</td><td>0</td><td>1.823323</td><td>1.0</td></tr><tr><td>3357</td><td>16</td><td>&quot;0&quot;</td><td>0</td><td>3</td><td>7.262652</td><td>22</td><td>0</td><td>3</td><td>0</td><td>0</td><td>0</td><td>0</td><td>0.766257</td><td>3.0</td></tr><tr><td>3370</td><td>16</td><td>&quot;0&quot;</td><td>3</td><td>3</td><td>2.147222</td><td>19</td><td>0</td><td>1</td><td>0</td><td>0</td><td>0</td><td>1</td><td>1.067411</td><td>3.0</td></tr><tr><td>3383</td><td>16</td><td>&quot;0&quot;</td><td>0</td><td>3</td><td>13.941823</td><td>20</td><td>0</td><td>2</td><td>0</td><td>0</td><td>0</td><td>0</td><td>1.191929</td><td>3.0</td></tr></tbody></table></div>"
      ],
      "text/plain": [
       "shape: (462, 15)\n",
       "┌───────────┬─────┬────────┬───────────┬───┬───────┬──────────────┬──────────┬────────────┐\n",
       "│ StudentID ┆ Age ┆ Gender ┆ Ethnicity ┆ … ┆ Music ┆ Volunteering ┆ GPA      ┆ GradeClass │\n",
       "│ ---       ┆ --- ┆ ---    ┆ ---       ┆   ┆ ---   ┆ ---          ┆ ---      ┆ ---        │\n",
       "│ i64       ┆ i64 ┆ enum   ┆ i64       ┆   ┆ i64   ┆ i64          ┆ f64      ┆ f64        │\n",
       "╞═══════════╪═════╪════════╪═══════════╪═══╪═══════╪══════════════╪══════════╪════════════╡\n",
       "│ 1003      ┆ 15  ┆ 0      ┆ 2         ┆ … ┆ 0     ┆ 0            ┆ 0.112602 ┆ 4.0        │\n",
       "│ 1012      ┆ 17  ┆ 0      ┆ 0         ┆ … ┆ 0     ┆ 1            ┆ 1.559595 ┆ 4.0        │\n",
       "│ 1013      ┆ 17  ┆ 0      ┆ 1         ┆ … ┆ 0     ┆ 0            ┆ 1.520078 ┆ 4.0        │\n",
       "│ 1014      ┆ 17  ┆ 0      ┆ 1         ┆ … ┆ 0     ┆ 0            ┆ 1.751581 ┆ 4.0        │\n",
       "│ 1016      ┆ 15  ┆ 0      ┆ 0         ┆ … ┆ 0     ┆ 0            ┆ 1.341521 ┆ 4.0        │\n",
       "│ …         ┆ …   ┆ …      ┆ …         ┆ … ┆ …     ┆ …            ┆ …        ┆ …          │\n",
       "│ 3341      ┆ 16  ┆ 0      ┆ 2         ┆ … ┆ 0     ┆ 0            ┆ 1.288938 ┆ 2.0        │\n",
       "│ 3347      ┆ 17  ┆ 0      ┆ 0         ┆ … ┆ 1     ┆ 0            ┆ 1.823323 ┆ 1.0        │\n",
       "│ 3357      ┆ 16  ┆ 0      ┆ 0         ┆ … ┆ 0     ┆ 0            ┆ 0.766257 ┆ 3.0        │\n",
       "│ 3370      ┆ 16  ┆ 0      ┆ 3         ┆ … ┆ 0     ┆ 1            ┆ 1.067411 ┆ 3.0        │\n",
       "│ 3383      ┆ 16  ┆ 0      ┆ 0         ┆ … ┆ 0     ┆ 0            ┆ 1.191929 ┆ 3.0        │\n",
       "└───────────┴─────┴────────┴───────────┴───┴───────┴──────────────┴──────────┴────────────┘"
      ]
     },
     "execution_count": 32,
     "metadata": {},
     "output_type": "execute_result"
    }
   ],
   "source": [
    "# 选中 Age < 18， Gender = \"0\"，GPA < 2.0 的行\n",
    "student_performance.filter(\n",
    "    (pl.col(\"Age\") < 18).and_(pl.col(\"Gender\") == \"0\").and_(pl.col(\"GPA\") < 2.0)\n",
    ")"
   ]
  },
  {
   "cell_type": "code",
   "execution_count": 33,
   "metadata": {},
   "outputs": [
    {
     "data": {
      "text/html": [
       "<div><style>\n",
       ".dataframe > thead > tr,\n",
       ".dataframe > tbody > tr {\n",
       "  text-align: right;\n",
       "  white-space: pre-wrap;\n",
       "}\n",
       "</style>\n",
       "<small>shape: (25, 15)</small><table border=\"1\" class=\"dataframe\"><thead><tr><th>StudentID</th><th>Age</th><th>Gender</th><th>Ethnicity</th><th>ParentalEducation</th><th>StudyTimeWeekly</th><th>Absences</th><th>Tutoring</th><th>ParentalSupport</th><th>Extracurricular</th><th>Sports</th><th>Music</th><th>Volunteering</th><th>GPA</th><th>GradeClass</th></tr><tr><td>i64</td><td>i64</td><td>enum</td><td>i64</td><td>i64</td><td>f64</td><td>i64</td><td>i64</td><td>i64</td><td>i64</td><td>i64</td><td>i64</td><td>i64</td><td>f64</td><td>f64</td></tr></thead><tbody><tr><td>1070</td><td>16</td><td>&quot;1&quot;</td><td>2</td><td>1</td><td>0.941224</td><td>1</td><td>0</td><td>4</td><td>0</td><td>0</td><td>1</td><td>0</td><td>3.283917</td><td>1.0</td></tr><tr><td>1141</td><td>18</td><td>&quot;1&quot;</td><td>0</td><td>0</td><td>0.785839</td><td>2</td><td>0</td><td>3</td><td>1</td><td>0</td><td>0</td><td>0</td><td>3.139482</td><td>1.0</td></tr><tr><td>1161</td><td>17</td><td>&quot;0&quot;</td><td>2</td><td>2</td><td>0.99562</td><td>4</td><td>1</td><td>3</td><td>1</td><td>0</td><td>0</td><td>1</td><td>3.375994</td><td>1.0</td></tr><tr><td>1197</td><td>16</td><td>&quot;1&quot;</td><td>0</td><td>4</td><td>1.989925</td><td>0</td><td>0</td><td>1</td><td>1</td><td>0</td><td>0</td><td>1</td><td>3.117354</td><td>1.0</td></tr><tr><td>1230</td><td>15</td><td>&quot;0&quot;</td><td>2</td><td>2</td><td>4.336286</td><td>2</td><td>0</td><td>3</td><td>0</td><td>1</td><td>0</td><td>0</td><td>3.339094</td><td>1.0</td></tr><tr><td>&hellip;</td><td>&hellip;</td><td>&hellip;</td><td>&hellip;</td><td>&hellip;</td><td>&hellip;</td><td>&hellip;</td><td>&hellip;</td><td>&hellip;</td><td>&hellip;</td><td>&hellip;</td><td>&hellip;</td><td>&hellip;</td><td>&hellip;</td><td>&hellip;</td></tr><tr><td>2633</td><td>18</td><td>&quot;1&quot;</td><td>1</td><td>1</td><td>0.810183</td><td>3</td><td>0</td><td>3</td><td>0</td><td>1</td><td>1</td><td>0</td><td>3.133768</td><td>1.0</td></tr><tr><td>2738</td><td>17</td><td>&quot;0&quot;</td><td>0</td><td>1</td><td>4.312795</td><td>4</td><td>0</td><td>3</td><td>1</td><td>1</td><td>0</td><td>0</td><td>3.152519</td><td>1.0</td></tr><tr><td>3149</td><td>16</td><td>&quot;1&quot;</td><td>0</td><td>2</td><td>3.646704</td><td>6</td><td>0</td><td>3</td><td>1</td><td>1</td><td>1</td><td>0</td><td>3.183232</td><td>1.0</td></tr><tr><td>3178</td><td>18</td><td>&quot;0&quot;</td><td>2</td><td>1</td><td>4.033104</td><td>3</td><td>1</td><td>3</td><td>0</td><td>0</td><td>0</td><td>1</td><td>3.189217</td><td>2.0</td></tr><tr><td>3355</td><td>16</td><td>&quot;1&quot;</td><td>0</td><td>2</td><td>1.56549</td><td>4</td><td>1</td><td>4</td><td>1</td><td>1</td><td>0</td><td>0</td><td>3.979421</td><td>4.0</td></tr></tbody></table></div>"
      ],
      "text/plain": [
       "shape: (25, 15)\n",
       "┌───────────┬─────┬────────┬───────────┬───┬───────┬──────────────┬──────────┬────────────┐\n",
       "│ StudentID ┆ Age ┆ Gender ┆ Ethnicity ┆ … ┆ Music ┆ Volunteering ┆ GPA      ┆ GradeClass │\n",
       "│ ---       ┆ --- ┆ ---    ┆ ---       ┆   ┆ ---   ┆ ---          ┆ ---      ┆ ---        │\n",
       "│ i64       ┆ i64 ┆ enum   ┆ i64       ┆   ┆ i64   ┆ i64          ┆ f64      ┆ f64        │\n",
       "╞═══════════╪═════╪════════╪═══════════╪═══╪═══════╪══════════════╪══════════╪════════════╡\n",
       "│ 1070      ┆ 16  ┆ 1      ┆ 2         ┆ … ┆ 1     ┆ 0            ┆ 3.283917 ┆ 1.0        │\n",
       "│ 1141      ┆ 18  ┆ 1      ┆ 0         ┆ … ┆ 0     ┆ 0            ┆ 3.139482 ┆ 1.0        │\n",
       "│ 1161      ┆ 17  ┆ 0      ┆ 2         ┆ … ┆ 0     ┆ 1            ┆ 3.375994 ┆ 1.0        │\n",
       "│ 1197      ┆ 16  ┆ 1      ┆ 0         ┆ … ┆ 0     ┆ 1            ┆ 3.117354 ┆ 1.0        │\n",
       "│ 1230      ┆ 15  ┆ 0      ┆ 2         ┆ … ┆ 0     ┆ 0            ┆ 3.339094 ┆ 1.0        │\n",
       "│ …         ┆ …   ┆ …      ┆ …         ┆ … ┆ …     ┆ …            ┆ …        ┆ …          │\n",
       "│ 2633      ┆ 18  ┆ 1      ┆ 1         ┆ … ┆ 1     ┆ 0            ┆ 3.133768 ┆ 1.0        │\n",
       "│ 2738      ┆ 17  ┆ 0      ┆ 0         ┆ … ┆ 0     ┆ 0            ┆ 3.152519 ┆ 1.0        │\n",
       "│ 3149      ┆ 16  ┆ 1      ┆ 0         ┆ … ┆ 1     ┆ 0            ┆ 3.183232 ┆ 1.0        │\n",
       "│ 3178      ┆ 18  ┆ 0      ┆ 2         ┆ … ┆ 0     ┆ 1            ┆ 3.189217 ┆ 2.0        │\n",
       "│ 3355      ┆ 16  ┆ 1      ┆ 0         ┆ … ┆ 0     ┆ 0            ┆ 3.979421 ┆ 4.0        │\n",
       "└───────────┴─────┴────────┴───────────┴───┴───────┴──────────────┴──────────┴────────────┘"
      ]
     },
     "execution_count": 33,
     "metadata": {},
     "output_type": "execute_result"
    }
   ],
   "source": [
    "# 复杂选中\n",
    "student_performance.filter(\n",
    "    (pl.col(\"StudyTimeWeekly\") < pl.col(\"StudyTimeWeekly\").quantile(0.25)).or_(\n",
    "        (pl.col(\"Absences\") > pl.quantile(\"Absences\", 0.75))\n",
    "    ),\n",
    "    (pl.col(\"ParentalEducation\") >= 3).or_(pl.col(\"ParentalSupport\") >= 3),\n",
    "    pl.col(\"GPA\") > 3.0,\n",
    ")\n"
   ]
  },
  {
   "cell_type": "markdown",
   "metadata": {},
   "source": [
    "### 3.4 排序\n",
    "\n",
    "`polars` 提供了 `sort` 方法来实现排序功能，和 `pandas` 类似，可以通过 `by` 参数指定排序的列，通过 `descending` 参数指定排序的方向。\n"
   ]
  },
  {
   "cell_type": "code",
   "execution_count": 34,
   "metadata": {},
   "outputs": [
    {
     "data": {
      "text/html": [
       "<div><style>\n",
       ".dataframe > thead > tr,\n",
       ".dataframe > tbody > tr {\n",
       "  text-align: right;\n",
       "  white-space: pre-wrap;\n",
       "}\n",
       "</style>\n",
       "<small>shape: (5, 15)</small><table border=\"1\" class=\"dataframe\"><thead><tr><th>StudentID</th><th>Age</th><th>Gender</th><th>Ethnicity</th><th>ParentalEducation</th><th>StudyTimeWeekly</th><th>Absences</th><th>Tutoring</th><th>ParentalSupport</th><th>Extracurricular</th><th>Sports</th><th>Music</th><th>Volunteering</th><th>GPA</th><th>GradeClass</th></tr><tr><td>i64</td><td>i64</td><td>enum</td><td>i64</td><td>i64</td><td>f64</td><td>i64</td><td>i64</td><td>i64</td><td>i64</td><td>i64</td><td>i64</td><td>i64</td><td>f64</td><td>f64</td></tr></thead><tbody><tr><td>1045</td><td>18</td><td>&quot;1&quot;</td><td>0</td><td>1</td><td>18.921512</td><td>1</td><td>1</td><td>3</td><td>1</td><td>1</td><td>0</td><td>0</td><td>4.0</td><td>0.0</td></tr><tr><td>1443</td><td>15</td><td>&quot;0&quot;</td><td>0</td><td>2</td><td>19.424398</td><td>0</td><td>0</td><td>3</td><td>0</td><td>1</td><td>1</td><td>1</td><td>4.0</td><td>0.0</td></tr><tr><td>2279</td><td>15</td><td>&quot;1&quot;</td><td>0</td><td>2</td><td>18.899696</td><td>3</td><td>1</td><td>3</td><td>1</td><td>1</td><td>0</td><td>0</td><td>4.0</td><td>0.0</td></tr><tr><td>2706</td><td>18</td><td>&quot;1&quot;</td><td>0</td><td>2</td><td>8.858282</td><td>0</td><td>1</td><td>4</td><td>1</td><td>0</td><td>0</td><td>0</td><td>4.0</td><td>0.0</td></tr><tr><td>2920</td><td>15</td><td>&quot;0&quot;</td><td>3</td><td>1</td><td>17.442121</td><td>1</td><td>1</td><td>1</td><td>1</td><td>1</td><td>0</td><td>0</td><td>4.0</td><td>0.0</td></tr></tbody></table></div>"
      ],
      "text/plain": [
       "shape: (5, 15)\n",
       "┌───────────┬─────┬────────┬───────────┬───┬───────┬──────────────┬─────┬────────────┐\n",
       "│ StudentID ┆ Age ┆ Gender ┆ Ethnicity ┆ … ┆ Music ┆ Volunteering ┆ GPA ┆ GradeClass │\n",
       "│ ---       ┆ --- ┆ ---    ┆ ---       ┆   ┆ ---   ┆ ---          ┆ --- ┆ ---        │\n",
       "│ i64       ┆ i64 ┆ enum   ┆ i64       ┆   ┆ i64   ┆ i64          ┆ f64 ┆ f64        │\n",
       "╞═══════════╪═════╪════════╪═══════════╪═══╪═══════╪══════════════╪═════╪════════════╡\n",
       "│ 1045      ┆ 18  ┆ 1      ┆ 0         ┆ … ┆ 0     ┆ 0            ┆ 4.0 ┆ 0.0        │\n",
       "│ 1443      ┆ 15  ┆ 0      ┆ 0         ┆ … ┆ 1     ┆ 1            ┆ 4.0 ┆ 0.0        │\n",
       "│ 2279      ┆ 15  ┆ 1      ┆ 0         ┆ … ┆ 0     ┆ 0            ┆ 4.0 ┆ 0.0        │\n",
       "│ 2706      ┆ 18  ┆ 1      ┆ 0         ┆ … ┆ 0     ┆ 0            ┆ 4.0 ┆ 0.0        │\n",
       "│ 2920      ┆ 15  ┆ 0      ┆ 3         ┆ … ┆ 0     ┆ 0            ┆ 4.0 ┆ 0.0        │\n",
       "└───────────┴─────┴────────┴───────────┴───┴───────┴──────────────┴─────┴────────────┘"
      ]
     },
     "execution_count": 34,
     "metadata": {},
     "output_type": "execute_result"
    }
   ],
   "source": [
    "student_performance.sort(\"GPA\", descending=True).head(5)"
   ]
  },
  {
   "cell_type": "code",
   "execution_count": 35,
   "metadata": {},
   "outputs": [
    {
     "data": {
      "text/html": [
       "<div><style>\n",
       ".dataframe > thead > tr,\n",
       ".dataframe > tbody > tr {\n",
       "  text-align: right;\n",
       "  white-space: pre-wrap;\n",
       "}\n",
       "</style>\n",
       "<small>shape: (10, 15)</small><table border=\"1\" class=\"dataframe\"><thead><tr><th>StudentID</th><th>Age</th><th>Gender</th><th>Ethnicity</th><th>ParentalEducation</th><th>StudyTimeWeekly</th><th>Absences</th><th>Tutoring</th><th>ParentalSupport</th><th>Extracurricular</th><th>Sports</th><th>Music</th><th>Volunteering</th><th>GPA</th><th>GradeClass</th></tr><tr><td>i64</td><td>i64</td><td>enum</td><td>i64</td><td>i64</td><td>f64</td><td>i64</td><td>i64</td><td>i64</td><td>i64</td><td>i64</td><td>i64</td><td>i64</td><td>f64</td><td>f64</td></tr></thead><tbody><tr><td>2279</td><td>15</td><td>&quot;1&quot;</td><td>0</td><td>2</td><td>18.899696</td><td>3</td><td>1</td><td>3</td><td>1</td><td>1</td><td>0</td><td>0</td><td>4.0</td><td>0.0</td></tr><tr><td>2920</td><td>15</td><td>&quot;0&quot;</td><td>3</td><td>1</td><td>17.442121</td><td>1</td><td>1</td><td>1</td><td>1</td><td>1</td><td>0</td><td>0</td><td>4.0</td><td>0.0</td></tr><tr><td>1443</td><td>15</td><td>&quot;0&quot;</td><td>0</td><td>2</td><td>19.424398</td><td>0</td><td>0</td><td>3</td><td>0</td><td>1</td><td>1</td><td>1</td><td>4.0</td><td>0.0</td></tr><tr><td>3029</td><td>16</td><td>&quot;1&quot;</td><td>0</td><td>0</td><td>18.656924</td><td>0</td><td>1</td><td>4</td><td>1</td><td>0</td><td>0</td><td>1</td><td>4.0</td><td>0.0</td></tr><tr><td>3320</td><td>17</td><td>&quot;0&quot;</td><td>0</td><td>2</td><td>9.285447</td><td>0</td><td>0</td><td>4</td><td>1</td><td>0</td><td>1</td><td>1</td><td>4.0</td><td>3.0</td></tr><tr><td>2706</td><td>18</td><td>&quot;1&quot;</td><td>0</td><td>2</td><td>8.858282</td><td>0</td><td>1</td><td>4</td><td>1</td><td>0</td><td>0</td><td>0</td><td>4.0</td><td>0.0</td></tr><tr><td>1045</td><td>18</td><td>&quot;1&quot;</td><td>0</td><td>1</td><td>18.921512</td><td>1</td><td>1</td><td>3</td><td>1</td><td>1</td><td>0</td><td>0</td><td>4.0</td><td>0.0</td></tr><tr><td>2261</td><td>17</td><td>&quot;1&quot;</td><td>2</td><td>2</td><td>9.001905</td><td>2</td><td>1</td><td>3</td><td>1</td><td>1</td><td>0</td><td>0</td><td>3.984674</td><td>0.0</td></tr><tr><td>3355</td><td>16</td><td>&quot;1&quot;</td><td>0</td><td>2</td><td>1.56549</td><td>4</td><td>1</td><td>4</td><td>1</td><td>1</td><td>0</td><td>0</td><td>3.979421</td><td>4.0</td></tr><tr><td>2901</td><td>18</td><td>&quot;1&quot;</td><td>1</td><td>2</td><td>15.683744</td><td>1</td><td>1</td><td>4</td><td>0</td><td>1</td><td>0</td><td>0</td><td>3.95146</td><td>0.0</td></tr></tbody></table></div>"
      ],
      "text/plain": [
       "shape: (10, 15)\n",
       "┌───────────┬─────┬────────┬───────────┬───┬───────┬──────────────┬──────────┬────────────┐\n",
       "│ StudentID ┆ Age ┆ Gender ┆ Ethnicity ┆ … ┆ Music ┆ Volunteering ┆ GPA      ┆ GradeClass │\n",
       "│ ---       ┆ --- ┆ ---    ┆ ---       ┆   ┆ ---   ┆ ---          ┆ ---      ┆ ---        │\n",
       "│ i64       ┆ i64 ┆ enum   ┆ i64       ┆   ┆ i64   ┆ i64          ┆ f64      ┆ f64        │\n",
       "╞═══════════╪═════╪════════╪═══════════╪═══╪═══════╪══════════════╪══════════╪════════════╡\n",
       "│ 2279      ┆ 15  ┆ 1      ┆ 0         ┆ … ┆ 0     ┆ 0            ┆ 4.0      ┆ 0.0        │\n",
       "│ 2920      ┆ 15  ┆ 0      ┆ 3         ┆ … ┆ 0     ┆ 0            ┆ 4.0      ┆ 0.0        │\n",
       "│ 1443      ┆ 15  ┆ 0      ┆ 0         ┆ … ┆ 1     ┆ 1            ┆ 4.0      ┆ 0.0        │\n",
       "│ 3029      ┆ 16  ┆ 1      ┆ 0         ┆ … ┆ 0     ┆ 1            ┆ 4.0      ┆ 0.0        │\n",
       "│ 3320      ┆ 17  ┆ 0      ┆ 0         ┆ … ┆ 1     ┆ 1            ┆ 4.0      ┆ 3.0        │\n",
       "│ 2706      ┆ 18  ┆ 1      ┆ 0         ┆ … ┆ 0     ┆ 0            ┆ 4.0      ┆ 0.0        │\n",
       "│ 1045      ┆ 18  ┆ 1      ┆ 0         ┆ … ┆ 0     ┆ 0            ┆ 4.0      ┆ 0.0        │\n",
       "│ 2261      ┆ 17  ┆ 1      ┆ 2         ┆ … ┆ 0     ┆ 0            ┆ 3.984674 ┆ 0.0        │\n",
       "│ 3355      ┆ 16  ┆ 1      ┆ 0         ┆ … ┆ 0     ┆ 0            ┆ 3.979421 ┆ 4.0        │\n",
       "│ 2901      ┆ 18  ┆ 1      ┆ 1         ┆ … ┆ 0     ┆ 0            ┆ 3.95146  ┆ 0.0        │\n",
       "└───────────┴─────┴────────┴───────────┴───┴───────┴──────────────┴──────────┴────────────┘"
      ]
     },
     "execution_count": 35,
     "metadata": {},
     "output_type": "execute_result"
    }
   ],
   "source": [
    "# 复杂排序\n",
    "student_performance.sort(\n",
    "    \"GPA\",\n",
    "    \"Age\",\n",
    "    pl.col(\"Sports\") + pl.col(\"Music\"),\n",
    "    \"StudyTimeWeekly\",\n",
    "    descending=[True, False, False, True],\n",
    ").head(10)"
   ]
  },
  {
   "cell_type": "markdown",
   "metadata": {},
   "source": [
    "### 3.5 拼接\n",
    "\n",
    "`polars` 可以通过 `concat`，`hstack`，`vstack`，`exend`，`join`，`merge_sorted`来实现拼接功能。\n",
    "\n",
    "其中 `concat` 是 `polars` 的 namespace，其余都是 `DataFrame` 的方法。\n",
    "\n",
    "需要特别关注\n",
    "\n",
    "1. `extend` / `hstack` / `vstack` 支持 `inplace=True` 参数，默认为 `False`，如果 `inplace` 为 `True`，则会直接在原 DataFrame 上进行操作。\n",
    "2. `extend` 默认不会从 `other` 中移动内存，而是尝试在当前内存大小中进行操作，所以如果不需要进行 resize 行为，`extend` 会更快。反之，如果当前申请的内存大小不足以容纳 `other`，则会进行 resize 操作后生成新的 chunk，影响 query 性能。所以如果是插入后查询，则倾向于使用 `extend`，如果是多次插入后查询，则倾向于使用 `vstack`。\n",
    "3. `join` / `update` 签名基本一致，如 `on`, `left_on`, `right_on`, `how` 等，区别在于 `join` 是拼接行为，`update` 是更新行为。\n",
    "4. `concat` 会要求所有的 DataFrame 的宽（`how=\"vertical\"`）/高（`how=\"horizontal\"`）度一致，否则会 `raise`。`hstack` 和 `vstack` 同理。\n"
   ]
  },
  {
   "cell_type": "code",
   "execution_count": 36,
   "metadata": {},
   "outputs": [
    {
     "data": {
      "text/html": [
       "<div><style>\n",
       ".dataframe > thead > tr,\n",
       ".dataframe > tbody > tr {\n",
       "  text-align: right;\n",
       "  white-space: pre-wrap;\n",
       "}\n",
       "</style>\n",
       "<small>shape: (2, 4)</small><table border=\"1\" class=\"dataframe\"><thead><tr><th>foo</th><th>bar</th><th>ham</th><th>apple</th></tr><tr><td>i64</td><td>f64</td><td>str</td><td>str</td></tr></thead><tbody><tr><td>1</td><td>6.0</td><td>&quot;a&quot;</td><td>&quot;x&quot;</td></tr><tr><td>2</td><td>7.0</td><td>&quot;b&quot;</td><td>&quot;y&quot;</td></tr></tbody></table></div>"
      ],
      "text/plain": [
       "shape: (2, 4)\n",
       "┌─────┬─────┬─────┬───────┐\n",
       "│ foo ┆ bar ┆ ham ┆ apple │\n",
       "│ --- ┆ --- ┆ --- ┆ ---   │\n",
       "│ i64 ┆ f64 ┆ str ┆ str   │\n",
       "╞═════╪═════╪═════╪═══════╡\n",
       "│ 1   ┆ 6.0 ┆ a   ┆ x     │\n",
       "│ 2   ┆ 7.0 ┆ b   ┆ y     │\n",
       "└─────┴─────┴─────┴───────┘"
      ]
     },
     "execution_count": 36,
     "metadata": {},
     "output_type": "execute_result"
    }
   ],
   "source": [
    "df = pl.DataFrame(\n",
    "    {\n",
    "        \"foo\": [1, 2, 3],\n",
    "        \"bar\": [6.0, 7.0, 8.0],\n",
    "        \"ham\": [\"a\", \"b\", \"c\"],\n",
    "    }\n",
    ")\n",
    "other_df = pl.DataFrame(\n",
    "    {\n",
    "        \"apple\": [\"x\", \"y\", \"z\"],\n",
    "        \"ham\": [\"a\", \"b\", \"d\"],\n",
    "    }\n",
    ")\n",
    "df.join(other_df, on=\"ham\")"
   ]
  },
  {
   "cell_type": "code",
   "execution_count": 37,
   "metadata": {},
   "outputs": [
    {
     "data": {
      "text/html": [
       "<div><style>\n",
       ".dataframe > thead > tr,\n",
       ".dataframe > tbody > tr {\n",
       "  text-align: right;\n",
       "  white-space: pre-wrap;\n",
       "}\n",
       "</style>\n",
       "<small>shape: (4, 5)</small><table border=\"1\" class=\"dataframe\"><thead><tr><th>foo</th><th>bar</th><th>ham</th><th>apple</th><th>ham_right</th></tr><tr><td>i64</td><td>f64</td><td>str</td><td>str</td><td>str</td></tr></thead><tbody><tr><td>1</td><td>6.0</td><td>&quot;a&quot;</td><td>&quot;x&quot;</td><td>&quot;a&quot;</td></tr><tr><td>2</td><td>7.0</td><td>&quot;b&quot;</td><td>&quot;y&quot;</td><td>&quot;b&quot;</td></tr><tr><td>null</td><td>null</td><td>null</td><td>&quot;z&quot;</td><td>&quot;d&quot;</td></tr><tr><td>3</td><td>8.0</td><td>&quot;c&quot;</td><td>null</td><td>null</td></tr></tbody></table></div>"
      ],
      "text/plain": [
       "shape: (4, 5)\n",
       "┌──────┬──────┬──────┬───────┬───────────┐\n",
       "│ foo  ┆ bar  ┆ ham  ┆ apple ┆ ham_right │\n",
       "│ ---  ┆ ---  ┆ ---  ┆ ---   ┆ ---       │\n",
       "│ i64  ┆ f64  ┆ str  ┆ str   ┆ str       │\n",
       "╞══════╪══════╪══════╪═══════╪═══════════╡\n",
       "│ 1    ┆ 6.0  ┆ a    ┆ x     ┆ a         │\n",
       "│ 2    ┆ 7.0  ┆ b    ┆ y     ┆ b         │\n",
       "│ null ┆ null ┆ null ┆ z     ┆ d         │\n",
       "│ 3    ┆ 8.0  ┆ c    ┆ null  ┆ null      │\n",
       "└──────┴──────┴──────┴───────┴───────────┘"
      ]
     },
     "execution_count": 37,
     "metadata": {},
     "output_type": "execute_result"
    }
   ],
   "source": [
    "df.join(other_df, on=\"ham\", how=\"full\")"
   ]
  },
  {
   "cell_type": "code",
   "execution_count": 38,
   "metadata": {},
   "outputs": [
    {
     "data": {
      "text/html": [
       "<div><style>\n",
       ".dataframe > thead > tr,\n",
       ".dataframe > tbody > tr {\n",
       "  text-align: right;\n",
       "  white-space: pre-wrap;\n",
       "}\n",
       "</style>\n",
       "<small>shape: (3, 5)</small><table border=\"1\" class=\"dataframe\"><thead><tr><th>foo</th><th>bar</th><th>ham</th><th>apple</th><th>ham_right</th></tr><tr><td>i64</td><td>f64</td><td>str</td><td>str</td><td>str</td></tr></thead><tbody><tr><td>1</td><td>6.0</td><td>&quot;a&quot;</td><td>&quot;x&quot;</td><td>&quot;a&quot;</td></tr><tr><td>2</td><td>7.0</td><td>&quot;b&quot;</td><td>&quot;y&quot;</td><td>&quot;b&quot;</td></tr><tr><td>3</td><td>8.0</td><td>&quot;c&quot;</td><td>null</td><td>null</td></tr></tbody></table></div>"
      ],
      "text/plain": [
       "shape: (3, 5)\n",
       "┌─────┬─────┬─────┬───────┬───────────┐\n",
       "│ foo ┆ bar ┆ ham ┆ apple ┆ ham_right │\n",
       "│ --- ┆ --- ┆ --- ┆ ---   ┆ ---       │\n",
       "│ i64 ┆ f64 ┆ str ┆ str   ┆ str       │\n",
       "╞═════╪═════╪═════╪═══════╪═══════════╡\n",
       "│ 1   ┆ 6.0 ┆ a   ┆ x     ┆ a         │\n",
       "│ 2   ┆ 7.0 ┆ b   ┆ y     ┆ b         │\n",
       "│ 3   ┆ 8.0 ┆ c   ┆ null  ┆ null      │\n",
       "└─────┴─────┴─────┴───────┴───────────┘"
      ]
     },
     "execution_count": 38,
     "metadata": {},
     "output_type": "execute_result"
    }
   ],
   "source": [
    "df.join(other_df, on=\"ham\", how=\"left\", coalesce=False)"
   ]
  },
  {
   "cell_type": "code",
   "execution_count": 39,
   "metadata": {},
   "outputs": [
    {
     "data": {
      "text/html": [
       "<div><style>\n",
       ".dataframe > thead > tr,\n",
       ".dataframe > tbody > tr {\n",
       "  text-align: right;\n",
       "  white-space: pre-wrap;\n",
       "}\n",
       "</style>\n",
       "<small>shape: (3, 4)</small><table border=\"1\" class=\"dataframe\"><thead><tr><th>foo</th><th>bar</th><th>ham</th><th>apple</th></tr><tr><td>i64</td><td>f64</td><td>str</td><td>str</td></tr></thead><tbody><tr><td>1</td><td>6.0</td><td>&quot;a&quot;</td><td>&quot;x&quot;</td></tr><tr><td>2</td><td>7.0</td><td>&quot;b&quot;</td><td>&quot;y&quot;</td></tr><tr><td>3</td><td>8.0</td><td>&quot;c&quot;</td><td>null</td></tr></tbody></table></div>"
      ],
      "text/plain": [
       "shape: (3, 4)\n",
       "┌─────┬─────┬─────┬───────┐\n",
       "│ foo ┆ bar ┆ ham ┆ apple │\n",
       "│ --- ┆ --- ┆ --- ┆ ---   │\n",
       "│ i64 ┆ f64 ┆ str ┆ str   │\n",
       "╞═════╪═════╪═════╪═══════╡\n",
       "│ 1   ┆ 6.0 ┆ a   ┆ x     │\n",
       "│ 2   ┆ 7.0 ┆ b   ┆ y     │\n",
       "│ 3   ┆ 8.0 ┆ c   ┆ null  │\n",
       "└─────┴─────┴─────┴───────┘"
      ]
     },
     "execution_count": 39,
     "metadata": {},
     "output_type": "execute_result"
    }
   ],
   "source": [
    "df.join(other_df, on=\"ham\", how=\"left\", coalesce=True)"
   ]
  },
  {
   "cell_type": "code",
   "execution_count": 40,
   "metadata": {},
   "outputs": [
    {
     "data": {
      "text/html": [
       "<div><style>\n",
       ".dataframe > thead > tr,\n",
       ".dataframe > tbody > tr {\n",
       "  text-align: right;\n",
       "  white-space: pre-wrap;\n",
       "}\n",
       "</style>\n",
       "<small>shape: (5, 3)</small><table border=\"1\" class=\"dataframe\"><thead><tr><th>foo</th><th>bar</th><th>ham</th></tr><tr><td>i64</td><td>f64</td><td>str</td></tr></thead><tbody><tr><td>1</td><td>6.0</td><td>&quot;a&quot;</td></tr><tr><td>4</td><td>9.0</td><td>&quot;d&quot;</td></tr><tr><td>5</td><td>10.0</td><td>&quot;e&quot;</td></tr><tr><td>2</td><td>7.0</td><td>&quot;b&quot;</td></tr><tr><td>3</td><td>8.0</td><td>&quot;c&quot;</td></tr></tbody></table></div>"
      ],
      "text/plain": [
       "shape: (5, 3)\n",
       "┌─────┬──────┬─────┐\n",
       "│ foo ┆ bar  ┆ ham │\n",
       "│ --- ┆ ---  ┆ --- │\n",
       "│ i64 ┆ f64  ┆ str │\n",
       "╞═════╪══════╪═════╡\n",
       "│ 1   ┆ 6.0  ┆ a   │\n",
       "│ 4   ┆ 9.0  ┆ d   │\n",
       "│ 5   ┆ 10.0 ┆ e   │\n",
       "│ 2   ┆ 7.0  ┆ b   │\n",
       "│ 3   ┆ 8.0  ┆ c   │\n",
       "└─────┴──────┴─────┘"
      ]
     },
     "execution_count": 40,
     "metadata": {},
     "output_type": "execute_result"
    }
   ],
   "source": [
    "# 插入行\n",
    "insert_at = 1\n",
    "pl.concat(\n",
    "    [\n",
    "        df[:insert_at],\n",
    "        pl.DataFrame({\"foo\": [4, 5], \"bar\": [9.0, 10.0], \"ham\": [\"d\", \"e\"]}),\n",
    "        df[insert_at:],\n",
    "    ]\n",
    ")"
   ]
  },
  {
   "cell_type": "code",
   "execution_count": 41,
   "metadata": {},
   "outputs": [
    {
     "data": {
      "text/html": [
       "<div><style>\n",
       ".dataframe > thead > tr,\n",
       ".dataframe > tbody > tr {\n",
       "  text-align: right;\n",
       "  white-space: pre-wrap;\n",
       "}\n",
       "</style>\n",
       "<small>shape: (6, 3)</small><table border=\"1\" class=\"dataframe\"><thead><tr><th>foo</th><th>bar</th><th>ham</th></tr><tr><td>i64</td><td>f64</td><td>str</td></tr></thead><tbody><tr><td>1</td><td>6.0</td><td>&quot;a&quot;</td></tr><tr><td>null</td><td>6.5</td><td>&quot;x&quot;</td></tr><tr><td>2</td><td>7.0</td><td>&quot;b&quot;</td></tr><tr><td>null</td><td>7.5</td><td>&quot;x&quot;</td></tr><tr><td>3</td><td>8.0</td><td>&quot;c&quot;</td></tr><tr><td>null</td><td>8.5</td><td>&quot;x&quot;</td></tr></tbody></table></div>"
      ],
      "text/plain": [
       "shape: (6, 3)\n",
       "┌──────┬─────┬─────┐\n",
       "│ foo  ┆ bar ┆ ham │\n",
       "│ ---  ┆ --- ┆ --- │\n",
       "│ i64  ┆ f64 ┆ str │\n",
       "╞══════╪═════╪═════╡\n",
       "│ 1    ┆ 6.0 ┆ a   │\n",
       "│ null ┆ 6.5 ┆ x   │\n",
       "│ 2    ┆ 7.0 ┆ b   │\n",
       "│ null ┆ 7.5 ┆ x   │\n",
       "│ 3    ┆ 8.0 ┆ c   │\n",
       "│ null ┆ 8.5 ┆ x   │\n",
       "└──────┴─────┴─────┘"
      ]
     },
     "execution_count": 41,
     "metadata": {},
     "output_type": "execute_result"
    }
   ],
   "source": [
    "# 按须插入行\n",
    "df.merge_sorted(\n",
    "    pl.DataFrame({\"foo\": None, \"bar\": [6.5, 7.5, 8.5], \"ham\": \"x\"}), key=\"bar\"\n",
    ")\n"
   ]
  },
  {
   "cell_type": "markdown",
   "metadata": {},
   "source": [
    "### 3.6 添加列\n",
    "\n",
    "`polars` 提供了 `with_columns` / `insert_column` 用于添加列，与 pandas 不同的是 `polars` 不支持直接通过 `[]` 添加列，并且函数行为会返回一个新的对象，而不是在原对象上进行操作。赋值的列支持\n",
    "\n",
    "1. 表达式\n",
    "2. Series\n",
    "3. `a=b` 形式的 named pair\n"
   ]
  },
  {
   "cell_type": "code",
   "execution_count": 42,
   "metadata": {},
   "outputs": [],
   "source": [
    "def int_to_roman(num: int) -> str:\n",
    "    # Storing roman values of digits from 0-9\n",
    "    # when placed at different places\n",
    "    m = [\"\", \"M\", \"MM\", \"MMM\"]\n",
    "    c = [\"\", \"C\", \"CC\", \"CCC\", \"CD\", \"D\", \"DC\", \"DCC\", \"DCCC\", \"CM \"]\n",
    "    x = [\"\", \"X\", \"XX\", \"XXX\", \"XL\", \"L\", \"LX\", \"LXX\", \"LXXX\", \"XC\"]\n",
    "    i = [\"\", \"I\", \"II\", \"III\", \"IV\", \"V\", \"VI\", \"VII\", \"VIII\", \"IX\"]\n",
    "\n",
    "    # Converting to roman\n",
    "    thousands = m[num // 1000]\n",
    "    hundreds = c[(num % 1000) // 100]\n",
    "    tens = x[(num % 100) // 10]\n",
    "    ones = i[num % 10]\n",
    "\n",
    "    ans = thousands + hundreds + tens + ones\n",
    "\n",
    "    return ans"
   ]
  },
  {
   "cell_type": "code",
   "execution_count": 43,
   "metadata": {},
   "outputs": [
    {
     "data": {
      "text/html": [
       "<div><style>\n",
       ".dataframe > thead > tr,\n",
       ".dataframe > tbody > tr {\n",
       "  text-align: right;\n",
       "  white-space: pre-wrap;\n",
       "}\n",
       "</style>\n",
       "<small>shape: (3, 8)</small><table border=\"1\" class=\"dataframe\"><thead><tr><th>NamedIndex</th><th>foo</th><th>bar</th><th>ham</th><th>foo * 2</th><th>NullColumn</th><th>均匀分布</th><th>bar_with_noise</th></tr><tr><td>str</td><td>i64</td><td>f64</td><td>str</td><td>i64</td><td>null</td><td>f64</td><td>f64</td></tr></thead><tbody><tr><td>&quot;I&quot;</td><td>1</td><td>6.0</td><td>&quot;a&quot;</td><td>2</td><td>null</td><td>0.811194</td><td>8.088877</td></tr><tr><td>&quot;II&quot;</td><td>2</td><td>7.0</td><td>&quot;b&quot;</td><td>4</td><td>null</td><td>0.650119</td><td>6.013642</td></tr><tr><td>&quot;III&quot;</td><td>3</td><td>8.0</td><td>&quot;c&quot;</td><td>6</td><td>null</td><td>0.411437</td><td>8.191791</td></tr></tbody></table></div>"
      ],
      "text/plain": [
       "shape: (3, 8)\n",
       "┌────────────┬─────┬─────┬─────┬─────────┬────────────┬──────────┬────────────────┐\n",
       "│ NamedIndex ┆ foo ┆ bar ┆ ham ┆ foo * 2 ┆ NullColumn ┆ 均匀分布 ┆ bar_with_noise │\n",
       "│ ---        ┆ --- ┆ --- ┆ --- ┆ ---     ┆ ---        ┆ ---      ┆ ---            │\n",
       "│ str        ┆ i64 ┆ f64 ┆ str ┆ i64     ┆ null       ┆ f64      ┆ f64            │\n",
       "╞════════════╪═════╪═════╪═════╪═════════╪════════════╪══════════╪════════════════╡\n",
       "│ I          ┆ 1   ┆ 6.0 ┆ a   ┆ 2       ┆ null       ┆ 0.811194 ┆ 8.088877       │\n",
       "│ II         ┆ 2   ┆ 7.0 ┆ b   ┆ 4       ┆ null       ┆ 0.650119 ┆ 6.013642       │\n",
       "│ III        ┆ 3   ┆ 8.0 ┆ c   ┆ 6       ┆ null       ┆ 0.411437 ┆ 8.191791       │\n",
       "└────────────┴─────┴─────┴─────┴─────────┴────────────┴──────────┴────────────────┘"
      ]
     },
     "execution_count": 43,
     "metadata": {},
     "output_type": "execute_result"
    }
   ],
   "source": [
    "df.with_columns(\n",
    "    (pl.col(\"foo\") * 2).alias(\"foo * 2\"),\n",
    "    pl.Series(\"NullColumn\", [None]),\n",
    "    pl.Series(\"均匀分布\", np.random.uniform(size=df.height)),\n",
    "    bar_with_noise=pl.col(\"bar\") + np.random.normal(0, 1, size=df.height),\n",
    ").insert_column(\n",
    "    0,\n",
    "    pl.Series(\"NamedIndex\", np.arange(df.height) + 1).map_elements(\n",
    "        int_to_roman, return_dtype=pl.Categorical\n",
    "    ),\n",
    ")"
   ]
  },
  {
   "cell_type": "markdown",
   "metadata": {},
   "source": [
    "### 3.7 条件赋值\n",
    "\n",
    "`pl.when()` / `pl.when().then()` / `pl.when().then().otherwise()` 用于条件赋值，类似于 SQL 中的 `CASE WHEN` 语句。在拼接数据/列时，经常会用到这个方法。\n"
   ]
  },
  {
   "cell_type": "code",
   "execution_count": 44,
   "metadata": {},
   "outputs": [
    {
     "data": {
      "text/html": [
       "<div><style>\n",
       ".dataframe > thead > tr,\n",
       ".dataframe > tbody > tr {\n",
       "  text-align: right;\n",
       "  white-space: pre-wrap;\n",
       "}\n",
       "</style>\n",
       "<small>shape: (1_000, 11)</small><table border=\"1\" class=\"dataframe\"><thead><tr><th>PassengerId</th><th>Pclass</th><th>Name</th><th>Sex</th><th>Age</th><th>SibSp</th><th>Parch</th><th>Ticket</th><th>Fare</th><th>Embarked</th><th>Survived</th></tr><tr><td>i64</td><td>i64</td><td>str</td><td>str</td><td>i64</td><td>i64</td><td>i64</td><td>str</td><td>f64</td><td>str</td><td>i64</td></tr></thead><tbody><tr><td>1</td><td>3</td><td>&quot;Allison Hill&quot;</td><td>&quot;male&quot;</td><td>17</td><td>4</td><td>2</td><td>&quot;43d75413-a939-4bd1-a516-b0d47d…</td><td>144.08</td><td>&quot;Q&quot;</td><td>1</td></tr><tr><td>2</td><td>1</td><td>&quot;Noah Rhodes&quot;</td><td>&quot;male&quot;</td><td>60</td><td>2</td><td>2</td><td>&quot;6334fa2a-8b4b-47e7-a451-5ae017…</td><td>249.04</td><td>&quot;S&quot;</td><td>0</td></tr><tr><td>3</td><td>3</td><td>&quot;Angie Henderson&quot;</td><td>&quot;male&quot;</td><td>64</td><td>0</td><td>0</td><td>&quot;61a66444-e2af-4629-9efb-336e2f…</td><td>50.31</td><td>&quot;Q&quot;</td><td>1</td></tr><tr><td>4</td><td>3</td><td>&quot;Daniel Wagner&quot;</td><td>&quot;male&quot;</td><td>35</td><td>4</td><td>0</td><td>&quot;0b6c03c8-721e-4419-afc3-e6495e…</td><td>235.2</td><td>&quot;C&quot;</td><td>1</td></tr><tr><td>5</td><td>1</td><td>&quot;Cristian Santos&quot;</td><td>&quot;female&quot;</td><td>70</td><td>0</td><td>3</td><td>&quot;436e3c49-770e-49db-b092-d40143…</td><td>160.17</td><td>&quot;C&quot;</td><td>1</td></tr><tr><td>&hellip;</td><td>&hellip;</td><td>&hellip;</td><td>&hellip;</td><td>&hellip;</td><td>&hellip;</td><td>&hellip;</td><td>&hellip;</td><td>&hellip;</td><td>&hellip;</td><td>&hellip;</td></tr><tr><td>996</td><td>2</td><td>&quot;Brittany Ward&quot;</td><td>&quot;male&quot;</td><td>69</td><td>2</td><td>3</td><td>&quot;75eb0e8f-a090-460d-a7c7-655a7b…</td><td>19.87</td><td>&quot;Q&quot;</td><td>1</td></tr><tr><td>997</td><td>2</td><td>&quot;Edward Stanley&quot;</td><td>&quot;female&quot;</td><td>61</td><td>4</td><td>4</td><td>&quot;e55b93ad-8976-4471-9d7f-57d1e4…</td><td>85.35</td><td>&quot;C&quot;</td><td>0</td></tr><tr><td>998</td><td>3</td><td>&quot;Christina Johnson&quot;</td><td>&quot;male&quot;</td><td>10</td><td>4</td><td>1</td><td>&quot;d06d3943-c8b3-415e-b664-704355…</td><td>444.22</td><td>&quot;C&quot;</td><td>0</td></tr><tr><td>999</td><td>3</td><td>&quot;Edgar Miller&quot;</td><td>&quot;male&quot;</td><td>50</td><td>3</td><td>2</td><td>&quot;0e5779ec-be1a-470f-ad83-a4c869…</td><td>234.67</td><td>&quot;S&quot;</td><td>1</td></tr><tr><td>1000</td><td>1</td><td>&quot;Elizabeth Sanders&quot;</td><td>&quot;male&quot;</td><td>3</td><td>3</td><td>3</td><td>&quot;90a014ab-4ca1-4abd-8565-0e0bd5…</td><td>286.65</td><td>&quot;C&quot;</td><td>1</td></tr></tbody></table></div>"
      ],
      "text/plain": [
       "shape: (1_000, 11)\n",
       "┌─────────────┬────────┬───────────────┬────────┬───┬───────────────┬────────┬──────────┬──────────┐\n",
       "│ PassengerId ┆ Pclass ┆ Name          ┆ Sex    ┆ … ┆ Ticket        ┆ Fare   ┆ Embarked ┆ Survived │\n",
       "│ ---         ┆ ---    ┆ ---           ┆ ---    ┆   ┆ ---           ┆ ---    ┆ ---      ┆ ---      │\n",
       "│ i64         ┆ i64    ┆ str           ┆ str    ┆   ┆ str           ┆ f64    ┆ str      ┆ i64      │\n",
       "╞═════════════╪════════╪═══════════════╪════════╪═══╪═══════════════╪════════╪══════════╪══════════╡\n",
       "│ 1           ┆ 3      ┆ Allison Hill  ┆ male   ┆ … ┆ 43d75413-a939 ┆ 144.08 ┆ Q        ┆ 1        │\n",
       "│             ┆        ┆               ┆        ┆   ┆ -4bd1-a516-b0 ┆        ┆          ┆          │\n",
       "│             ┆        ┆               ┆        ┆   ┆ d47d…         ┆        ┆          ┆          │\n",
       "│ 2           ┆ 1      ┆ Noah Rhodes   ┆ male   ┆ … ┆ 6334fa2a-8b4b ┆ 249.04 ┆ S        ┆ 0        │\n",
       "│             ┆        ┆               ┆        ┆   ┆ -47e7-a451-5a ┆        ┆          ┆          │\n",
       "│             ┆        ┆               ┆        ┆   ┆ e017…         ┆        ┆          ┆          │\n",
       "│ 3           ┆ 3      ┆ Angie         ┆ male   ┆ … ┆ 61a66444-e2af ┆ 50.31  ┆ Q        ┆ 1        │\n",
       "│             ┆        ┆ Henderson     ┆        ┆   ┆ -4629-9efb-33 ┆        ┆          ┆          │\n",
       "│             ┆        ┆               ┆        ┆   ┆ 6e2f…         ┆        ┆          ┆          │\n",
       "│ 4           ┆ 3      ┆ Daniel Wagner ┆ male   ┆ … ┆ 0b6c03c8-721e ┆ 235.2  ┆ C        ┆ 1        │\n",
       "│             ┆        ┆               ┆        ┆   ┆ -4419-afc3-e6 ┆        ┆          ┆          │\n",
       "│             ┆        ┆               ┆        ┆   ┆ 495e…         ┆        ┆          ┆          │\n",
       "│ 5           ┆ 1      ┆ Cristian      ┆ female ┆ … ┆ 436e3c49-770e ┆ 160.17 ┆ C        ┆ 1        │\n",
       "│             ┆        ┆ Santos        ┆        ┆   ┆ -49db-b092-d4 ┆        ┆          ┆          │\n",
       "│             ┆        ┆               ┆        ┆   ┆ 0143…         ┆        ┆          ┆          │\n",
       "│ …           ┆ …      ┆ …             ┆ …      ┆ … ┆ …             ┆ …      ┆ …        ┆ …        │\n",
       "│ 996         ┆ 2      ┆ Brittany Ward ┆ male   ┆ … ┆ 75eb0e8f-a090 ┆ 19.87  ┆ Q        ┆ 1        │\n",
       "│             ┆        ┆               ┆        ┆   ┆ -460d-a7c7-65 ┆        ┆          ┆          │\n",
       "│             ┆        ┆               ┆        ┆   ┆ 5a7b…         ┆        ┆          ┆          │\n",
       "│ 997         ┆ 2      ┆ Edward        ┆ female ┆ … ┆ e55b93ad-8976 ┆ 85.35  ┆ C        ┆ 0        │\n",
       "│             ┆        ┆ Stanley       ┆        ┆   ┆ -4471-9d7f-57 ┆        ┆          ┆          │\n",
       "│             ┆        ┆               ┆        ┆   ┆ d1e4…         ┆        ┆          ┆          │\n",
       "│ 998         ┆ 3      ┆ Christina     ┆ male   ┆ … ┆ d06d3943-c8b3 ┆ 444.22 ┆ C        ┆ 0        │\n",
       "│             ┆        ┆ Johnson       ┆        ┆   ┆ -415e-b664-70 ┆        ┆          ┆          │\n",
       "│             ┆        ┆               ┆        ┆   ┆ 4355…         ┆        ┆          ┆          │\n",
       "│ 999         ┆ 3      ┆ Edgar Miller  ┆ male   ┆ … ┆ 0e5779ec-be1a ┆ 234.67 ┆ S        ┆ 1        │\n",
       "│             ┆        ┆               ┆        ┆   ┆ -470f-ad83-a4 ┆        ┆          ┆          │\n",
       "│             ┆        ┆               ┆        ┆   ┆ c869…         ┆        ┆          ┆          │\n",
       "│ 1000        ┆ 1      ┆ Elizabeth     ┆ male   ┆ … ┆ 90a014ab-4ca1 ┆ 286.65 ┆ C        ┆ 1        │\n",
       "│             ┆        ┆ Sanders       ┆        ┆   ┆ -4abd-8565-0e ┆        ┆          ┆          │\n",
       "│             ┆        ┆               ┆        ┆   ┆ 0bd5…         ┆        ┆          ┆          │\n",
       "└─────────────┴────────┴───────────────┴────────┴───┴───────────────┴────────┴──────────┴──────────┘"
      ]
     },
     "execution_count": 44,
     "metadata": {},
     "output_type": "execute_result"
    }
   ],
   "source": [
    "titanic = pl.read_csv(\"data/titanic.csv\", infer_schema_length=None)\n",
    "titanic"
   ]
  },
  {
   "cell_type": "code",
   "execution_count": 45,
   "metadata": {},
   "outputs": [
    {
     "data": {
      "text/html": [
       "<div><style>\n",
       ".dataframe > thead > tr,\n",
       ".dataframe > tbody > tr {\n",
       "  text-align: right;\n",
       "  white-space: pre-wrap;\n",
       "}\n",
       "</style>\n",
       "<small>shape: (1_000, 13)</small><table border=\"1\" class=\"dataframe\"><thead><tr><th>PassengerId</th><th>Pclass</th><th>Name</th><th>Sex</th><th>Age</th><th>SibSp</th><th>Parch</th><th>Ticket</th><th>Fare</th><th>Embarked</th><th>Survived</th><th>SEXN</th><th>Survived Status</th></tr><tr><td>i64</td><td>i64</td><td>str</td><td>str</td><td>i64</td><td>i64</td><td>i64</td><td>str</td><td>f64</td><td>str</td><td>i64</td><td>i32</td><td>str</td></tr></thead><tbody><tr><td>1</td><td>3</td><td>&quot;Allison Hill&quot;</td><td>&quot;male&quot;</td><td>17</td><td>4</td><td>2</td><td>&quot;43d75413-a939-4bd1-a516-b0d47d…</td><td>144.08</td><td>&quot;Q&quot;</td><td>1</td><td>0</td><td>&quot;Survived Child&quot;</td></tr><tr><td>2</td><td>1</td><td>&quot;Noah Rhodes&quot;</td><td>&quot;male&quot;</td><td>60</td><td>2</td><td>2</td><td>&quot;6334fa2a-8b4b-47e7-a451-5ae017…</td><td>249.04</td><td>&quot;S&quot;</td><td>0</td><td>0</td><td>null</td></tr><tr><td>3</td><td>3</td><td>&quot;Angie Henderson&quot;</td><td>&quot;male&quot;</td><td>64</td><td>0</td><td>0</td><td>&quot;61a66444-e2af-4629-9efb-336e2f…</td><td>50.31</td><td>&quot;Q&quot;</td><td>1</td><td>0</td><td>&quot;Survived Adult&quot;</td></tr><tr><td>4</td><td>3</td><td>&quot;Daniel Wagner&quot;</td><td>&quot;male&quot;</td><td>35</td><td>4</td><td>0</td><td>&quot;0b6c03c8-721e-4419-afc3-e6495e…</td><td>235.2</td><td>&quot;C&quot;</td><td>1</td><td>0</td><td>&quot;Survived Adult&quot;</td></tr><tr><td>5</td><td>1</td><td>&quot;Cristian Santos&quot;</td><td>&quot;female&quot;</td><td>70</td><td>0</td><td>3</td><td>&quot;436e3c49-770e-49db-b092-d40143…</td><td>160.17</td><td>&quot;C&quot;</td><td>1</td><td>1</td><td>&quot;Survived Adult&quot;</td></tr><tr><td>&hellip;</td><td>&hellip;</td><td>&hellip;</td><td>&hellip;</td><td>&hellip;</td><td>&hellip;</td><td>&hellip;</td><td>&hellip;</td><td>&hellip;</td><td>&hellip;</td><td>&hellip;</td><td>&hellip;</td><td>&hellip;</td></tr><tr><td>996</td><td>2</td><td>&quot;Brittany Ward&quot;</td><td>&quot;male&quot;</td><td>69</td><td>2</td><td>3</td><td>&quot;75eb0e8f-a090-460d-a7c7-655a7b…</td><td>19.87</td><td>&quot;Q&quot;</td><td>1</td><td>0</td><td>&quot;Survived Adult&quot;</td></tr><tr><td>997</td><td>2</td><td>&quot;Edward Stanley&quot;</td><td>&quot;female&quot;</td><td>61</td><td>4</td><td>4</td><td>&quot;e55b93ad-8976-4471-9d7f-57d1e4…</td><td>85.35</td><td>&quot;C&quot;</td><td>0</td><td>1</td><td>null</td></tr><tr><td>998</td><td>3</td><td>&quot;Christina Johnson&quot;</td><td>&quot;male&quot;</td><td>10</td><td>4</td><td>1</td><td>&quot;d06d3943-c8b3-415e-b664-704355…</td><td>444.22</td><td>&quot;C&quot;</td><td>0</td><td>0</td><td>null</td></tr><tr><td>999</td><td>3</td><td>&quot;Edgar Miller&quot;</td><td>&quot;male&quot;</td><td>50</td><td>3</td><td>2</td><td>&quot;0e5779ec-be1a-470f-ad83-a4c869…</td><td>234.67</td><td>&quot;S&quot;</td><td>1</td><td>0</td><td>&quot;Survived Adult&quot;</td></tr><tr><td>1000</td><td>1</td><td>&quot;Elizabeth Sanders&quot;</td><td>&quot;male&quot;</td><td>3</td><td>3</td><td>3</td><td>&quot;90a014ab-4ca1-4abd-8565-0e0bd5…</td><td>286.65</td><td>&quot;C&quot;</td><td>1</td><td>0</td><td>&quot;Survived Child&quot;</td></tr></tbody></table></div>"
      ],
      "text/plain": [
       "shape: (1_000, 13)\n",
       "┌─────────────┬────────┬────────────────┬────────┬───┬──────────┬──────────┬──────┬────────────────┐\n",
       "│ PassengerId ┆ Pclass ┆ Name           ┆ Sex    ┆ … ┆ Embarked ┆ Survived ┆ SEXN ┆ Survived       │\n",
       "│ ---         ┆ ---    ┆ ---            ┆ ---    ┆   ┆ ---      ┆ ---      ┆ ---  ┆ Status         │\n",
       "│ i64         ┆ i64    ┆ str            ┆ str    ┆   ┆ str      ┆ i64      ┆ i32  ┆ ---            │\n",
       "│             ┆        ┆                ┆        ┆   ┆          ┆          ┆      ┆ str            │\n",
       "╞═════════════╪════════╪════════════════╪════════╪═══╪══════════╪══════════╪══════╪════════════════╡\n",
       "│ 1           ┆ 3      ┆ Allison Hill   ┆ male   ┆ … ┆ Q        ┆ 1        ┆ 0    ┆ Survived Child │\n",
       "│ 2           ┆ 1      ┆ Noah Rhodes    ┆ male   ┆ … ┆ S        ┆ 0        ┆ 0    ┆ null           │\n",
       "│ 3           ┆ 3      ┆ Angie          ┆ male   ┆ … ┆ Q        ┆ 1        ┆ 0    ┆ Survived Adult │\n",
       "│             ┆        ┆ Henderson      ┆        ┆   ┆          ┆          ┆      ┆                │\n",
       "│ 4           ┆ 3      ┆ Daniel Wagner  ┆ male   ┆ … ┆ C        ┆ 1        ┆ 0    ┆ Survived Adult │\n",
       "│ 5           ┆ 1      ┆ Cristian       ┆ female ┆ … ┆ C        ┆ 1        ┆ 1    ┆ Survived Adult │\n",
       "│             ┆        ┆ Santos         ┆        ┆   ┆          ┆          ┆      ┆                │\n",
       "│ …           ┆ …      ┆ …              ┆ …      ┆ … ┆ …        ┆ …        ┆ …    ┆ …              │\n",
       "│ 996         ┆ 2      ┆ Brittany Ward  ┆ male   ┆ … ┆ Q        ┆ 1        ┆ 0    ┆ Survived Adult │\n",
       "│ 997         ┆ 2      ┆ Edward Stanley ┆ female ┆ … ┆ C        ┆ 0        ┆ 1    ┆ null           │\n",
       "│ 998         ┆ 3      ┆ Christina      ┆ male   ┆ … ┆ C        ┆ 0        ┆ 0    ┆ null           │\n",
       "│             ┆        ┆ Johnson        ┆        ┆   ┆          ┆          ┆      ┆                │\n",
       "│ 999         ┆ 3      ┆ Edgar Miller   ┆ male   ┆ … ┆ S        ┆ 1        ┆ 0    ┆ Survived Adult │\n",
       "│ 1000        ┆ 1      ┆ Elizabeth      ┆ male   ┆ … ┆ C        ┆ 1        ┆ 0    ┆ Survived Child │\n",
       "│             ┆        ┆ Sanders        ┆        ┆   ┆          ┆          ┆      ┆                │\n",
       "└─────────────┴────────┴────────────────┴────────┴───┴──────────┴──────────┴──────┴────────────────┘"
      ]
     },
     "execution_count": 45,
     "metadata": {},
     "output_type": "execute_result"
    }
   ],
   "source": [
    "titanic1 = titanic.with_columns(\n",
    "    pl.when(pl.col(\"Sex\") == \"male\").then(0).otherwise(1).alias(\"SEXN\"),\n",
    "    pl.when(pl.col(\"Survived\") == 1)\n",
    "    .then(\n",
    "        pl.when(pl.col(\"Age\") < 18)\n",
    "        .then(pl.lit(\"Survived Child\"))\n",
    "        .otherwise(pl.lit(\"Survived Adult\"))\n",
    "    )\n",
    "    .otherwise(None)\n",
    "    .alias(\"Survived Status\"),\n",
    ")\n",
    "titanic1"
   ]
  },
  {
   "cell_type": "code",
   "execution_count": 46,
   "metadata": {},
   "outputs": [
    {
     "data": {
      "text/html": [
       "<div><style>\n",
       ".dataframe > thead > tr,\n",
       ".dataframe > tbody > tr {\n",
       "  text-align: right;\n",
       "  white-space: pre-wrap;\n",
       "}\n",
       "</style>\n",
       "<small>shape: (9, 5)</small><table border=\"1\" class=\"dataframe\"><thead><tr><th>状态</th><th>舱位</th><th>男</th><th>女</th><th>船票费用 (25%, 50%, 75%)</th></tr><tr><td>str</td><td>i64</td><td>u32</td><td>u32</td><td>list[f64]</td></tr></thead><tbody><tr><td>&quot;Survived Child&quot;</td><td>1</td><td>18</td><td>22</td><td>[146.54, 212.93, 298.12]</td></tr><tr><td>&quot;Survived Adult&quot;</td><td>1</td><td>68</td><td>63</td><td>[126.1, 243.04, 345.31]</td></tr><tr><td>&quot;Survived Child&quot;</td><td>3</td><td>17</td><td>17</td><td>[100.38, 341.15, 415.16]</td></tr><tr><td>&quot;Died&quot;</td><td>2</td><td>94</td><td>74</td><td>[133.07, 262.98, 385.6]</td></tr><tr><td>&quot;Survived Child&quot;</td><td>2</td><td>23</td><td>19</td><td>[187.65, 327.63, 413.99]</td></tr><tr><td>&quot;Survived Adult&quot;</td><td>3</td><td>66</td><td>63</td><td>[130.47, 226.86, 335.88]</td></tr><tr><td>&quot;Died&quot;</td><td>1</td><td>96</td><td>88</td><td>[92.42, 220.68, 341.94]</td></tr><tr><td>&quot;Died&quot;</td><td>3</td><td>74</td><td>82</td><td>[162.82, 275.15, 371.6]</td></tr><tr><td>&quot;Survived Adult&quot;</td><td>2</td><td>71</td><td>45</td><td>[118.05, 257.79, 340.97]</td></tr></tbody></table></div>"
      ],
      "text/plain": [
       "shape: (9, 5)\n",
       "┌────────────────┬──────┬─────┬─────┬──────────────────────────┐\n",
       "│ 状态           ┆ 舱位 ┆ 男  ┆ 女  ┆ 船票费用 (25%, 50%, 75%) │\n",
       "│ ---            ┆ ---  ┆ --- ┆ --- ┆ ---                      │\n",
       "│ str            ┆ i64  ┆ u32 ┆ u32 ┆ list[f64]                │\n",
       "╞════════════════╪══════╪═════╪═════╪══════════════════════════╡\n",
       "│ Survived Child ┆ 1    ┆ 18  ┆ 22  ┆ [146.54, 212.93, 298.12] │\n",
       "│ Survived Adult ┆ 1    ┆ 68  ┆ 63  ┆ [126.1, 243.04, 345.31]  │\n",
       "│ Survived Child ┆ 3    ┆ 17  ┆ 17  ┆ [100.38, 341.15, 415.16] │\n",
       "│ Died           ┆ 2    ┆ 94  ┆ 74  ┆ [133.07, 262.98, 385.6]  │\n",
       "│ Survived Child ┆ 2    ┆ 23  ┆ 19  ┆ [187.65, 327.63, 413.99] │\n",
       "│ Survived Adult ┆ 3    ┆ 66  ┆ 63  ┆ [130.47, 226.86, 335.88] │\n",
       "│ Died           ┆ 1    ┆ 96  ┆ 88  ┆ [92.42, 220.68, 341.94]  │\n",
       "│ Died           ┆ 3    ┆ 74  ┆ 82  ┆ [162.82, 275.15, 371.6]  │\n",
       "│ Survived Adult ┆ 2    ┆ 71  ┆ 45  ┆ [118.05, 257.79, 340.97] │\n",
       "└────────────────┴──────┴─────┴─────┴──────────────────────────┘"
      ]
     },
     "execution_count": 46,
     "metadata": {},
     "output_type": "execute_result"
    }
   ],
   "source": [
    "titanic1.group_by(\n",
    "    pl.when(pl.col(\"Survived Status\").is_not_null())\n",
    "    .then(pl.col(\"Survived Status\"))\n",
    "    .otherwise(pl.lit(\"Died\"))\n",
    "    .alias(\"状态\"),\n",
    "    pl.col(\"Pclass\").alias(\"舱位\"),\n",
    ").agg(\n",
    "    (pl.col(\"SEXN\") == 0).sum().alias(\"男\"),\n",
    "    (pl.col(\"SEXN\") == 1).sum().alias(\"女\"),\n",
    "    pl.concat_list(\n",
    "        pl.col(\"Fare\").quantile(0.25),\n",
    "        pl.col(\"Fare\").quantile(0.5),\n",
    "        pl.col(\"Fare\").quantile(0.75),\n",
    "    ).alias(\"船票费用 (25%, 50%, 75%)\"),\n",
    ")"
   ]
  },
  {
   "cell_type": "markdown",
   "metadata": {},
   "source": [
    "## <a id=\"PolarsUtils\">4. 工具函数</a>\n"
   ]
  },
  {
   "cell_type": "markdown",
   "metadata": {},
   "source": [
    "### 4.1 `pl.DataType` 与 `str` 的互转\n",
    "\n",
    "`pl.DataType` 由于是 Rust 内的数据结构，如果我们需要一个 Python 对应的序列化/反序列化方式，需要将其转成字符串处理\n"
   ]
  },
  {
   "cell_type": "code",
   "execution_count": 47,
   "metadata": {},
   "outputs": [
    {
     "data": {
      "text/plain": [
       "'i64'"
      ]
     },
     "execution_count": 47,
     "metadata": {},
     "output_type": "execute_result"
    }
   ],
   "source": [
    "from polars.datatypes import convert\n",
    "\n",
    "int64_str = convert.dtype_to_ffiname(pl.Int64)\n",
    "int64_str"
   ]
  },
  {
   "cell_type": "code",
   "execution_count": 48,
   "metadata": {},
   "outputs": [
    {
     "data": {
      "text/plain": [
       "True"
      ]
     },
     "execution_count": 48,
     "metadata": {},
     "output_type": "execute_result"
    }
   ],
   "source": [
    "int64_dtype = convert.dtype_short_repr_to_dtype(int64_str)\n",
    "int64_dtype == pl.Int64"
   ]
  },
  {
   "cell_type": "markdown",
   "metadata": {},
   "source": [
    "### 4.2 使用 `Arrow` 的 C 指针\n",
    "\n",
    "`Polars` 的底层（向量）是通过 Apache Arrow 进行存储的，如果需要访问指针级别的数据可以通过内部接口 `_export_arrow_to_c` / `_import_arrow_from_c` 实现\n"
   ]
  },
  {
   "cell_type": "code",
   "execution_count": 49,
   "metadata": {},
   "outputs": [
    {
     "name": "stdout",
     "output_type": "stream",
     "text": [
      "Export ok? 1\n",
      "1\n",
      "2\n",
      "3\n",
      "4\n",
      "5\n",
      "6\n",
      "7\n",
      "8\n",
      "9\n",
      "10\n"
     ]
    }
   ],
   "source": [
    "from pyext import simple\n",
    "\n",
    "allocator = simple.SimpleAllocator([1, 2, 3, 4, 5, 6, 7, 8, 9, 10])\n",
    "address = allocator.address_of()\n",
    "simple.test(*address)"
   ]
  },
  {
   "cell_type": "code",
   "execution_count": 50,
   "metadata": {},
   "outputs": [
    {
     "name": "stdout",
     "output_type": "stream",
     "text": [
      "11\n",
      "22\n"
     ]
    }
   ],
   "source": [
    "pl.Series(\"x\", [11, 22])._export_arrow_to_c(*address)\n",
    "simple.test(*address)"
   ]
  },
  {
   "cell_type": "markdown",
   "metadata": {},
   "source": [
    "### 4.3 `shift`\n",
    "\n",
    "`shift` 是 `polars` 中的一个特殊函数，用于将列向上/向下移动，类似于 `pandas` 中的 `shift`，这个函数非常有用，可以用于计算差分，或者计算滞后值等。\n"
   ]
  },
  {
   "cell_type": "code",
   "execution_count": 51,
   "metadata": {},
   "outputs": [
    {
     "data": {
      "text/html": [
       "<div><style>\n",
       ".dataframe > thead > tr,\n",
       ".dataframe > tbody > tr {\n",
       "  text-align: right;\n",
       "  white-space: pre-wrap;\n",
       "}\n",
       "</style>\n",
       "<small>shape: (3, 3)</small><table border=\"1\" class=\"dataframe\"><thead><tr><th>x</th><th>y</th><th>x_shifted</th></tr><tr><td>i64</td><td>i64</td><td>i64</td></tr></thead><tbody><tr><td>1</td><td>4</td><td>2</td></tr><tr><td>2</td><td>5</td><td>3</td></tr><tr><td>3</td><td>6</td><td>null</td></tr></tbody></table></div>"
      ],
      "text/plain": [
       "shape: (3, 3)\n",
       "┌─────┬─────┬───────────┐\n",
       "│ x   ┆ y   ┆ x_shifted │\n",
       "│ --- ┆ --- ┆ ---       │\n",
       "│ i64 ┆ i64 ┆ i64       │\n",
       "╞═════╪═════╪═══════════╡\n",
       "│ 1   ┆ 4   ┆ 2         │\n",
       "│ 2   ┆ 5   ┆ 3         │\n",
       "│ 3   ┆ 6   ┆ null      │\n",
       "└─────┴─────┴───────────┘"
      ]
     },
     "execution_count": 51,
     "metadata": {},
     "output_type": "execute_result"
    }
   ],
   "source": [
    "pl.DataFrame({\"x\": [1, 2, 3], \"y\": [4, 5, 6]}).with_columns(\n",
    "    pl.col(\"x\").shift(-1).alias(\"x_shifted\")\n",
    ")"
   ]
  },
  {
   "cell_type": "markdown",
   "metadata": {},
   "source": [
    "### 4.4 None，Null 和 NaN\n",
    "\n",
    "polars 中的 `None` 和 `Null` 是一样的，都是代表空值，而 `NaN` 是一个真的值，不会影响 `has_nulls` 的结果。`None`/`Null` 不能参与运算。\n"
   ]
  },
  {
   "cell_type": "code",
   "execution_count": 52,
   "metadata": {},
   "outputs": [
    {
     "data": {
      "text/html": [
       "<div><style>\n",
       ".dataframe > thead > tr,\n",
       ".dataframe > tbody > tr {\n",
       "  text-align: right;\n",
       "  white-space: pre-wrap;\n",
       "}\n",
       "</style>\n",
       "<small>shape: (3, 2)</small><table border=\"1\" class=\"dataframe\"><thead><tr><th>x</th><th>y</th></tr><tr><td>f64</td><td>i64</td></tr></thead><tbody><tr><td>1.1</td><td>1</td></tr><tr><td>NaN</td><td>null</td></tr><tr><td>2.2</td><td>2</td></tr></tbody></table></div>"
      ],
      "text/plain": [
       "shape: (3, 2)\n",
       "┌─────┬──────┐\n",
       "│ x   ┆ y    │\n",
       "│ --- ┆ ---  │\n",
       "│ f64 ┆ i64  │\n",
       "╞═════╪══════╡\n",
       "│ 1.1 ┆ 1    │\n",
       "│ NaN ┆ null │\n",
       "│ 2.2 ┆ 2    │\n",
       "└─────┴──────┘"
      ]
     },
     "execution_count": 52,
     "metadata": {},
     "output_type": "execute_result"
    }
   ],
   "source": [
    "df = pl.DataFrame(\n",
    "    {\"x\": [1.1, np.nan, 2.2], \"y\": [1, None, 2]},\n",
    ")\n",
    "df"
   ]
  },
  {
   "cell_type": "code",
   "execution_count": 53,
   "metadata": {},
   "outputs": [
    {
     "data": {
      "text/html": [
       "<div><style>\n",
       ".dataframe > thead > tr,\n",
       ".dataframe > tbody > tr {\n",
       "  text-align: right;\n",
       "  white-space: pre-wrap;\n",
       "}\n",
       "</style>\n",
       "<small>shape: (3, 4)</small><table border=\"1\" class=\"dataframe\"><thead><tr><th>x_is_null</th><th>x_is_nan</th><th>y_is_null</th><th>y_is_nan</th></tr><tr><td>str</td><td>str</td><td>str</td><td>str</td></tr></thead><tbody><tr><td>&quot;1.1 is false&quot;</td><td>&quot;1.1 is false&quot;</td><td>&quot;1 is false&quot;</td><td>&quot;1 is false&quot;</td></tr><tr><td>&quot;NaN is false&quot;</td><td>&quot;NaN is true&quot;</td><td>null</td><td>null</td></tr><tr><td>&quot;2.2 is false&quot;</td><td>&quot;2.2 is false&quot;</td><td>&quot;2 is false&quot;</td><td>&quot;2 is false&quot;</td></tr></tbody></table></div>"
      ],
      "text/plain": [
       "shape: (3, 4)\n",
       "┌──────────────┬──────────────┬────────────┬────────────┐\n",
       "│ x_is_null    ┆ x_is_nan     ┆ y_is_null  ┆ y_is_nan   │\n",
       "│ ---          ┆ ---          ┆ ---        ┆ ---        │\n",
       "│ str          ┆ str          ┆ str        ┆ str        │\n",
       "╞══════════════╪══════════════╪════════════╪════════════╡\n",
       "│ 1.1 is false ┆ 1.1 is false ┆ 1 is false ┆ 1 is false │\n",
       "│ NaN is false ┆ NaN is true  ┆ null       ┆ null       │\n",
       "│ 2.2 is false ┆ 2.2 is false ┆ 2 is false ┆ 2 is false │\n",
       "└──────────────┴──────────────┴────────────┴────────────┘"
      ]
     },
     "execution_count": 53,
     "metadata": {},
     "output_type": "execute_result"
    }
   ],
   "source": [
    "df.select(\n",
    "    (pl.col(\"x\").cast(pl.String) + \" is \" + pl.col(\"x\").is_null()).alias(\"x_is_null\"),\n",
    "    (pl.col(\"x\").cast(pl.String) + \" is \" + pl.col(\"x\").is_nan()).alias(\"x_is_nan\"),\n",
    "    (pl.col(\"y\").cast(pl.String) + \" is \" + pl.col(\"y\").is_null()).alias(\"y_is_null\"),\n",
    "    (pl.col(\"y\").cast(pl.String) + \" is \" + pl.col(\"y\").is_nan()).alias(\"y_is_nan\"),\n",
    ")"
   ]
  },
  {
   "cell_type": "markdown",
   "metadata": {},
   "source": [
    "## 5. Exercises\n",
    "\n",
    "### 5.1 习题一 (🌟)\n",
    "\n",
    "1. 读取 Cars 数据集\n",
    "2. 对奥迪 (Audi) 品牌下不同的车型 (Model) 按照年份 (Year) 进行升序排序\n",
    "3. 添加一列 `Price (CNY)`，将 Price 列的值转换为人民币（按照[8 月 2 日 UTC 上午 1:31 汇率 1 美元 等于 7.24 人民币](https://g.co/kgs/cxE5tVi)）\n",
    "4. 获取不同车型 (Model) 在不同能源类型 (Fuel Type) 下的人民币价格统计量，包括 `mean`:`Price.Mean (CNY)`, `std`:`Price.Std (CNY)`, `range (min~max)`:`Price.Range (CNY)`\n",
    "5. 车型 (Model) 按照字符序，能源类型 (Fuel Type) 按照 [\"Petrol\"->\"燃油\", \"Electric\"->\"纯电\", \"Hybrid\"->\"混动\", \"Diesel\"->\"柴油\"] 排序\n",
    "\n",
    "### 5.2 习题二 (🌟🌟)\n",
    "\n",
    "1. 读取 Warfarin 数据集（正确处理 `.` 为 Null）\n",
    "2. 添加 `Age Group`（Enum） 列，分为 `Young` (0~30], `Middle` (30~50], `Old` (50~)\n",
    "3. 将 `SEX` 转为 `SEXN`，并添加 `SEX` (Enum) 列，`SEXN` 为 `SEX` 的数字表示，`SEX` 为 `SEXN` 的字符表示，`SEXN` 为 `0` 时，`SEX` 为 `F`，`SEXN` 为 `1` 时，`SEX` 为 `M`\n",
    "4. 添加 `Weight Group`（Enum） 列，对于男性(SEXN=1)，分为 `Slim` (0~60], `Normal` (60~80], `Heavy` (80~), 对于女性(SEXN=0)，分为 `Slim` (0~50], `Normal` (50~70], `Heavy` (70~)\n",
    "5. 获取每个 `Age Group` 中子分组的数量，包含以下信息: `Male`, `Female`, `Slim`, `Normal`, `Heavy`, `Total` 并移除多余的列。最终结果按照 `Age Group` 升序排序\n",
    "\n",
    "### 5.3 习题三 (🌟🌟🌟)\n",
    "\n",
    "1. 读取 Warfarin 数据集（正确处理 `.` 为 Null）\n",
    "2. 移除 `DVID` = 2 的行后移除 `DVID` 列\n",
    "3. 补充一列 `NEW.IND`，表示这一行开始是一个新的 `ID`，1 表示 True，0 表示 False\n",
    "4. 以 `NEW.IND` 为基准，将数据集中对于的协变量信息移除 (`WT`, `AGE`, `SEX`, `DOSE`)，全部设为 None\n",
    "5. 为 `ID` 为 3 的倍数的受试者添加观测点，观测点为 TIME=0 ～ 120 的 1000 个等间距点，有序插入至原有的时间点，需要补充的列信息为 MDV=1，EVID=0，其余为 None\n"
   ]
  }
 ],
 "metadata": {
  "kernelspec": {
   "display_name": ".venv",
   "language": "python",
   "name": "python3"
  },
  "language_info": {
   "codemirror_mode": {
    "name": "ipython",
    "version": 3
   },
   "file_extension": ".py",
   "mimetype": "text/x-python",
   "name": "python",
   "nbconvert_exporter": "python",
   "pygments_lexer": "ipython3",
   "version": "3.10.8"
  }
 },
 "nbformat": 4,
 "nbformat_minor": 2
}
