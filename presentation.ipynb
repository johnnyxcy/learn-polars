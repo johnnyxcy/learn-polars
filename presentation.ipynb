{
 "cells": [
  {
   "cell_type": "markdown",
   "metadata": {},
   "source": [
    "# Polars 入门\n",
    "\n",
    "![Polars](https://raw.githubusercontent.com/pola-rs/polars-static/master/banner/polars_github_banner.svg)\n",
    "\n",
    "`Polars` 是一个用于数据操作的 Rust 库，它提供了类似于 `Pandas` 的 API，但是比 `Pandas` `更快。Polars` 也提供了其他运行时的包，可以在 Python/NodeJS 中使用 `Polars`。\n",
    "\n",
    "在这个笔记本中，我们将主要学习如何在 Python 中使用 `Polars`。NodeJS 接口基本一致，可以\n",
    "\n",
    "## 安装\n",
    "\n",
    "### Python (via PyPI)\n",
    "\n",
    "```bash\n",
    "pip install polars\n",
    "```\n",
    "\n",
    "### NodeJS (via npm)\n",
    "\n",
    "```bash\n",
    "npm install nodejs-polars\n",
    "```\n"
   ]
  },
  {
   "cell_type": "code",
   "execution_count": 1,
   "metadata": {},
   "outputs": [],
   "source": [
    "import polars as pl\n",
    "import pandas as pd\n",
    "import dataclasses"
   ]
  },
  {
   "cell_type": "markdown",
   "metadata": {
    "vscode": {
     "languageId": "plaintext"
    }
   },
   "source": [
    "## 1. 初始化构造\n",
    "\n",
    "`Polars` 构造函数的入参中我们需要关注的一般只有两个，`data` 和 `schema`，可以理解为 `Pandas` 构造函数中的 `data` 和 `dtypes`。\n",
    "\n",
    "其中 `data` 支持 `dict`, `Sequence`, `ndarray`, `Series`, or `pandas.DataFrame`。与 `Pandas` 不同的是不支持从 `records`/`tuple` 构建的方式。\n"
   ]
  },
  {
   "cell_type": "code",
   "execution_count": 2,
   "metadata": {},
   "outputs": [
    {
     "data": {
      "text/html": [
       "<div>\n",
       "<style scoped>\n",
       "    .dataframe tbody tr th:only-of-type {\n",
       "        vertical-align: middle;\n",
       "    }\n",
       "\n",
       "    .dataframe tbody tr th {\n",
       "        vertical-align: top;\n",
       "    }\n",
       "\n",
       "    .dataframe thead th {\n",
       "        text-align: right;\n",
       "    }\n",
       "</style>\n",
       "<table border=\"1\" class=\"dataframe\">\n",
       "  <thead>\n",
       "    <tr style=\"text-align: right;\">\n",
       "      <th></th>\n",
       "      <th>x</th>\n",
       "      <th>y</th>\n",
       "      <th>z</th>\n",
       "    </tr>\n",
       "  </thead>\n",
       "  <tbody>\n",
       "    <tr>\n",
       "      <th>0</th>\n",
       "      <td>0.1</td>\n",
       "      <td>1</td>\n",
       "      <td>hello</td>\n",
       "    </tr>\n",
       "    <tr>\n",
       "      <th>1</th>\n",
       "      <td>0.2</td>\n",
       "      <td>2</td>\n",
       "      <td>pandas</td>\n",
       "    </tr>\n",
       "  </tbody>\n",
       "</table>\n",
       "</div>"
      ],
      "text/plain": [
       "     x  y       z\n",
       "0  0.1  1   hello\n",
       "1  0.2  2  pandas"
      ]
     },
     "execution_count": 2,
     "metadata": {},
     "output_type": "execute_result"
    }
   ],
   "source": [
    "@dataclasses.dataclass\n",
    "class Record:\n",
    "    x: float \n",
    "    y: int \n",
    "    z: str \n",
    "\n",
    "pd.DataFrame([Record(x=0.1, y=1, z=\"hello\"), Record(x=0.2, y=2, z=\"pandas\")])"
   ]
  },
  {
   "cell_type": "markdown",
   "metadata": {},
   "source": [
    "详细的构造函数签名可以参考 `DataFrame.__init__`\n"
   ]
  },
  {
   "cell_type": "code",
   "execution_count": 3,
   "metadata": {},
   "outputs": [
    {
     "name": "stdout",
     "output_type": "stream",
     "text": [
      "\n",
      "    Two-dimensional data structure representing data as a table with rows and columns.\n",
      "\n",
      "    Parameters\n",
      "    ----------\n",
      "    data : dict, Sequence, ndarray, Series, or pandas.DataFrame\n",
      "        Two-dimensional data in various forms; dict input must contain Sequences,\n",
      "        Generators, or a `range`. Sequence may contain Series or other Sequences.\n",
      "    schema : Sequence of str, (str,DataType) pairs, or a {str:DataType,} dict\n",
      "        The schema of the resulting DataFrame. The schema may be declared in several\n",
      "        ways:\n",
      "\n",
      "        * As a dict of {name:type} pairs; if type is None, it will be auto-inferred.\n",
      "        * As a list of column names; in this case types are automatically inferred.\n",
      "        * As a list of (name,type) pairs; this is equivalent to the dictionary form.\n",
      "\n",
      "        If you supply a list of column names that does not match the names in the\n",
      "        underlying data, the names given here will overwrite them. The number\n",
      "        of names given in the schema should match the underlying data dimensions.\n",
      "\n",
      "        If set to `None` (default), the schema is inferred from the data.\n",
      "    schema_overrides : dict, default None\n",
      "        Support type specification or override of one or more columns; note that\n",
      "        any dtypes inferred from the schema param will be overridden.\n",
      "\n",
      "        The number of entries in the schema should match the underlying data\n",
      "        dimensions, unless a sequence of dictionaries is being passed, in which case\n",
      "        a *partial* schema can be declared to prevent specific fields from being loaded.\n",
      "    strict : bool, default True\n",
      "        Throw an error if any `data` value does not exactly match the given or inferred\n",
      "        data type for that column. If set to `False`, values that do not match the data\n",
      "        type are cast to that data type or, if casting is not possible, set to null\n",
      "        instead.\n",
      "    orient : {'col', 'row'}, default None\n",
      "        Whether to interpret two-dimensional data as columns or as rows. If None,\n",
      "        the orientation is inferred by matching the columns and data dimensions. If\n",
      "        this does not yield conclusive results, column orientation is used.\n",
      "    infer_schema_length : int or None\n",
      "        The maximum number of rows to scan for schema inference. If set to `None`, the\n",
      "        full data may be scanned *(this can be slow)*. This parameter only applies if\n",
      "        the input data is a sequence or generator of rows; other input is read as-is.\n",
      "    nan_to_null : bool, default False\n",
      "        If the data comes from one or more numpy arrays, can optionally convert input\n",
      "        data np.nan values to null instead. This is a no-op for all other input data.\n",
      "\n",
      "    Notes\n",
      "    -----\n",
      "    Polars explicitly does not support subclassing of its core data types. See\n",
      "    the following GitHub issue for possible workarounds:\n",
      "    https://github.com/pola-rs/polars/issues/2846#issuecomment-1711799869\n",
      "\n",
      "    Examples\n",
      "    --------\n",
      "    Constructing a DataFrame from a dictionary:\n",
      "\n",
      "    >>> data = {\"a\": [1, 2], \"b\": [3, 4]}\n",
      "    >>> df = pl.DataFrame(data)\n",
      "    >>> df\n",
      "    shape: (2, 2)\n",
      "    ┌─────┬─────┐\n",
      "    │ a   ┆ b   │\n",
      "    │ --- ┆ --- │\n",
      "    │ i64 ┆ i64 │\n",
      "    ╞═════╪═════╡\n",
      "    │ 1   ┆ 3   │\n",
      "    │ 2   ┆ 4   │\n",
      "    └─────┴─────┘\n",
      "\n",
      "    Notice that the dtypes are automatically inferred as polars Int64:\n",
      "\n",
      "    >>> df.dtypes\n",
      "    [Int64, Int64]\n",
      "\n",
      "    To specify a more detailed/specific frame schema you can supply the `schema`\n",
      "    parameter with a dictionary of (name,dtype) pairs...\n",
      "\n",
      "    >>> data = {\"col1\": [0, 2], \"col2\": [3, 7]}\n",
      "    >>> df2 = pl.DataFrame(data, schema={\"col1\": pl.Float32, \"col2\": pl.Int64})\n",
      "    >>> df2\n",
      "    shape: (2, 2)\n",
      "    ┌──────┬──────┐\n",
      "    │ col1 ┆ col2 │\n",
      "    │ ---  ┆ ---  │\n",
      "    │ f32  ┆ i64  │\n",
      "    ╞══════╪══════╡\n",
      "    │ 0.0  ┆ 3    │\n",
      "    │ 2.0  ┆ 7    │\n",
      "    └──────┴──────┘\n",
      "\n",
      "    ...a sequence of (name,dtype) pairs...\n",
      "\n",
      "    >>> data = {\"col1\": [1, 2], \"col2\": [3, 4]}\n",
      "    >>> df3 = pl.DataFrame(data, schema=[(\"col1\", pl.Float32), (\"col2\", pl.Int64)])\n",
      "    >>> df3\n",
      "    shape: (2, 2)\n",
      "    ┌──────┬──────┐\n",
      "    │ col1 ┆ col2 │\n",
      "    │ ---  ┆ ---  │\n",
      "    │ f32  ┆ i64  │\n",
      "    ╞══════╪══════╡\n",
      "    │ 1.0  ┆ 3    │\n",
      "    │ 2.0  ┆ 4    │\n",
      "    └──────┴──────┘\n",
      "\n",
      "    ...or a list of typed Series.\n",
      "\n",
      "    >>> data = [\n",
      "    ...     pl.Series(\"col1\", [1, 2], dtype=pl.Float32),\n",
      "    ...     pl.Series(\"col2\", [3, 4], dtype=pl.Int64),\n",
      "    ... ]\n",
      "    >>> df4 = pl.DataFrame(data)\n",
      "    >>> df4\n",
      "    shape: (2, 2)\n",
      "    ┌──────┬──────┐\n",
      "    │ col1 ┆ col2 │\n",
      "    │ ---  ┆ ---  │\n",
      "    │ f32  ┆ i64  │\n",
      "    ╞══════╪══════╡\n",
      "    │ 1.0  ┆ 3    │\n",
      "    │ 2.0  ┆ 4    │\n",
      "    └──────┴──────┘\n",
      "\n",
      "    Constructing a DataFrame from a numpy ndarray, specifying column names:\n",
      "\n",
      "    >>> import numpy as np\n",
      "    >>> data = np.array([(1, 2), (3, 4)], dtype=np.int64)\n",
      "    >>> df5 = pl.DataFrame(data, schema=[\"a\", \"b\"], orient=\"col\")\n",
      "    >>> df5\n",
      "    shape: (2, 2)\n",
      "    ┌─────┬─────┐\n",
      "    │ a   ┆ b   │\n",
      "    │ --- ┆ --- │\n",
      "    │ i64 ┆ i64 │\n",
      "    ╞═════╪═════╡\n",
      "    │ 1   ┆ 3   │\n",
      "    │ 2   ┆ 4   │\n",
      "    └─────┴─────┘\n",
      "\n",
      "    Constructing a DataFrame from a list of lists, row orientation specified:\n",
      "\n",
      "    >>> data = [[1, 2, 3], [4, 5, 6]]\n",
      "    >>> df6 = pl.DataFrame(data, schema=[\"a\", \"b\", \"c\"], orient=\"row\")\n",
      "    >>> df6\n",
      "    shape: (2, 3)\n",
      "    ┌─────┬─────┬─────┐\n",
      "    │ a   ┆ b   ┆ c   │\n",
      "    │ --- ┆ --- ┆ --- │\n",
      "    │ i64 ┆ i64 ┆ i64 │\n",
      "    ╞═════╪═════╪═════╡\n",
      "    │ 1   ┆ 2   ┆ 3   │\n",
      "    │ 4   ┆ 5   ┆ 6   │\n",
      "    └─────┴─────┴─────┘\n",
      "    \n"
     ]
    }
   ],
   "source": [
    "print(pl.DataFrame.__doc__)"
   ]
  },
  {
   "cell_type": "code",
   "execution_count": 4,
   "metadata": {},
   "outputs": [
    {
     "data": {
      "text/html": [
       "<div><style>\n",
       ".dataframe > thead > tr,\n",
       ".dataframe > tbody > tr {\n",
       "  text-align: right;\n",
       "  white-space: pre-wrap;\n",
       "}\n",
       "</style>\n",
       "<small>shape: (3, 3)</small><table border=\"1\" class=\"dataframe\"><thead><tr><th>x</th><th>y</th><th>z</th></tr><tr><td>i64</td><td>null</td><td>str</td></tr></thead><tbody><tr><td>1</td><td>null</td><td>&quot;female&quot;</td></tr><tr><td>2</td><td>null</td><td>&quot;male&quot;</td></tr><tr><td>3</td><td>null</td><td>&quot;female&quot;</td></tr></tbody></table></div>"
      ],
      "text/plain": [
       "shape: (3, 3)\n",
       "┌─────┬──────┬────────┐\n",
       "│ x   ┆ y    ┆ z      │\n",
       "│ --- ┆ ---  ┆ ---    │\n",
       "│ i64 ┆ null ┆ str    │\n",
       "╞═════╪══════╪════════╡\n",
       "│ 1   ┆ null ┆ female │\n",
       "│ 2   ┆ null ┆ male   │\n",
       "│ 3   ┆ null ┆ female │\n",
       "└─────┴──────┴────────┘"
      ]
     },
     "execution_count": 4,
     "metadata": {},
     "output_type": "execute_result"
    }
   ],
   "source": [
    "# Simple\n",
    "pl.DataFrame({\n",
    "    \"x\": [1 , 2, 3],\n",
    "    \"y\": None,\n",
    "    \"z\": [\"female\", \"male\", \"female\"],\n",
    "})"
   ]
  },
  {
   "cell_type": "markdown",
   "metadata": {},
   "source": [
    "`schema` 支持 `list[str]` / `list[tuple[str, pl.DataTypeClass]]` / `dict[str, pl.DataTypeClass]`，不支持从 `str` 构建类型\n",
    "\n",
    "> 某些情况下我们必须要从 `str` 构建类型的话可以采用 `polars` 提供的工具函数 `pl.datatypes.convert.dtype_to_ffiname`，具体见 [工具函数](#PolarsUtils)\n",
    "\n",
    "需要注意的是 `pl.Categorical` 和 `pl.Enum` 这两个类型，类似于 `pd.Categorical`，这两个类型都是代表分类变量的，但是区别在于\n",
    "\n",
    "1. `polars` 强制要求 `Categorical`/`Enum` 类型先是字符串类型，否则 `raise`\n",
    "2. Categorical 和 Enum 存在区别，`Categorical` 在构建时可以不指定分类级别，然而 Enum 必须要指定\n",
    "3. Categorical 支持通过字符序/出现先后顺序指定大小，Enum 通过指定的级别的索引指定大小\n"
   ]
  },
  {
   "cell_type": "code",
   "execution_count": 5,
   "metadata": {},
   "outputs": [
    {
     "name": "stdout",
     "output_type": "stream",
     "text": [
      "pl.Categorical\n",
      "================\n",
      "\n",
      "    A categorical encoding of a set of strings.\n",
      "\n",
      "    Parameters\n",
      "    ----------\n",
      "    ordering : {'lexical', 'physical'}\n",
      "        Ordering by order of appearance (`'physical'`, default)\n",
      "        or string value (`'lexical'`).\n",
      "    \n",
      "pl.Enum\n",
      "================\n",
      "\n",
      "    A fixed set categorical encoding of a set of strings.\n",
      "\n",
      "    .. warning::\n",
      "        This functionality is considered **unstable**.\n",
      "        It is a work-in-progress feature and may not always work as expected.\n",
      "        It may be changed at any point without it being considered a breaking change.\n",
      "\n",
      "    Parameters\n",
      "    ----------\n",
      "    categories\n",
      "        The categories in the dataset. Categories must be strings.\n",
      "    \n"
     ]
    }
   ],
   "source": [
    "print(\"pl.Categorical\")\n",
    "print(\"================\")\n",
    "print(pl.Categorical.__doc__)\n",
    "\n",
    "print(\"pl.Enum\")\n",
    "print(\"================\")\n",
    "print(pl.Enum.__doc__)"
   ]
  },
  {
   "cell_type": "code",
   "execution_count": 6,
   "metadata": {},
   "outputs": [
    {
     "data": {
      "text/html": [
       "<div><style>\n",
       ".dataframe > thead > tr,\n",
       ".dataframe > tbody > tr {\n",
       "  text-align: right;\n",
       "  white-space: pre-wrap;\n",
       "}\n",
       "</style>\n",
       "<small>shape: (4, 4)</small><table border=\"1\" class=\"dataframe\"><thead><tr><th>SEX</th><th>ID</th><th>WEIGHT</th><th>GROUP</th></tr><tr><td>cat</td><td>i8</td><td>f64</td><td>enum</td></tr></thead><tbody><tr><td>&quot;F&quot;</td><td>1</td><td>70.2</td><td>&quot;B&quot;</td></tr><tr><td>&quot;M&quot;</td><td>2</td><td>88.8</td><td>&quot;A&quot;</td></tr><tr><td>&quot;M&quot;</td><td>2</td><td>49.3</td><td>&quot;A&quot;</td></tr><tr><td>&quot;F&quot;</td><td>3</td><td>55.0</td><td>&quot;B&quot;</td></tr></tbody></table></div>"
      ],
      "text/plain": [
       "shape: (4, 4)\n",
       "┌─────┬─────┬────────┬───────┐\n",
       "│ SEX ┆ ID  ┆ WEIGHT ┆ GROUP │\n",
       "│ --- ┆ --- ┆ ---    ┆ ---   │\n",
       "│ cat ┆ i8  ┆ f64    ┆ enum  │\n",
       "╞═════╪═════╪════════╪═══════╡\n",
       "│ F   ┆ 1   ┆ 70.2   ┆ B     │\n",
       "│ M   ┆ 2   ┆ 88.8   ┆ A     │\n",
       "│ M   ┆ 2   ┆ 49.3   ┆ A     │\n",
       "│ F   ┆ 3   ┆ 55.0   ┆ B     │\n",
       "└─────┴─────┴────────┴───────┘"
      ]
     },
     "execution_count": 6,
     "metadata": {},
     "output_type": "execute_result"
    }
   ],
   "source": [
    "pl.DataFrame(\n",
    "  {\n",
    "    \"SEX\": [\"F\", \"M\", \"M\", \"F\"],\n",
    "    \"ID\": [1, 2, 2, 3],\n",
    "    \"WEIGHT\": [70.2, 88.8, 49.3, 55],\n",
    "    \"GROUP\": [\"B\", \"A\", \"A\", \"B\"],\n",
    "  },\n",
    "  {\n",
    "    \"SEX\": pl.Categorical,\n",
    "    \"ID\": pl.Int8,\n",
    "    \"WEIGHT\": float,\n",
    "    \"GROUP\": pl.Enum([\"A\", \"B\"]),\n",
    "  }\n",
    ")\n"
   ]
  },
  {
   "cell_type": "markdown",
   "metadata": {},
   "source": [
    "## 数据处理\n",
    "\n",
    "`polars` 和 `pandas` 最大的区别（或者说我最关心的差异）是 `polars` 的所有数据处理都会返回一份拷贝，而 `pandas` 会返回视图。这样的设计使得 `polars` 更加安全，同时由于 Rust 原生的 Ownership 机制，使得 `polars` 的性能并不会收到太大影响。同时这样的特性可以有效的帮助开发者避免一些潜在的错误，特别是在一些存在数据处理，但是并不想影响原数据的情况下，如多线程环境，函数式编程，底层算法等。\n"
   ]
  },
  {
   "cell_type": "code",
   "execution_count": 7,
   "metadata": {},
   "outputs": [],
   "source": [
    "example = {\n",
    "    \"a\": [1, 2, 3, 4, 5],\n",
    "    \"b\": [5.5, 4.4, 3.3, 2.2, 1.1],\n",
    "    \"c\": [\"a\", \"b\", \"c\", \"d\", \"e\"]\n",
    "}\n",
    "example_pl = pl.DataFrame(example)\n",
    "example_pd = pd.DataFrame(example)\n"
   ]
  },
  {
   "cell_type": "code",
   "execution_count": 8,
   "metadata": {},
   "outputs": [],
   "source": [
    "def some_func(df: pl.DataFrame | pd.DataFrame) -> None:\n",
    "    df[\"a\"] = 123"
   ]
  },
  {
   "cell_type": "code",
   "execution_count": 9,
   "metadata": {},
   "outputs": [
    {
     "data": {
      "text/html": [
       "<div>\n",
       "<style scoped>\n",
       "    .dataframe tbody tr th:only-of-type {\n",
       "        vertical-align: middle;\n",
       "    }\n",
       "\n",
       "    .dataframe tbody tr th {\n",
       "        vertical-align: top;\n",
       "    }\n",
       "\n",
       "    .dataframe thead th {\n",
       "        text-align: right;\n",
       "    }\n",
       "</style>\n",
       "<table border=\"1\" class=\"dataframe\">\n",
       "  <thead>\n",
       "    <tr style=\"text-align: right;\">\n",
       "      <th></th>\n",
       "      <th>a</th>\n",
       "      <th>b</th>\n",
       "      <th>c</th>\n",
       "    </tr>\n",
       "  </thead>\n",
       "  <tbody>\n",
       "    <tr>\n",
       "      <th>0</th>\n",
       "      <td>123</td>\n",
       "      <td>5.5</td>\n",
       "      <td>a</td>\n",
       "    </tr>\n",
       "    <tr>\n",
       "      <th>1</th>\n",
       "      <td>123</td>\n",
       "      <td>4.4</td>\n",
       "      <td>b</td>\n",
       "    </tr>\n",
       "    <tr>\n",
       "      <th>2</th>\n",
       "      <td>123</td>\n",
       "      <td>3.3</td>\n",
       "      <td>c</td>\n",
       "    </tr>\n",
       "    <tr>\n",
       "      <th>3</th>\n",
       "      <td>123</td>\n",
       "      <td>2.2</td>\n",
       "      <td>d</td>\n",
       "    </tr>\n",
       "    <tr>\n",
       "      <th>4</th>\n",
       "      <td>123</td>\n",
       "      <td>1.1</td>\n",
       "      <td>e</td>\n",
       "    </tr>\n",
       "  </tbody>\n",
       "</table>\n",
       "</div>"
      ],
      "text/plain": [
       "     a    b  c\n",
       "0  123  5.5  a\n",
       "1  123  4.4  b\n",
       "2  123  3.3  c\n",
       "3  123  2.2  d\n",
       "4  123  1.1  e"
      ]
     },
     "execution_count": 9,
     "metadata": {},
     "output_type": "execute_result"
    }
   ],
   "source": [
    "some_func(example_pd)\n",
    "example_pd # Changed！很危险"
   ]
  },
  {
   "cell_type": "code",
   "execution_count": 10,
   "metadata": {},
   "outputs": [
    {
     "ename": "TypeError",
     "evalue": "DataFrame object does not support `Series` assignment by index\n\nUse `DataFrame.with_columns`.",
     "output_type": "error",
     "traceback": [
      "\u001b[0;31m---------------------------------------------------------------------------\u001b[0m",
      "\u001b[0;31mTypeError\u001b[0m                                 Traceback (most recent call last)",
      "\u001b[0;32m/var/folders/2_/bpcv27316gj3zrn3lmyn8qv00000gn/T/ipykernel_2538/607437661.py\u001b[0m in \u001b[0;36m?\u001b[0;34m()\u001b[0m\n\u001b[1;32m      1\u001b[0m \u001b[0;31m# 会报错\u001b[0m\u001b[0;34m\u001b[0m\u001b[0;34m\u001b[0m\u001b[0m\n\u001b[0;32m----> 2\u001b[0;31m \u001b[0msome_func\u001b[0m\u001b[0;34m(\u001b[0m\u001b[0mexample_pl\u001b[0m\u001b[0;34m)\u001b[0m\u001b[0;34m\u001b[0m\u001b[0;34m\u001b[0m\u001b[0m\n\u001b[0m",
      "\u001b[0;32m/var/folders/2_/bpcv27316gj3zrn3lmyn8qv00000gn/T/ipykernel_2538/3826693680.py\u001b[0m in \u001b[0;36m?\u001b[0;34m(df)\u001b[0m\n\u001b[1;32m      1\u001b[0m \u001b[0;32mdef\u001b[0m \u001b[0msome_func\u001b[0m\u001b[0;34m(\u001b[0m\u001b[0mdf\u001b[0m\u001b[0;34m:\u001b[0m \u001b[0mpl\u001b[0m\u001b[0;34m.\u001b[0m\u001b[0mDataFrame\u001b[0m \u001b[0;34m|\u001b[0m \u001b[0mpd\u001b[0m\u001b[0;34m.\u001b[0m\u001b[0mDataFrame\u001b[0m\u001b[0;34m)\u001b[0m \u001b[0;34m->\u001b[0m \u001b[0;32mNone\u001b[0m\u001b[0;34m:\u001b[0m\u001b[0;34m\u001b[0m\u001b[0;34m\u001b[0m\u001b[0m\n\u001b[0;32m----> 2\u001b[0;31m     \u001b[0mdf\u001b[0m\u001b[0;34m[\u001b[0m\u001b[0;34m\"a\"\u001b[0m\u001b[0;34m]\u001b[0m \u001b[0;34m=\u001b[0m \u001b[0;36m123\u001b[0m\u001b[0;34m\u001b[0m\u001b[0;34m\u001b[0m\u001b[0m\n\u001b[0m",
      "\u001b[0;32m~/Workspace/mas/tutorial/polars-intro/.venv/lib/python3.10/site-packages/polars/dataframe/frame.py\u001b[0m in \u001b[0;36m?\u001b[0;34m(self, key, value)\u001b[0m\n\u001b[1;32m   1207\u001b[0m             msg = (\n\u001b[1;32m   1208\u001b[0m                 \u001b[0;34m\"DataFrame object does not support `Series` assignment by index\"\u001b[0m\u001b[0;34m\u001b[0m\u001b[0;34m\u001b[0m\u001b[0m\n\u001b[1;32m   1209\u001b[0m                 \u001b[0;34m\"\\n\\nUse `DataFrame.with_columns`.\"\u001b[0m\u001b[0;34m\u001b[0m\u001b[0;34m\u001b[0m\u001b[0m\n\u001b[1;32m   1210\u001b[0m             )\n\u001b[0;32m-> 1211\u001b[0;31m             \u001b[0;32mraise\u001b[0m \u001b[0mTypeError\u001b[0m\u001b[0;34m(\u001b[0m\u001b[0mmsg\u001b[0m\u001b[0;34m)\u001b[0m\u001b[0;34m\u001b[0m\u001b[0;34m\u001b[0m\u001b[0m\n\u001b[0m\u001b[1;32m   1212\u001b[0m \u001b[0;34m\u001b[0m\u001b[0m\n\u001b[1;32m   1213\u001b[0m         \u001b[0;31m# df[[\"C\", \"D\"]]\u001b[0m\u001b[0;34m\u001b[0m\u001b[0;34m\u001b[0m\u001b[0m\n\u001b[1;32m   1214\u001b[0m         \u001b[0;32melif\u001b[0m \u001b[0misinstance\u001b[0m\u001b[0;34m(\u001b[0m\u001b[0mkey\u001b[0m\u001b[0;34m,\u001b[0m \u001b[0mlist\u001b[0m\u001b[0;34m)\u001b[0m\u001b[0;34m:\u001b[0m\u001b[0;34m\u001b[0m\u001b[0;34m\u001b[0m\u001b[0m\n",
      "\u001b[0;31mTypeError\u001b[0m: DataFrame object does not support `Series` assignment by index\n\nUse `DataFrame.with_columns`."
     ]
    }
   ],
   "source": [
    "%%capture\n",
    "# 会报错，赞 👍\n",
    "some_func(example_pl)"
   ]
  },
  {
   "cell_type": "markdown",
   "metadata": {},
   "source": [
    "使用 `polars` 数据处理和 R 的 `dplyr` 风格很相似，可以通过 `DataFrame` 的方法链式调用，或者通过 `pl` 模块提供的函数式编程接口。大部分的方法和 SQL 中的操作是一一对应的，如 `select`, `filter`, `groupby`, `join`, `sort`, `agg`, `pivot`, `explode` 等等。具体的方法可以参考 [Python API 文档](https://docs.pola.rs/api/python/stable/reference/dataframe/modify_select.html) 或者 [NodeJS API 文档](https://pola-rs.github.io/nodejs-polars/interfaces/pl.DataFrame-1.html)。本文档会主要介绍一些常用的方法。\n"
   ]
  },
  {
   "cell_type": "markdown",
   "metadata": {},
   "source": [
    "## <a id=\"PolarsUtils\">工具函数</a>\n"
   ]
  },
  {
   "cell_type": "markdown",
   "metadata": {},
   "source": [
    "1. `pl.DataType` 与 `str` 的互转\n",
    "\n",
    "`pl.DataType` 由于是 Rust 内的数据结构，如果我们需要一个 Python 对应的序列化/反序列化方式，需要将其转成字符串处理\n"
   ]
  },
  {
   "cell_type": "code",
   "execution_count": 11,
   "metadata": {},
   "outputs": [
    {
     "data": {
      "text/plain": [
       "'i64'"
      ]
     },
     "execution_count": 11,
     "metadata": {},
     "output_type": "execute_result"
    }
   ],
   "source": [
    "from polars.datatypes import convert\n",
    "\n",
    "int64_str = convert.dtype_to_ffiname(pl.Int64)\n",
    "int64_str"
   ]
  },
  {
   "cell_type": "code",
   "execution_count": 12,
   "metadata": {},
   "outputs": [
    {
     "data": {
      "text/plain": [
       "True"
      ]
     },
     "execution_count": 12,
     "metadata": {},
     "output_type": "execute_result"
    }
   ],
   "source": [
    "int64_dtype = convert.dtype_short_repr_to_dtype(int64_str)\n",
    "int64_dtype == pl.Int64"
   ]
  },
  {
   "cell_type": "markdown",
   "metadata": {},
   "source": [
    "2. 使用 `Arrow` 的 C 指针\n",
    "\n",
    "`Polars` 的底层（向量）是通过 Apache Arrow 进行存储的，如果需要访问指针级别的数据可以通过内部接口 `_export_arrow_to_c` / `_import_arrow_from_c` 实现\n"
   ]
  },
  {
   "cell_type": "code",
   "execution_count": 13,
   "metadata": {},
   "outputs": [
    {
     "name": "stdout",
     "output_type": "stream",
     "text": [
      "Export ok? 1\n",
      "1\n",
      "2\n",
      "3\n",
      "4\n",
      "5\n",
      "6\n",
      "7\n",
      "8\n",
      "9\n",
      "10\n"
     ]
    }
   ],
   "source": [
    "from pyext import simple\n",
    "allocator = simple.SimpleAllocator([1, 2, 3, 4, 5, 6, 7, 8, 9, 10])\n",
    "address = allocator.address_of()\n",
    "simple.test(*address)"
   ]
  },
  {
   "cell_type": "code",
   "execution_count": 14,
   "metadata": {},
   "outputs": [
    {
     "name": "stdout",
     "output_type": "stream",
     "text": [
      "11\n",
      "22\n"
     ]
    }
   ],
   "source": [
    "pl.Series(\"x\", [11, 22])._export_arrow_to_c(*address)\n",
    "simple.test(*address)"
   ]
  }
 ],
 "metadata": {
  "kernelspec": {
   "display_name": ".venv",
   "language": "python",
   "name": "python3"
  },
  "language_info": {
   "codemirror_mode": {
    "name": "ipython",
    "version": 3
   },
   "file_extension": ".py",
   "mimetype": "text/x-python",
   "name": "python",
   "nbconvert_exporter": "python",
   "pygments_lexer": "ipython3",
   "version": "3.10.8"
  }
 },
 "nbformat": 4,
 "nbformat_minor": 2
}
